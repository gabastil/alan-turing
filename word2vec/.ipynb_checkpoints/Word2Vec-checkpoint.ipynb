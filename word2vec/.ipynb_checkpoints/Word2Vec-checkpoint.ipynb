{
 "cells": [
  {
   "cell_type": "markdown",
   "metadata": {
    "slideshow": {
     "slide_type": "slide"
    },
    "tags": [
     "introduction",
     "contents"
    ]
   },
   "source": [
    "<a id='phase-0'></a>\n",
    "# Harvesting Meaning from Text: A Quick Demonstration on Word2Vec\n",
    "\n",
    "--- \n",
    "<span class='bold'>Glenn Abastillas</span> | March 2020\n",
    "\n",
    "<img src=\"./images/splash_image.png\" style=\"height: 40%; width: 40%; float: right; margin-left: 1em;\" />\n",
    "\n",
    "This notebook goes over an example implementation of Word2Vec and some existing packages that perform Word2Vec training. ([Start](#phase-1))\n",
    "\n",
    "### Contents\n",
    "  1. [Preliminary Steps](#phase-1) : Loading and preprocessing the text data\n",
    "      \n",
    "  2. [Background](#phase-2) : Brief overview on Word2Vec and building the model\n",
    "      \n",
    "  3. [Some Examples](#phase-3) : Looking at some example word vectors by similarity\n",
    "  \n",
    "  4. [Visualizating Vectors](#phase-4) : Visualizing the model's vectors\n",
    "  \n",
    "  5. [Key Takeaways](#section-5) : Things to note and remember\n",
    "\n",
    "<br>\n",
    "<br>\n",
    "\n",
    "<a id='phase-1'></a><a id=\"section-1\"></a></span>\n",
    "\n",
    "---\n",
    "\n",
    "<span class='bold'>Section</span> [Previous](#phase-1) &bull; [Next](#phase-2) &bull; [1.0 Load Packages](#section-1) &bull; [1.1 Visual Inspection](#section-1-1) &bull; [1.2 Slimming Down](#section-1-2) &bull; [1.3 Subsampling](#section-1-3) &bull; [1.4 Encoding Tokens](#section-1-4)\n",
    "\n",
    "# Preliminary Steps \n",
    "\n",
    "\n",
    "## <span class='phase-1'>1.0 Load Packages \n",
    "First we import packages and clean the data."
   ]
  },
  {
   "cell_type": "code",
   "execution_count": 1,
   "metadata": {},
   "outputs": [
    {
     "data": {
      "text/html": [
       "<!DOCTYPE html>\n",
       "<html>\n",
       "<head>\n",
       "    <title>CSS Stylesheet for Jupyter</title>\n",
       "    <style>\n",
       "        .banner {\n",
       "            border-left: solid 5px black;\n",
       "            background: lightgray;\n",
       "            padding-left: 1em;\n",
       "        }\n",
       "\n",
       "        .tip {\n",
       "            border-left-color: darkgreen;\n",
       "            background: lightgreen;\n",
       "        }\n",
       "\n",
       "        .attention {\n",
       "            border-left-color: goldenrod;\n",
       "            background: lightgoldenrodyellow;\n",
       "        }\n",
       "        .warning {\n",
       "            border-left-color: darkred;\n",
       "            background: lightcoral;\n",
       "        }\n",
       "\n",
       "        .section-header {\n",
       "            color: green;\n",
       "        }\n",
       "\n",
       "        .bold {\n",
       "            font-weight: 600;\n",
       "        }\n",
       "\n",
       "        .level-2 {\n",
       "            color: blue;\n",
       "        }\n",
       "\n",
       "        .phase-1 {\n",
       "            color: cornflowerblue;\n",
       "        }\n",
       "        .phase-2 {\n",
       "            color: seagreen;\n",
       "        }\n",
       "        .phase-3 {\n",
       "            color: goldenrod;\n",
       "        }\n",
       "        .phase-4 {\n",
       "            color: darkorange;\n",
       "        }\n",
       "        .phase-5 {\n",
       "            color: fuchsia;\n",
       "        }\n",
       "\n",
       "        a, a:active, a:visited {\n",
       "            text-decoration: none;\n",
       "            transition: all 0.25s ease;\n",
       "            opacity: 0.75;\n",
       "        }\n",
       "\n",
       "        a:hover {\n",
       "            /* background: lightgoldenrodyellow; */\n",
       "            opacity: 1;\n",
       "        }\n",
       "\n",
       "        h1 {\n",
       "            font-family: 'Bell MT', 'Garamond', 'Arial', sans-serif;\n",
       "            color: black;\n",
       "            margin-bottom:  0;\n",
       "        }\n",
       "\n",
       "        img {\n",
       "        }\n",
       "\n",
       "        p {\n",
       "            font-family: 'calibri light', 'helvetica light', 'helvetica', 'arial', sans-serif;\n",
       "        }\n",
       "\n",
       "        li {\n",
       "            font-size: 1em;\n",
       "            cursor: default;\n",
       "        }\n",
       "\n",
       "        li:hover {\n",
       "            color: black;\n",
       "            background: #dfefff;\n",
       "        }\n",
       "\n",
       "    </style>\n",
       "</head>\n",
       "<body>\n",
       "\n",
       "</body>\n",
       "</html>"
      ],
      "text/plain": [
       "<IPython.core.display.HTML object>"
      ]
     },
     "metadata": {},
     "output_type": "display_data"
    }
   ],
   "source": [
    "import numpy as np\n",
    "import pandas as pd\n",
    "import altair as alt\n",
    "\n",
    "from collections import namedtuple\n",
    "from nltk.corpus import brown, gutenberg, stopwords\n",
    "from tqdm.notebook import trange, tqdm\n",
    "from IPython.core.display import display, HTML\n",
    "\n",
    "display(HTML('./style/style.html'))\n",
    "alt.renderers.enable('notebook')\n",
    "corpus = brown\n"
   ]
  },
  {
   "cell_type": "markdown",
   "metadata": {},
   "source": [
    "We will use data from the `gutenberg` corpus and normalize the input data."
   ]
  },
  {
   "cell_type": "code",
   "execution_count": 2,
   "metadata": {},
   "outputs": [
    {
     "name": "stdout",
     "output_type": "stream",
     "text": [
      "Number of sentences: 131\n",
      "Number of words: 2,332\n"
     ]
    }
   ],
   "source": [
    "title = 'cp01'\n",
    "sents, words, tagged = corpus.sents(title), corpus.words(title), corpus.tagged_words(title)\n",
    "print(f'Number of sentences: {len(sents):,}\\nNumber of words: {len(words):,}')\n"
   ]
  },
  {
   "cell_type": "markdown",
   "metadata": {},
   "source": [
    "<p class='attention banner'>Parameters, Counts, and Probability Data for Later</p>"
   ]
  },
  {
   "cell_type": "code",
   "execution_count": 3,
   "metadata": {},
   "outputs": [
    {
     "name": "stdout",
     "output_type": "stream",
     "text": [
      "Vocabulary size is 776 unique tokens\n"
     ]
    }
   ],
   "source": [
    "sents = [[word.lower() for word in sent] for sent in sents]\n",
    "words = [word.lower() for word in words]\n",
    "\n",
    "WORDS, COUNTS = np.unique(words, return_counts=True)  # Constant values for unique words and word counts\n",
    "PROBS = COUNTS**0.75 / (COUNTS**0.75).sum()           # Frequency of words in corpus (see paper cited)\n",
    "INDEX = np.arange(WORDS.size)                         # Numeric index of all unique words\n",
    "\n",
    "VOCAB = dict(zip(WORDS, INDEX))                       # Mappings from word-to-index\n",
    "VOCABR = dict(zip(INDEX, WORDS))                      # Mappings from index-to-word\n",
    "\n",
    "print(f'Vocabulary size is {WORDS.size} unique tokens')\n"
   ]
  },
  {
   "cell_type": "markdown",
   "metadata": {},
   "source": [
    "<a id='section-1-1'></a>\n",
    "\n",
    "---\n",
    "<span class='bold'>Section</span> [Previous](#phase-1) &bull; [Next](#phase-2) &bull; [1.0 Load Packages](#section-1) &bull; [1.1 Visual Inspection](#section-1-1) &bull; [1.2 Slimming Down](#section-1-2) &bull; [1.3 Subsampling](#section-1-3) &bull; [1.4 Encoding Tokens](#section-1-4)\n",
    "\n",
    "### <span class='phase-1'>1.1 Visual Inspection</span> \n",
    "\n",
    "A quick look into our corpus reveals that a handful of sentence lengths dominate this text."
   ]
  },
  {
   "cell_type": "code",
   "execution_count": 4,
   "metadata": {},
   "outputs": [],
   "source": [
    "lengths = [len(sent) for sent in sents]\n",
    "unique = pd.DataFrame(zip(lengths, sents), columns=['tokens', 'sents']).drop_duplicates('tokens')\n",
    "\n",
    "lengths = pd.DataFrame(lengths, columns=['tokens'])\n",
    "\n",
    "lengths = lengths['tokens'].value_counts()\n",
    "lengths = pd.DataFrame(lengths.reset_index())\n",
    "lengths.columns = ['tokens', 'length']\n",
    "\n",
    "lengths = lengths.merge(unique)\n",
    "\n",
    "lengths.sents = lengths.sents.str.join(' ')\n"
   ]
  },
  {
   "cell_type": "markdown",
   "metadata": {},
   "source": [
    "<p class='tip banner'>Bar chart shows this distribution</p>"
   ]
  },
  {
   "cell_type": "code",
   "execution_count": 5,
   "metadata": {},
   "outputs": [
    {
     "data": {
      "application/javascript": [
       "const spec = {\"config\": {\"view\": {\"width\": 400, \"height\": 300}, \"mark\": {\"tooltip\": null}, \"title\": {\"fontSize\": 20}}, \"data\": {\"name\": \"data-5ab3655c1aa69a34e97e7d4cf06a855d\"}, \"mark\": {\"type\": \"bar\", \"size\": 10}, \"encoding\": {\"color\": {\"type\": \"quantitative\", \"field\": \"length\", \"title\": \"Sentences\"}, \"tooltip\": {\"type\": \"nominal\", \"field\": \"sents\"}, \"x\": {\"type\": \"ordinal\", \"field\": \"tokens\", \"sort\": {\"field\": \"length\", \"order\": \"descending\"}, \"title\": \"Number of Tokens in a Sentence\"}, \"y\": {\"type\": \"quantitative\", \"field\": \"length\", \"title\": \"Number of Sentences\"}}, \"height\": 250, \"selection\": {\"selector001\": {\"type\": \"interval\", \"bind\": \"scales\", \"encodings\": [\"x\", \"y\"]}}, \"title\": \"Count of Sentences by Number of Tokens\", \"width\": 800, \"$schema\": \"https://vega.github.io/schema/vega-lite/v3.4.0.json\", \"datasets\": {\"data-5ab3655c1aa69a34e97e7d4cf06a855d\": [{\"tokens\": 9, \"length\": 10, \"sents\": \"they neither liked nor disliked the old man .\"}, {\"tokens\": 21, \"length\": 7, \"sents\": \"but this was not unusual , because youth in these quarters was always pushed at a distance from its elders .\"}, {\"tokens\": 18, \"length\": 6, \"sents\": \"`` but she shouldn't have come here in the first place '' , the women had said .\"}, {\"tokens\": 6, \"length\": 6, \"sents\": \"the old man was unimportant .\"}, {\"tokens\": 7, \"length\": 6, \"sents\": \"she gave herself fancy airs ! !\"}, {\"tokens\": 17, \"length\": 6, \"sents\": \"in one hand she clutched a hundred dollar bill and in the other a straw suitcase .\"}, {\"tokens\": 10, \"length\": 6, \"sents\": \"the hedge reeked of coffee dregs thrown against it .\"}, {\"tokens\": 14, \"length\": 6, \"sents\": \"filippo rossi , that's what he was called in the old country ; ;\"}, {\"tokens\": 13, \"length\": 5, \"sents\": \"the only thing unusual about the old man had long since happened .\"}, {\"tokens\": 15, \"length\": 5, \"sents\": \"it went to church on sunday and one saturday a month went to confession .\"}, {\"tokens\": 12, \"length\": 5, \"sents\": \"they never called him by name , although he had one .\"}, {\"tokens\": 11, \"length\": 5, \"sents\": \"but here he was just signore or the old man .\"}, {\"tokens\": 5, \"length\": 5, \"sents\": \"youth obeyed when commanded .\"}, {\"tokens\": 23, \"length\": 4, \"sents\": \"with a tiny fur-piece wrapped around her shoulders , she wiggled her satin-covered buttocks down the street before him and didn't stop .\"}, {\"tokens\": 30, \"length\": 4, \"sents\": \"calloused fingers , caressed only by the smoothness of polished rosaries , had swayed excitedly beneath puckered chins where tiny black hairs sprouted , never to be tweezed away .\"}, {\"tokens\": 20, \"length\": 4, \"sents\": \") and his eyes -- those miniature sundials of variegated yellow -- had not altered their expression or direction .\"}, {\"tokens\": 8, \"length\": 3, \"sents\": \"( he was never without that dog .\"}, {\"tokens\": 22, \"length\": 3, \"sents\": \"sameness for the old man was framed in by a wall of ginkgo trees which divided these quarters from the city .\"}, {\"tokens\": 4, \"length\": 3, \"sents\": \"not that one .\"}, {\"tokens\": 25, \"length\": 3, \"sents\": \"it was as though he had made a pact with the devil himself , but it was not yet time to pay the price .\"}, {\"tokens\": 26, \"length\": 3, \"sents\": \"or the surging whirling sounds of bats at night , when their black bodies dived into the blackness above and below the amber street lights .\"}, {\"tokens\": 27, \"length\": 3, \"sents\": \"and the coffee shop on drexel street , where the men spent their evenings and sundays playing cards , had a rose hedge beneath its window .\"}, {\"tokens\": 36, \"length\": 3, \"sents\": \"he would order her to bring coffee , and would take from his vest pocket a thin black pipe which he would stuff -- he would not remove his gloves -- and light and smoke .\"}, {\"tokens\": 40, \"length\": 2, \"sents\": \"yet everywhere else sameness was stucco and wood in square blocks -- like fortresses perched against the slant of the hill , rising with the hill to the top where the church was and beyond that to the cemetery .\"}, {\"tokens\": 19, \"length\": 2, \"sents\": \"to him life was a restless boredom that began with the rising sun and ended only with sleep .\"}, {\"tokens\": 16, \"length\": 2, \"sents\": \"it swayed with the wicker swings and screeched with the rusted hinges of screen doors .\"}, {\"tokens\": 31, \"length\": 2, \"sents\": \"mauve-colored mouths that had never known anything sweeter than the taste of new wine and the passion of man's tongue had not smiled , but had condemned again and again .\"}, {\"tokens\": 24, \"length\": 2, \"sents\": \"the old man's very soul could have left him and flown down that street , but he wouldn't have had anyone know it .\"}, {\"tokens\": 45, \"length\": 1, \"sents\": \"to them he could have been the broken bell in the church tower which rang before and after mass , and at noon , and at six each evening -- its tone , repetitive , monotonous , never breaking the boredom of the streets .\"}, {\"tokens\": 43, \"length\": 1, \"sents\": \"only paved alleyways tunneled through the walls of those fortresses into the mysterious core of intimacy behind the houses where backyards owned no fences , where one man's property blended with the next to form courtyards in which no one knew privacy .\"}, {\"tokens\": 42, \"length\": 1, \"sents\": \"he would sit inside the coffee shop and pound a gloved fist upon the table and a girl would hear him and come running , bowing with her running , calling out in her bowing , `` at your service '' .\"}, {\"tokens\": 41, \"length\": 1, \"sents\": \"but when he called for his withered , wrinkled sister rose to care for him and the children , had he guessed that all he would remember of his woman was the memory of her climbing into that streetcar ? ?\"}, {\"tokens\": 32, \"length\": 1, \"sents\": \"yet if he were not there , they would have missed him , as they would have missed the sounds of bees buzzing against the screen door in early june ; ;\"}, {\"tokens\": 38, \"length\": 1, \"sents\": \"without looking at him , without looking at anything except drexel street directly in front of her , she climbed up into one of those orange streetcars , rode away in it , and never came back .\"}, {\"tokens\": 34, \"length\": 1, \"sents\": \"what did it matter to him that the park at the foot of ash road stretched beneath elevated trains that roared from the stucco station into the city's center at half-hour intervals ? ?\"}, {\"tokens\": 33, \"length\": 1, \"sents\": \"the old man's son threw himself down , belly first , upon a concrete step , taking in the coolness of it , and dreaming of the day he would be rich .\"}, {\"tokens\": 28, \"length\": 1, \"sents\": \"or the smell of thick tomato paste -- the ripe smell that was both sweet and sour -- rising up from aluminum trays wrapped in fly-dotted cheesecloth .\"}, {\"tokens\": 51, \"length\": 1, \"sents\": \"it was enough for people to know that at one time he had looked down the street at the fleshy suppleness of a woman he had consumed -- watching her become thinner and thinner in the distance , as thin as the seams on her stockings , and still thinner .\"}]}};\n",
       "const opt = {};\n",
       "const type = \"vega-lite\";\n",
       "const id = \"edde82c6-55c3-4350-a372-4dc3d64725ec\";\n",
       "\n",
       "const output_area = this;\n",
       "\n",
       "require([\"nbextensions/jupyter-vega/index\"], function(vega) {\n",
       "  const target = document.createElement(\"div\");\n",
       "  target.id = id;\n",
       "  target.className = \"vega-embed\";\n",
       "\n",
       "  const style = document.createElement(\"style\");\n",
       "  style.textContent = [\n",
       "    \".vega-embed .error p {\",\n",
       "    \"  color: firebrick;\",\n",
       "    \"  font-size: 14px;\",\n",
       "    \"}\",\n",
       "  ].join(\"\\\\n\");\n",
       "\n",
       "  // element is a jQuery wrapped DOM element inside the output area\n",
       "  // see http://ipython.readthedocs.io/en/stable/api/generated/\\\n",
       "  // IPython.display.html#IPython.display.Javascript.__init__\n",
       "  element[0].appendChild(target);\n",
       "  element[0].appendChild(style);\n",
       "\n",
       "  vega.render(\"#\" + id, spec, type, opt, output_area);\n",
       "}, function (err) {\n",
       "  if (err.requireType !== \"scripterror\") {\n",
       "    throw(err);\n",
       "  }\n",
       "});\n"
      ],
      "text/plain": [
       "<vega.vegalite.VegaLite at 0x10ae68f98>"
      ]
     },
     "metadata": {
      "jupyter-vega": "#edde82c6-55c3-4350-a372-4dc3d64725ec"
     },
     "output_type": "display_data"
    },
    {
     "data": {
      "text/plain": []
     },
     "execution_count": 5,
     "metadata": {},
     "output_type": "execute_result"
    },
    {
     "data": {
      "image/png": "[encoded data removed]"
     },
     "metadata": {
      "jupyter-vega": "#edde82c6-55c3-4350-a372-4dc3d64725ec"
     },
     "output_type": "display_data"
    }
   ],
   "source": [
    "# Visual look at the sentence lengths\n",
    "chart = alt.Chart(lengths, width=800, height=250).mark_bar(size=10)\n",
    "chart = chart.encode(x=alt.X('tokens:O', title='Number of Tokens in a Sentence', sort=alt.SortField(field='length', order='descending')), \n",
    "                     y=alt.Y('length', title='Number of Sentences'),\n",
    "                     color=alt.Color('length', title='Sentences'),\n",
    "                     tooltip='sents')\n",
    "chart.properties(title='Count of Sentences by Number of Tokens').configure_title(fontSize=20).interactive()\n"
   ]
  },
  {
   "cell_type": "markdown",
   "metadata": {},
   "source": [
    "<a id='section-1-2'></a>\n",
    "\n",
    "---\n",
    "<span class='bold'>Section</span> [Previous](#phase-1) &bull; [Next](#phase-2) &bull; [1.0 Load Packages](#section-1) &bull; [1.1 Visual Inspection](#section-1-1) &bull; [1.2 Slimming Down](#section-1-2) &bull; [1.3 Subsampling](#section-1-3) &bull; [1.4 Encoding Tokens](#section-1-4)\n",
    "\n",
    "### <span class='phase-1'>1.2 Slimming Down</span> \n",
    "\n",
    "Next we preprocess the text to get rid of overly frequent words like stopwords. An example of stopwords are shown below. \n",
    "\n",
    "<img src='./images/stopwords.jpg' style='height: 15em; width: 15em;' />"
   ]
  },
  {
   "cell_type": "code",
   "execution_count": 6,
   "metadata": {},
   "outputs": [],
   "source": [
    "# Functions to help us slim down our text\n",
    "stopwords_ = stopwords.words('english')\n",
    "\n",
    "def is_stopword(token):\n",
    "    ''' Check if a specified token is a stopword. '''\n",
    "    try:\n",
    "        return token.lower() in stopwords_\n",
    "    except:\n",
    "        return False\n",
    "\n",
    "def is_valid_token(token):\n",
    "    ''' Check if token is valid, i.e., not a stopword or punctuation '''\n",
    "    try:\n",
    "        return token.isalnum() & ~is_stopword(token)\n",
    "    except:\n",
    "        return False\n",
    "\n",
    "def subsample(vocabulary, probs=PROBS, sample_rate=0.001):\n",
    "    ''' Return the indices of words to be excluded '''\n",
    "    p_keep = (np.sqrt(probs / sample_rate) + 1) * sample_rate / probs\n",
    "    p_keep[p_keep >= 1] = 1\n",
    "    return p_keep\n"
   ]
  },
  {
   "cell_type": "markdown",
   "metadata": {},
   "source": [
    "<br>\n",
    "<br>\n",
    "<br>\n",
    "<br>\n",
    "\n",
    "<a id='section-1-3'></a>\n",
    "\n",
    "---\n",
    "<span class='bold'>Section</span> [Previous](#phase-1) &bull; [Next](#phase-2) &bull; [1.0 Load Packages](#section-1) &bull; [1.1 Visual Inspection](#section-1-1) &bull; [1.2 Slimming Down](#section-1-2) &bull; [1.3 Subsampling](#section-1-3) &bull; [1.4 Encoding Tokens](#section-1-4)\n",
    "\n",
    "<!--\n",
    "<img src=\"./images/subsample.png\" style='float: left; height: 10em; margin-left: 1em; margin-right: 2em; margin-top: 2em;'/>\n",
    "-->\n",
    "\n",
    "### <span class='phase-1'>1.3 Subsampling</span> \n",
    "\n",
    "Remove overly frequent words that may not contribute much to vector meanings. \n",
    "<br>\n",
    "<br>\n",
    "$e.g., probability_{keep}(word) < 75\\%$.\n",
    "<br>\n",
    "<br>\n",
    "<p class='attention banner'>For more detail on subsampling, see <a href=\"http://arxiv.org/pdf/1310.4546.pdf\" target='blank'>Mikolov, Sutskever, et al.</a> (2013).</p>"
   ]
  },
  {
   "cell_type": "code",
   "execution_count": 7,
   "metadata": {},
   "outputs": [
    {
     "name": "stdout",
     "output_type": "stream",
     "text": [
      "Number of sentences: 131\n"
     ]
    }
   ],
   "source": [
    "keep = subsample(WORDS)\n",
    "exclude = [word for word in WORDS[keep < 0.75]]\n",
    "\n",
    "# Apply exclude filter to sentences\n",
    "sents = [[word for word in sent if (word not in exclude) and is_valid_token(word)] for sent in sents]\n",
    "print(f'Number of sentences: {len(sents):,}')\n"
   ]
  },
  {
   "cell_type": "markdown",
   "metadata": {},
   "source": [
    "<br>\n",
    "<br>\n",
    "<br>\n",
    "<br>\n",
    "<a id='section-1-4'></a>\n",
    "\n",
    "---\n",
    "<span class='bold'>Section</span> [Previous](#phase-1) &bull; [Next](#phase-2) &bull; [1.0 Load Packages](#section-1) &bull; [1.1 Visual Inspection](#section-1-1) &bull; [1.2 Slimming Down](#section-1-2) &bull; [1.3 Subsampling](#section-1-3) &bull; [1.4 Encoding Tokens](#section-1-4)\n",
    "\n",
    "<!--\n",
    "<img src=\"./images/matrix.png\" style=\"float: right; height: 7em; margin-top: 2em; margin-right: 5em;\" />\n",
    "-->\n",
    "\n",
    "### <span class='phase-1'>1.4 Encoding Tokens</span> \n",
    "\n",
    "The last step is to encode our language data from strings into integers so that it can be processed by our machines."
   ]
  },
  {
   "cell_type": "code",
   "execution_count": 8,
   "metadata": {},
   "outputs": [
    {
     "name": "stdout",
     "output_type": "stream",
     "text": [
      "CPU times: user 8 µs, sys: 1e+03 ns, total: 9 µs\n",
      "Wall time: 14.8 µs\n"
     ]
    }
   ],
   "source": [
    "%%time\n",
    "data = (np.array([VOCAB[token] for token in sent]) for sent in sents)\n"
   ]
  },
  {
   "cell_type": "markdown",
   "metadata": {},
   "source": [
    "<p class='tip banner'>Preprocessing complete! Now on to the model. </p>\n",
    "\n",
    "<br>\n",
    "<br>\n",
    "<br>\n",
    "<br>\n",
    "\n",
    "<a id='phase-2'></a><a id='section-2'></a>\n",
    "\n",
    "---\n",
    "\n",
    "<span class='bold'>Section</span> [Previous](#phase-1) &bull; [Next](#phase-3) &bull; [2.0 Word2Vec](#section-2)\n",
    "&bull; [2.1 From Scratch](#section-2-1) &bull; [2.2 Generate Input](#section-2-2) &bull; [2.3 Algorithm Architecture](#section-2-3) &bull; [2.4 Forward and Backward](#section-2-4) &bull; [2.5 Training](#section-2-5)\n",
    "\n",
    "# Background \n",
    "\n",
    "## <span class='phase-2'>2.0 Word2Vec</span> \n",
    "\n",
    "<img src=\"./images/splash_image_2.png\" style=\"float: right; height: 40%; width: 40%; margin-left: 2em;\" />\n",
    "\n",
    "<h3 class='phase-2'> Word2Vec—What is it?</h3>\n",
    "<p class='content'>Word2Vec is a method of representing words as numerical vectors. This representation allows us to improve model efficiency and endows words with numeric properties that capture semantic relationships in text like the image to the right.</p>\n",
    "<p class='content'>That means that we convert words built from characters to 'words' built from numbers.</p>\n",
    "    <p class='example'>$word \\Rightarrow [0.1,0.7,0.3,0.9,0.3]$</p>\n",
    "    <p class='example'>$bird \\Rightarrow [0.1,0.7,0.8,0.7,0.5]$</p>\n",
    "\n",
    "---\n",
    "\n",
    "<h3 class='phase-2'> What are its uses?</h3>\n",
    "<p class='content'>Because of Word2Vec's uncanny ability to capture hidden patterns in large corpora, Word2Vec has many uses for information extraction from a large, unknown text. \n",
    "    Here's a short list of applications of Word2Vec in documents:</p>\n",
    "\n",
    "  * Identifying emerging topics in large amounts of text\n",
    "  * Identifying entities and relationships\n",
    "  * Developing knowledge resources for other NLP work (e.g., semantic analyses)\n",
    " \n",
    "---\n",
    "\n",
    "<h3 class='phase-2'> Other Models</h3>\n",
    "<p class='content'>Word2Vec is not the only way to represent lexical items as numeric vectors. Other methods include:</p>\n",
    "    \n",
    "  * GloVe\n",
    "  * TF-IDF\n",
    "\n",
    "<br>\n",
    "<br>\n",
    "<br>\n",
    "<br>\n",
    "<br>\n",
    "\n",
    "\n",
    "<a id=\"section-2-1\"></a>\n",
    "\n",
    "---\n",
    "<span class='bold'>Section</span> [Previous](#phase-2) &bull; [Next](#phase-3) &bull; [2.0 Word2Vec](#section-2)\n",
    "&bull; [2.1 From Scratch](#section-2-1) &bull; [2.2 Generate Input](#section-2-2) &bull; [2.3 Algorithm Architecture](#section-2-3) &bull; [2.4 Forward and Backward](#section-2-4) &bull; [2.5 Training](#section-2-5)\n",
    "<!--\n",
    "<img src='./images/from_scratch.jpg' style='height: 20em; float: right; padding-right: 3em;' />\n",
    "-->\n",
    "\n",
    "### <span class='phase-2'>2.1 From Scratch</span> \n",
    "\n",
    "For things example, we will create a Word2Vec language model using the data we preprocessed above. In this section, we will develop a **<a id=\"skip-gram\" style=\"text-decoration: none; cursor: help;\" title=\"Using the a token to predict its surroundings\">Skip-gram</a>** flavored Word2Vec model.\n",
    "\n",
    "We will:\n",
    "  * [2.2 Generate input data](#section-2-2)\n",
    "  * [2.3 Build out the architecture](#section-2-3)\n",
    "  * [2.4 Flesh out the algorithms](#section-2-4)\n",
    "  * [2.5 Train a model](#section-2-5)\n",
    "\n",
    "<br>\n",
    "<br>\n",
    "<br>\n",
    "<br>\n",
    "<br>"
   ]
  },
  {
   "cell_type": "markdown",
   "metadata": {},
   "source": [
    "<a id=\"section-2-2\"></a>\n",
    "\n",
    "---\n",
    "<span class='bold'>Section</span> [Previous](#phase-2) &bull; [Next](#phase-3) &bull; [2.0 Word2Vec](#section-2)\n",
    "&bull; [2.1 From Scratch](#section-2-1) &bull; [2.2 Generate Input](#section-2-2) &bull; [2.3 Algorithm Architecture](#section-2-3) &bull; [2.4 Forward and Backward](#section-2-4) &bull; [2.5 Training](#section-2-5)\n",
    "\n",
    "\n",
    "\n",
    "### <span class='phase-2'>2.2 Generate Input</span> \n",
    "\n",
    "We will generate loose <a id='one-hot' style='text-decoration: none; cursor: help;' title='A vector that is comprised of zeros and ones indicating absence or presence of a value'>one-hot vectors</a> that will serve as input and target data when training our model."
   ]
  },
  {
   "cell_type": "code",
   "execution_count": 9,
   "metadata": {},
   "outputs": [
    {
     "name": "stdout",
     "output_type": "stream",
     "text": [
      "Number of sentences in data: 95\n"
     ]
    }
   ],
   "source": [
    "# Make sure data fits within window parameter\n",
    "window = 3\n",
    "data = [sent for sent in data if sent.size >= (window + 1)]\n",
    "print(f'Number of sentences in data: {len(data)}')\n"
   ]
  },
  {
   "cell_type": "markdown",
   "metadata": {},
   "source": [
    "Let's define a few functions to help use generate these data."
   ]
  },
  {
   "cell_type": "code",
   "execution_count": 10,
   "metadata": {},
   "outputs": [],
   "source": [
    "Datum = namedtuple('Datum', 'target context'.split())\n",
    "\n",
    "def one_hot(token, size=WORDS.size):\n",
    "    ''' Convert an input token into an integer according to a specified reference '''\n",
    "    vector = np.zeros((1, size))\n",
    "    vector[0, token] = 1\n",
    "    return vector\n",
    "\n",
    "def generate_examples(data, examples=[], size=window):\n",
    "    ''' Create a example data with the structure [(context, targets), ...] '''\n",
    "    sentences = tqdm(enumerate(data), desc='Generating examples', total=len(data))\n",
    "    \n",
    "    for i, sentence in sentences:\n",
    "        for j, token in enumerate(sentence):\n",
    "            before, after, skip = max(j - size, 0), j + size, j + 1\n",
    "\n",
    "            context = one_hot(sentence[j])\n",
    "            targets = np.append(sentence[before:j], sentence[skip:after])\n",
    "            _targets = []\n",
    "        \n",
    "            for target in targets:\n",
    "                _targets.append(one_hot(target))\n",
    "                \n",
    "            examples.append((context, _targets))\n",
    "    return examples\n"
   ]
  },
  {
   "cell_type": "markdown",
   "metadata": {},
   "source": [
    "\n",
    "Loop through all the sentences to generate `target` and `context` data for training.\n",
    "<p class='attention banner'>Processing time may vary </p>"
   ]
  },
  {
   "cell_type": "code",
   "execution_count": 11,
   "metadata": {},
   "outputs": [
    {
     "data": {
      "application/vnd.jupyter.widget-view+json": {
       "model_id": "bfd561140b0f468cbf2e5a62f66b0df9",
       "version_major": 2,
       "version_minor": 0
      },
      "text/plain": [
       "HBox(children=(FloatProgress(value=0.0, description='Generating examples', max=95.0, style=ProgressStyle(descr…"
      ]
     },
     "metadata": {},
     "output_type": "display_data"
    },
    {
     "name": "stdout",
     "output_type": "stream",
     "text": [
      "\n",
      "We have 847 examples\n"
     ]
    }
   ],
   "source": [
    "examples = generate_examples(data)\n",
    "print(f'We have {len(examples)} examples')\n"
   ]
  },
  {
   "cell_type": "markdown",
   "metadata": {},
   "source": [
    "\n",
    "\n",
    "<br>\n",
    "<br>\n",
    "<br>\n",
    "<br>\n",
    "<br>\n",
    "<a id='section-2-3'></a>\n",
    "\n",
    "---\n",
    "<span class='bold'>Section</span> [Previous](#phase-2) &bull; [Next](#phase-3) &bull; [2.0 Word2Vec](#section-2)\n",
    "&bull; [2.1 From Scratch](#section-2-1) &bull; [2.2 Generate Input](#section-2-2) &bull; [2.3 Algorithm Architecture](#section-2-3) &bull; [2.4 Forward and Backward](#section-2-4) &bull; [2.5 Training](#section-2-5)\n",
    "\n",
    "\n",
    "### <span class='phase-2'>2.3 Algorithm Architecture</span> \n",
    "\n",
    "These matrices will serve as the layers that surround our <span class='bold'>Word2Vec</span> layer during training.\n",
    "\n",
    "<img src='./images/architecture.png' style='height: 50%; width: 50%; margin-bottom; 2em;' />\n",
    "\n",
    "\n",
    "\n",
    "\n",
    "###### Parameters <a id='parameters'></a>\n",
    "<p class='attention banner'>For more information on setting parameters, see <a href='https://www.aclweb.org/anthology/D14-1162/'>Proceedings of the 2014 Conference on Empirical Methods in Natural Language Processing</a>.</p>"
   ]
  },
  {
   "cell_type": "code",
   "execution_count": 12,
   "metadata": {},
   "outputs": [],
   "source": [
    "parameters = {'window' : window, 'dimensions' : 300, 'learning_rate' : 0.05, 'epochs' : 100}\n"
   ]
  },
  {
   "cell_type": "markdown",
   "metadata": {},
   "source": [
    "This cell defines the weight matrices used by the model."
   ]
  },
  {
   "cell_type": "code",
   "execution_count": 13,
   "metadata": {},
   "outputs": [
    {
     "name": "stdout",
     "output_type": "stream",
     "text": [
      "Dimensions\n",
      "Weights 1 (776, 300)\n",
      "Weights 2 (300, 776)\n"
     ]
    }
   ],
   "source": [
    "dimensions = parameters['dimensions']\n",
    "size = WORDS.size\n",
    "\n",
    "w1 = np.random.random((size, dimensions))\n",
    "w2 = np.random.random((dimensions, size))\n",
    "\n",
    "print(f'Dimensions\\nWeights 1 {w1.shape}\\nWeights 2 {w2.shape}')\n"
   ]
  },
  {
   "cell_type": "markdown",
   "metadata": {},
   "source": [
    "\n",
    "\n",
    "<br>\n",
    "<br>\n",
    "<br>\n",
    "<br>\n",
    "<br>\n",
    "<a id='section-2-4'></a>\n",
    "\n",
    "---\n",
    "<span class='bold'>Section</span> [Previous](#phase-2) &bull; [Next](#phase-3) &bull; [2.0 Word2Vec](#section-2)\n",
    "&bull; [2.1 From Scratch](#section-2-1) &bull; [2.2 Generate Input](#section-2-2) &bull; [2.3 Algorithm Architecture](#section-2-3) &bull; [2.4 Forward and Backward](#section-2-4) &bull; [2.5 Training](#section-2-5)\n",
    "\n",
    "### <span class='phase-2'>2.4 Forward and Backward</span> \n",
    "\n",
    "The first part of a two part algorithm defining a <a id='learning-step' style='text-decoration: none; cursor: help;' title='A phase where training data are learned and errors are adjusted throughout the model'>learning step</a>. This algorithm introduces our randomly initialized model to its first evidence of real data to learn from. It then predicts a surrounding vocabulary item from it."
   ]
  },
  {
   "cell_type": "code",
   "execution_count": 14,
   "metadata": {},
   "outputs": [],
   "source": [
    "def forward(context, targets, w1=w1, w2=w2):\n",
    "    ''' Return three matrices corresponding to the prediction, hidden layer, and output '''\n",
    "    hidden = context @ w1\n",
    "    output = hidden @ w2\n",
    "    prediction = softmax(output)\n",
    "    error = calculate_error(prediction, targets)\n",
    "    return prediction, error, output, hidden\n",
    "\n",
    "def backpropagate(error, hidden, context, w1=w1, w2=w2):\n",
    "    ''' Update weight matrices according to output from forward() '''\n",
    "    w2_delta = np.outer(hidden, error) * parameters['learning_rate']\n",
    "    hidden_error = error @ w2.T\n",
    "    w1_delta = np.outer(context, hidden_error) * parameters['learning_rate']\n",
    "    \n",
    "    w1 -= w1_delta\n",
    "    w2 -= w2_delta\n",
    "    return w1, w2\n",
    "    "
   ]
  },
  {
   "cell_type": "markdown",
   "metadata": {},
   "source": [
    "#### 2.4.1 Supporting Functions for Forward and Backpropagate <a id='section-2-4-1'></a>"
   ]
  },
  {
   "cell_type": "code",
   "execution_count": 15,
   "metadata": {},
   "outputs": [],
   "source": [
    "def softmax(output):\n",
    "    ''' Return the an array normalized to a probability '''\n",
    "    e = np.exp(output)\n",
    "    return e / e.sum()\n",
    "\n",
    "def calculate_error(prediction, targets):\n",
    "    ''' Return weights with the summed prediction error '''\n",
    "    error = [prediction - token for token in targets]\n",
    "    return np.sum(error, axis=0)\n"
   ]
  },
  {
   "cell_type": "markdown",
   "metadata": {},
   "source": [
    "\n",
    "<a id='section-2-5'></a>\n",
    "\n",
    "---\n",
    "<span class='bold'>Section</span> [Previous](#phase-2) &bull; [Next](#phase-3) &bull; [2.0 Word2Vec](#section-2)\n",
    "&bull; [2.1 From Scratch](#section-2-1) &bull; [2.2 Generate Input](#section-2-2) &bull; [2.3 Algorithm Architecture](#section-2-3) &bull; [2.4 Forward and Backward](#section-2-4) &bull; [2.5 Training](#section-2-5)\n",
    "\n",
    "### <span class='phase-2'>2.5 Training</span> \n",
    "\n",
    "Having both the feed forward and backpropagation algorithms defined, we can now define a training algorithm to learn all examples for a single <a id='epoch' style='text-decoration: none; cursor: help;' title='A complete cycle of learning steps through all training data'>epoch</a>."
   ]
  },
  {
   "cell_type": "code",
   "execution_count": 16,
   "metadata": {},
   "outputs": [],
   "source": [
    "def train(examples, w1=w1, w2=w2, parameters=parameters, total=size):\n",
    "    ''' Train the Word2Vec model on our training data to generate meaningful word vectors '''\n",
    "    \n",
    "    epochs = trange(parameters['epochs'], desc=\"Training\")\n",
    "\n",
    "    for epoch in epochs:\n",
    "        data = tqdm(examples, desc=f'Epoch {epoch}', leave=False)\n",
    "\n",
    "        for context, targets in data:\n",
    "            prediction, error, output, hidden = forward(context, targets, w1, w2)\n",
    "            w1, w2 = backpropagate(error, hidden, context, w1, w2)\n",
    "    return w1, w2\n",
    "            "
   ]
  },
  {
   "cell_type": "markdown",
   "metadata": {},
   "source": [
    "\n",
    "###### 2.5.1 Run Training <a id='section-2-5-1'></a>\n",
    "\n",
    "This cell loops through all our training data to demonstrate what happens in one training <a id='epoch' style='text-decoration: none; cursor: help;' title='A complete cycle of learning steps through all training data'>epoch</a>.\n",
    "\n",
    "<p class='attention banner'>Processing time may vary</p>"
   ]
  },
  {
   "cell_type": "code",
   "execution_count": 17,
   "metadata": {},
   "outputs": [
    {
     "data": {
      "application/vnd.jupyter.widget-view+json": {
       "model_id": "f50a578da6844e9f93f0de2536ec3f63",
       "version_major": 2,
       "version_minor": 0
      },
      "text/plain": [
       "HBox(children=(FloatProgress(value=0.0, description='Training', style=ProgressStyle(description_width='initial…"
      ]
     },
     "metadata": {},
     "output_type": "display_data"
    },
    {
     "data": {
      "application/vnd.jupyter.widget-view+json": {
       "model_id": "",
       "version_major": 2,
       "version_minor": 0
      },
      "text/plain": [
       "HBox(children=(FloatProgress(value=0.0, description='Epoch 0', max=847.0, style=ProgressStyle(description_widt…"
      ]
     },
     "metadata": {},
     "output_type": "display_data"
    },
    {
     "data": {
      "application/vnd.jupyter.widget-view+json": {
       "model_id": "",
       "version_major": 2,
       "version_minor": 0
      },
      "text/plain": [
       "HBox(children=(FloatProgress(value=0.0, description='Epoch 1', max=847.0, style=ProgressStyle(description_widt…"
      ]
     },
     "metadata": {},
     "output_type": "display_data"
    },
    {
     "data": {
      "application/vnd.jupyter.widget-view+json": {
       "model_id": "",
       "version_major": 2,
       "version_minor": 0
      },
      "text/plain": [
       "HBox(children=(FloatProgress(value=0.0, description='Epoch 2', max=847.0, style=ProgressStyle(description_widt…"
      ]
     },
     "metadata": {},
     "output_type": "display_data"
    },
    {
     "data": {
      "application/vnd.jupyter.widget-view+json": {
       "model_id": "",
       "version_major": 2,
       "version_minor": 0
      },
      "text/plain": [
       "HBox(children=(FloatProgress(value=0.0, description='Epoch 3', max=847.0, style=ProgressStyle(description_widt…"
      ]
     },
     "metadata": {},
     "output_type": "display_data"
    },
    {
     "data": {
      "application/vnd.jupyter.widget-view+json": {
       "model_id": "",
       "version_major": 2,
       "version_minor": 0
      },
      "text/plain": [
       "HBox(children=(FloatProgress(value=0.0, description='Epoch 4', max=847.0, style=ProgressStyle(description_widt…"
      ]
     },
     "metadata": {},
     "output_type": "display_data"
    },
    {
     "data": {
      "application/vnd.jupyter.widget-view+json": {
       "model_id": "",
       "version_major": 2,
       "version_minor": 0
      },
      "text/plain": [
       "HBox(children=(FloatProgress(value=0.0, description='Epoch 5', max=847.0, style=ProgressStyle(description_widt…"
      ]
     },
     "metadata": {},
     "output_type": "display_data"
    },
    {
     "data": {
      "application/vnd.jupyter.widget-view+json": {
       "model_id": "",
       "version_major": 2,
       "version_minor": 0
      },
      "text/plain": [
       "HBox(children=(FloatProgress(value=0.0, description='Epoch 6', max=847.0, style=ProgressStyle(description_widt…"
      ]
     },
     "metadata": {},
     "output_type": "display_data"
    },
    {
     "data": {
      "application/vnd.jupyter.widget-view+json": {
       "model_id": "",
       "version_major": 2,
       "version_minor": 0
      },
      "text/plain": [
       "HBox(children=(FloatProgress(value=0.0, description='Epoch 7', max=847.0, style=ProgressStyle(description_widt…"
      ]
     },
     "metadata": {},
     "output_type": "display_data"
    },
    {
     "data": {
      "application/vnd.jupyter.widget-view+json": {
       "model_id": "",
       "version_major": 2,
       "version_minor": 0
      },
      "text/plain": [
       "HBox(children=(FloatProgress(value=0.0, description='Epoch 8', max=847.0, style=ProgressStyle(description_widt…"
      ]
     },
     "metadata": {},
     "output_type": "display_data"
    },
    {
     "data": {
      "application/vnd.jupyter.widget-view+json": {
       "model_id": "",
       "version_major": 2,
       "version_minor": 0
      },
      "text/plain": [
       "HBox(children=(FloatProgress(value=0.0, description='Epoch 9', max=847.0, style=ProgressStyle(description_widt…"
      ]
     },
     "metadata": {},
     "output_type": "display_data"
    },
    {
     "data": {
      "application/vnd.jupyter.widget-view+json": {
       "model_id": "",
       "version_major": 2,
       "version_minor": 0
      },
      "text/plain": [
       "HBox(children=(FloatProgress(value=0.0, description='Epoch 10', max=847.0, style=ProgressStyle(description_wid…"
      ]
     },
     "metadata": {},
     "output_type": "display_data"
    },
    {
     "data": {
      "application/vnd.jupyter.widget-view+json": {
       "model_id": "",
       "version_major": 2,
       "version_minor": 0
      },
      "text/plain": [
       "HBox(children=(FloatProgress(value=0.0, description='Epoch 11', max=847.0, style=ProgressStyle(description_wid…"
      ]
     },
     "metadata": {},
     "output_type": "display_data"
    },
    {
     "data": {
      "application/vnd.jupyter.widget-view+json": {
       "model_id": "",
       "version_major": 2,
       "version_minor": 0
      },
      "text/plain": [
       "HBox(children=(FloatProgress(value=0.0, description='Epoch 12', max=847.0, style=ProgressStyle(description_wid…"
      ]
     },
     "metadata": {},
     "output_type": "display_data"
    },
    {
     "data": {
      "application/vnd.jupyter.widget-view+json": {
       "model_id": "",
       "version_major": 2,
       "version_minor": 0
      },
      "text/plain": [
       "HBox(children=(FloatProgress(value=0.0, description='Epoch 13', max=847.0, style=ProgressStyle(description_wid…"
      ]
     },
     "metadata": {},
     "output_type": "display_data"
    },
    {
     "data": {
      "application/vnd.jupyter.widget-view+json": {
       "model_id": "",
       "version_major": 2,
       "version_minor": 0
      },
      "text/plain": [
       "HBox(children=(FloatProgress(value=0.0, description='Epoch 14', max=847.0, style=ProgressStyle(description_wid…"
      ]
     },
     "metadata": {},
     "output_type": "display_data"
    },
    {
     "data": {
      "application/vnd.jupyter.widget-view+json": {
       "model_id": "",
       "version_major": 2,
       "version_minor": 0
      },
      "text/plain": [
       "HBox(children=(FloatProgress(value=0.0, description='Epoch 15', max=847.0, style=ProgressStyle(description_wid…"
      ]
     },
     "metadata": {},
     "output_type": "display_data"
    },
    {
     "data": {
      "application/vnd.jupyter.widget-view+json": {
       "model_id": "",
       "version_major": 2,
       "version_minor": 0
      },
      "text/plain": [
       "HBox(children=(FloatProgress(value=0.0, description='Epoch 16', max=847.0, style=ProgressStyle(description_wid…"
      ]
     },
     "metadata": {},
     "output_type": "display_data"
    },
    {
     "data": {
      "application/vnd.jupyter.widget-view+json": {
       "model_id": "",
       "version_major": 2,
       "version_minor": 0
      },
      "text/plain": [
       "HBox(children=(FloatProgress(value=0.0, description='Epoch 17', max=847.0, style=ProgressStyle(description_wid…"
      ]
     },
     "metadata": {},
     "output_type": "display_data"
    },
    {
     "data": {
      "application/vnd.jupyter.widget-view+json": {
       "model_id": "",
       "version_major": 2,
       "version_minor": 0
      },
      "text/plain": [
       "HBox(children=(FloatProgress(value=0.0, description='Epoch 18', max=847.0, style=ProgressStyle(description_wid…"
      ]
     },
     "metadata": {},
     "output_type": "display_data"
    },
    {
     "data": {
      "application/vnd.jupyter.widget-view+json": {
       "model_id": "",
       "version_major": 2,
       "version_minor": 0
      },
      "text/plain": [
       "HBox(children=(FloatProgress(value=0.0, description='Epoch 19', max=847.0, style=ProgressStyle(description_wid…"
      ]
     },
     "metadata": {},
     "output_type": "display_data"
    },
    {
     "data": {
      "application/vnd.jupyter.widget-view+json": {
       "model_id": "",
       "version_major": 2,
       "version_minor": 0
      },
      "text/plain": [
       "HBox(children=(FloatProgress(value=0.0, description='Epoch 20', max=847.0, style=ProgressStyle(description_wid…"
      ]
     },
     "metadata": {},
     "output_type": "display_data"
    },
    {
     "data": {
      "application/vnd.jupyter.widget-view+json": {
       "model_id": "",
       "version_major": 2,
       "version_minor": 0
      },
      "text/plain": [
       "HBox(children=(FloatProgress(value=0.0, description='Epoch 21', max=847.0, style=ProgressStyle(description_wid…"
      ]
     },
     "metadata": {},
     "output_type": "display_data"
    },
    {
     "data": {
      "application/vnd.jupyter.widget-view+json": {
       "model_id": "",
       "version_major": 2,
       "version_minor": 0
      },
      "text/plain": [
       "HBox(children=(FloatProgress(value=0.0, description='Epoch 22', max=847.0, style=ProgressStyle(description_wid…"
      ]
     },
     "metadata": {},
     "output_type": "display_data"
    },
    {
     "data": {
      "application/vnd.jupyter.widget-view+json": {
       "model_id": "",
       "version_major": 2,
       "version_minor": 0
      },
      "text/plain": [
       "HBox(children=(FloatProgress(value=0.0, description='Epoch 23', max=847.0, style=ProgressStyle(description_wid…"
      ]
     },
     "metadata": {},
     "output_type": "display_data"
    },
    {
     "data": {
      "application/vnd.jupyter.widget-view+json": {
       "model_id": "",
       "version_major": 2,
       "version_minor": 0
      },
      "text/plain": [
       "HBox(children=(FloatProgress(value=0.0, description='Epoch 24', max=847.0, style=ProgressStyle(description_wid…"
      ]
     },
     "metadata": {},
     "output_type": "display_data"
    },
    {
     "data": {
      "application/vnd.jupyter.widget-view+json": {
       "model_id": "",
       "version_major": 2,
       "version_minor": 0
      },
      "text/plain": [
       "HBox(children=(FloatProgress(value=0.0, description='Epoch 25', max=847.0, style=ProgressStyle(description_wid…"
      ]
     },
     "metadata": {},
     "output_type": "display_data"
    },
    {
     "data": {
      "application/vnd.jupyter.widget-view+json": {
       "model_id": "",
       "version_major": 2,
       "version_minor": 0
      },
      "text/plain": [
       "HBox(children=(FloatProgress(value=0.0, description='Epoch 26', max=847.0, style=ProgressStyle(description_wid…"
      ]
     },
     "metadata": {},
     "output_type": "display_data"
    },
    {
     "data": {
      "application/vnd.jupyter.widget-view+json": {
       "model_id": "",
       "version_major": 2,
       "version_minor": 0
      },
      "text/plain": [
       "HBox(children=(FloatProgress(value=0.0, description='Epoch 27', max=847.0, style=ProgressStyle(description_wid…"
      ]
     },
     "metadata": {},
     "output_type": "display_data"
    },
    {
     "data": {
      "application/vnd.jupyter.widget-view+json": {
       "model_id": "",
       "version_major": 2,
       "version_minor": 0
      },
      "text/plain": [
       "HBox(children=(FloatProgress(value=0.0, description='Epoch 28', max=847.0, style=ProgressStyle(description_wid…"
      ]
     },
     "metadata": {},
     "output_type": "display_data"
    },
    {
     "data": {
      "application/vnd.jupyter.widget-view+json": {
       "model_id": "",
       "version_major": 2,
       "version_minor": 0
      },
      "text/plain": [
       "HBox(children=(FloatProgress(value=0.0, description='Epoch 29', max=847.0, style=ProgressStyle(description_wid…"
      ]
     },
     "metadata": {},
     "output_type": "display_data"
    },
    {
     "data": {
      "application/vnd.jupyter.widget-view+json": {
       "model_id": "",
       "version_major": 2,
       "version_minor": 0
      },
      "text/plain": [
       "HBox(children=(FloatProgress(value=0.0, description='Epoch 30', max=847.0, style=ProgressStyle(description_wid…"
      ]
     },
     "metadata": {},
     "output_type": "display_data"
    },
    {
     "data": {
      "application/vnd.jupyter.widget-view+json": {
       "model_id": "",
       "version_major": 2,
       "version_minor": 0
      },
      "text/plain": [
       "HBox(children=(FloatProgress(value=0.0, description='Epoch 31', max=847.0, style=ProgressStyle(description_wid…"
      ]
     },
     "metadata": {},
     "output_type": "display_data"
    },
    {
     "data": {
      "application/vnd.jupyter.widget-view+json": {
       "model_id": "",
       "version_major": 2,
       "version_minor": 0
      },
      "text/plain": [
       "HBox(children=(FloatProgress(value=0.0, description='Epoch 32', max=847.0, style=ProgressStyle(description_wid…"
      ]
     },
     "metadata": {},
     "output_type": "display_data"
    },
    {
     "data": {
      "application/vnd.jupyter.widget-view+json": {
       "model_id": "",
       "version_major": 2,
       "version_minor": 0
      },
      "text/plain": [
       "HBox(children=(FloatProgress(value=0.0, description='Epoch 33', max=847.0, style=ProgressStyle(description_wid…"
      ]
     },
     "metadata": {},
     "output_type": "display_data"
    },
    {
     "data": {
      "application/vnd.jupyter.widget-view+json": {
       "model_id": "",
       "version_major": 2,
       "version_minor": 0
      },
      "text/plain": [
       "HBox(children=(FloatProgress(value=0.0, description='Epoch 34', max=847.0, style=ProgressStyle(description_wid…"
      ]
     },
     "metadata": {},
     "output_type": "display_data"
    },
    {
     "data": {
      "application/vnd.jupyter.widget-view+json": {
       "model_id": "",
       "version_major": 2,
       "version_minor": 0
      },
      "text/plain": [
       "HBox(children=(FloatProgress(value=0.0, description='Epoch 35', max=847.0, style=ProgressStyle(description_wid…"
      ]
     },
     "metadata": {},
     "output_type": "display_data"
    },
    {
     "data": {
      "application/vnd.jupyter.widget-view+json": {
       "model_id": "",
       "version_major": 2,
       "version_minor": 0
      },
      "text/plain": [
       "HBox(children=(FloatProgress(value=0.0, description='Epoch 36', max=847.0, style=ProgressStyle(description_wid…"
      ]
     },
     "metadata": {},
     "output_type": "display_data"
    },
    {
     "data": {
      "application/vnd.jupyter.widget-view+json": {
       "model_id": "",
       "version_major": 2,
       "version_minor": 0
      },
      "text/plain": [
       "HBox(children=(FloatProgress(value=0.0, description='Epoch 37', max=847.0, style=ProgressStyle(description_wid…"
      ]
     },
     "metadata": {},
     "output_type": "display_data"
    },
    {
     "data": {
      "application/vnd.jupyter.widget-view+json": {
       "model_id": "",
       "version_major": 2,
       "version_minor": 0
      },
      "text/plain": [
       "HBox(children=(FloatProgress(value=0.0, description='Epoch 38', max=847.0, style=ProgressStyle(description_wid…"
      ]
     },
     "metadata": {},
     "output_type": "display_data"
    },
    {
     "data": {
      "application/vnd.jupyter.widget-view+json": {
       "model_id": "",
       "version_major": 2,
       "version_minor": 0
      },
      "text/plain": [
       "HBox(children=(FloatProgress(value=0.0, description='Epoch 39', max=847.0, style=ProgressStyle(description_wid…"
      ]
     },
     "metadata": {},
     "output_type": "display_data"
    },
    {
     "data": {
      "application/vnd.jupyter.widget-view+json": {
       "model_id": "",
       "version_major": 2,
       "version_minor": 0
      },
      "text/plain": [
       "HBox(children=(FloatProgress(value=0.0, description='Epoch 40', max=847.0, style=ProgressStyle(description_wid…"
      ]
     },
     "metadata": {},
     "output_type": "display_data"
    },
    {
     "data": {
      "application/vnd.jupyter.widget-view+json": {
       "model_id": "",
       "version_major": 2,
       "version_minor": 0
      },
      "text/plain": [
       "HBox(children=(FloatProgress(value=0.0, description='Epoch 41', max=847.0, style=ProgressStyle(description_wid…"
      ]
     },
     "metadata": {},
     "output_type": "display_data"
    },
    {
     "data": {
      "application/vnd.jupyter.widget-view+json": {
       "model_id": "",
       "version_major": 2,
       "version_minor": 0
      },
      "text/plain": [
       "HBox(children=(FloatProgress(value=0.0, description='Epoch 42', max=847.0, style=ProgressStyle(description_wid…"
      ]
     },
     "metadata": {},
     "output_type": "display_data"
    },
    {
     "data": {
      "application/vnd.jupyter.widget-view+json": {
       "model_id": "",
       "version_major": 2,
       "version_minor": 0
      },
      "text/plain": [
       "HBox(children=(FloatProgress(value=0.0, description='Epoch 43', max=847.0, style=ProgressStyle(description_wid…"
      ]
     },
     "metadata": {},
     "output_type": "display_data"
    },
    {
     "data": {
      "application/vnd.jupyter.widget-view+json": {
       "model_id": "",
       "version_major": 2,
       "version_minor": 0
      },
      "text/plain": [
       "HBox(children=(FloatProgress(value=0.0, description='Epoch 44', max=847.0, style=ProgressStyle(description_wid…"
      ]
     },
     "metadata": {},
     "output_type": "display_data"
    },
    {
     "data": {
      "application/vnd.jupyter.widget-view+json": {
       "model_id": "",
       "version_major": 2,
       "version_minor": 0
      },
      "text/plain": [
       "HBox(children=(FloatProgress(value=0.0, description='Epoch 45', max=847.0, style=ProgressStyle(description_wid…"
      ]
     },
     "metadata": {},
     "output_type": "display_data"
    },
    {
     "data": {
      "application/vnd.jupyter.widget-view+json": {
       "model_id": "",
       "version_major": 2,
       "version_minor": 0
      },
      "text/plain": [
       "HBox(children=(FloatProgress(value=0.0, description='Epoch 46', max=847.0, style=ProgressStyle(description_wid…"
      ]
     },
     "metadata": {},
     "output_type": "display_data"
    },
    {
     "data": {
      "application/vnd.jupyter.widget-view+json": {
       "model_id": "",
       "version_major": 2,
       "version_minor": 0
      },
      "text/plain": [
       "HBox(children=(FloatProgress(value=0.0, description='Epoch 47', max=847.0, style=ProgressStyle(description_wid…"
      ]
     },
     "metadata": {},
     "output_type": "display_data"
    },
    {
     "data": {
      "application/vnd.jupyter.widget-view+json": {
       "model_id": "",
       "version_major": 2,
       "version_minor": 0
      },
      "text/plain": [
       "HBox(children=(FloatProgress(value=0.0, description='Epoch 48', max=847.0, style=ProgressStyle(description_wid…"
      ]
     },
     "metadata": {},
     "output_type": "display_data"
    },
    {
     "data": {
      "application/vnd.jupyter.widget-view+json": {
       "model_id": "",
       "version_major": 2,
       "version_minor": 0
      },
      "text/plain": [
       "HBox(children=(FloatProgress(value=0.0, description='Epoch 49', max=847.0, style=ProgressStyle(description_wid…"
      ]
     },
     "metadata": {},
     "output_type": "display_data"
    },
    {
     "data": {
      "application/vnd.jupyter.widget-view+json": {
       "model_id": "",
       "version_major": 2,
       "version_minor": 0
      },
      "text/plain": [
       "HBox(children=(FloatProgress(value=0.0, description='Epoch 50', max=847.0, style=ProgressStyle(description_wid…"
      ]
     },
     "metadata": {},
     "output_type": "display_data"
    },
    {
     "data": {
      "application/vnd.jupyter.widget-view+json": {
       "model_id": "",
       "version_major": 2,
       "version_minor": 0
      },
      "text/plain": [
       "HBox(children=(FloatProgress(value=0.0, description='Epoch 51', max=847.0, style=ProgressStyle(description_wid…"
      ]
     },
     "metadata": {},
     "output_type": "display_data"
    },
    {
     "data": {
      "application/vnd.jupyter.widget-view+json": {
       "model_id": "",
       "version_major": 2,
       "version_minor": 0
      },
      "text/plain": [
       "HBox(children=(FloatProgress(value=0.0, description='Epoch 52', max=847.0, style=ProgressStyle(description_wid…"
      ]
     },
     "metadata": {},
     "output_type": "display_data"
    },
    {
     "data": {
      "application/vnd.jupyter.widget-view+json": {
       "model_id": "",
       "version_major": 2,
       "version_minor": 0
      },
      "text/plain": [
       "HBox(children=(FloatProgress(value=0.0, description='Epoch 53', max=847.0, style=ProgressStyle(description_wid…"
      ]
     },
     "metadata": {},
     "output_type": "display_data"
    },
    {
     "data": {
      "application/vnd.jupyter.widget-view+json": {
       "model_id": "",
       "version_major": 2,
       "version_minor": 0
      },
      "text/plain": [
       "HBox(children=(FloatProgress(value=0.0, description='Epoch 54', max=847.0, style=ProgressStyle(description_wid…"
      ]
     },
     "metadata": {},
     "output_type": "display_data"
    },
    {
     "data": {
      "application/vnd.jupyter.widget-view+json": {
       "model_id": "",
       "version_major": 2,
       "version_minor": 0
      },
      "text/plain": [
       "HBox(children=(FloatProgress(value=0.0, description='Epoch 55', max=847.0, style=ProgressStyle(description_wid…"
      ]
     },
     "metadata": {},
     "output_type": "display_data"
    },
    {
     "data": {
      "application/vnd.jupyter.widget-view+json": {
       "model_id": "",
       "version_major": 2,
       "version_minor": 0
      },
      "text/plain": [
       "HBox(children=(FloatProgress(value=0.0, description='Epoch 56', max=847.0, style=ProgressStyle(description_wid…"
      ]
     },
     "metadata": {},
     "output_type": "display_data"
    },
    {
     "data": {
      "application/vnd.jupyter.widget-view+json": {
       "model_id": "",
       "version_major": 2,
       "version_minor": 0
      },
      "text/plain": [
       "HBox(children=(FloatProgress(value=0.0, description='Epoch 57', max=847.0, style=ProgressStyle(description_wid…"
      ]
     },
     "metadata": {},
     "output_type": "display_data"
    },
    {
     "data": {
      "application/vnd.jupyter.widget-view+json": {
       "model_id": "",
       "version_major": 2,
       "version_minor": 0
      },
      "text/plain": [
       "HBox(children=(FloatProgress(value=0.0, description='Epoch 58', max=847.0, style=ProgressStyle(description_wid…"
      ]
     },
     "metadata": {},
     "output_type": "display_data"
    },
    {
     "data": {
      "application/vnd.jupyter.widget-view+json": {
       "model_id": "",
       "version_major": 2,
       "version_minor": 0
      },
      "text/plain": [
       "HBox(children=(FloatProgress(value=0.0, description='Epoch 59', max=847.0, style=ProgressStyle(description_wid…"
      ]
     },
     "metadata": {},
     "output_type": "display_data"
    },
    {
     "data": {
      "application/vnd.jupyter.widget-view+json": {
       "model_id": "",
       "version_major": 2,
       "version_minor": 0
      },
      "text/plain": [
       "HBox(children=(FloatProgress(value=0.0, description='Epoch 60', max=847.0, style=ProgressStyle(description_wid…"
      ]
     },
     "metadata": {},
     "output_type": "display_data"
    },
    {
     "data": {
      "application/vnd.jupyter.widget-view+json": {
       "model_id": "",
       "version_major": 2,
       "version_minor": 0
      },
      "text/plain": [
       "HBox(children=(FloatProgress(value=0.0, description='Epoch 61', max=847.0, style=ProgressStyle(description_wid…"
      ]
     },
     "metadata": {},
     "output_type": "display_data"
    },
    {
     "data": {
      "application/vnd.jupyter.widget-view+json": {
       "model_id": "",
       "version_major": 2,
       "version_minor": 0
      },
      "text/plain": [
       "HBox(children=(FloatProgress(value=0.0, description='Epoch 62', max=847.0, style=ProgressStyle(description_wid…"
      ]
     },
     "metadata": {},
     "output_type": "display_data"
    },
    {
     "data": {
      "application/vnd.jupyter.widget-view+json": {
       "model_id": "",
       "version_major": 2,
       "version_minor": 0
      },
      "text/plain": [
       "HBox(children=(FloatProgress(value=0.0, description='Epoch 63', max=847.0, style=ProgressStyle(description_wid…"
      ]
     },
     "metadata": {},
     "output_type": "display_data"
    },
    {
     "data": {
      "application/vnd.jupyter.widget-view+json": {
       "model_id": "",
       "version_major": 2,
       "version_minor": 0
      },
      "text/plain": [
       "HBox(children=(FloatProgress(value=0.0, description='Epoch 64', max=847.0, style=ProgressStyle(description_wid…"
      ]
     },
     "metadata": {},
     "output_type": "display_data"
    },
    {
     "data": {
      "application/vnd.jupyter.widget-view+json": {
       "model_id": "",
       "version_major": 2,
       "version_minor": 0
      },
      "text/plain": [
       "HBox(children=(FloatProgress(value=0.0, description='Epoch 65', max=847.0, style=ProgressStyle(description_wid…"
      ]
     },
     "metadata": {},
     "output_type": "display_data"
    },
    {
     "data": {
      "application/vnd.jupyter.widget-view+json": {
       "model_id": "",
       "version_major": 2,
       "version_minor": 0
      },
      "text/plain": [
       "HBox(children=(FloatProgress(value=0.0, description='Epoch 66', max=847.0, style=ProgressStyle(description_wid…"
      ]
     },
     "metadata": {},
     "output_type": "display_data"
    },
    {
     "data": {
      "application/vnd.jupyter.widget-view+json": {
       "model_id": "",
       "version_major": 2,
       "version_minor": 0
      },
      "text/plain": [
       "HBox(children=(FloatProgress(value=0.0, description='Epoch 67', max=847.0, style=ProgressStyle(description_wid…"
      ]
     },
     "metadata": {},
     "output_type": "display_data"
    },
    {
     "data": {
      "application/vnd.jupyter.widget-view+json": {
       "model_id": "",
       "version_major": 2,
       "version_minor": 0
      },
      "text/plain": [
       "HBox(children=(FloatProgress(value=0.0, description='Epoch 68', max=847.0, style=ProgressStyle(description_wid…"
      ]
     },
     "metadata": {},
     "output_type": "display_data"
    },
    {
     "data": {
      "application/vnd.jupyter.widget-view+json": {
       "model_id": "",
       "version_major": 2,
       "version_minor": 0
      },
      "text/plain": [
       "HBox(children=(FloatProgress(value=0.0, description='Epoch 69', max=847.0, style=ProgressStyle(description_wid…"
      ]
     },
     "metadata": {},
     "output_type": "display_data"
    },
    {
     "data": {
      "application/vnd.jupyter.widget-view+json": {
       "model_id": "",
       "version_major": 2,
       "version_minor": 0
      },
      "text/plain": [
       "HBox(children=(FloatProgress(value=0.0, description='Epoch 70', max=847.0, style=ProgressStyle(description_wid…"
      ]
     },
     "metadata": {},
     "output_type": "display_data"
    },
    {
     "data": {
      "application/vnd.jupyter.widget-view+json": {
       "model_id": "",
       "version_major": 2,
       "version_minor": 0
      },
      "text/plain": [
       "HBox(children=(FloatProgress(value=0.0, description='Epoch 71', max=847.0, style=ProgressStyle(description_wid…"
      ]
     },
     "metadata": {},
     "output_type": "display_data"
    },
    {
     "data": {
      "application/vnd.jupyter.widget-view+json": {
       "model_id": "",
       "version_major": 2,
       "version_minor": 0
      },
      "text/plain": [
       "HBox(children=(FloatProgress(value=0.0, description='Epoch 72', max=847.0, style=ProgressStyle(description_wid…"
      ]
     },
     "metadata": {},
     "output_type": "display_data"
    },
    {
     "data": {
      "application/vnd.jupyter.widget-view+json": {
       "model_id": "",
       "version_major": 2,
       "version_minor": 0
      },
      "text/plain": [
       "HBox(children=(FloatProgress(value=0.0, description='Epoch 73', max=847.0, style=ProgressStyle(description_wid…"
      ]
     },
     "metadata": {},
     "output_type": "display_data"
    },
    {
     "data": {
      "application/vnd.jupyter.widget-view+json": {
       "model_id": "",
       "version_major": 2,
       "version_minor": 0
      },
      "text/plain": [
       "HBox(children=(FloatProgress(value=0.0, description='Epoch 74', max=847.0, style=ProgressStyle(description_wid…"
      ]
     },
     "metadata": {},
     "output_type": "display_data"
    },
    {
     "data": {
      "application/vnd.jupyter.widget-view+json": {
       "model_id": "",
       "version_major": 2,
       "version_minor": 0
      },
      "text/plain": [
       "HBox(children=(FloatProgress(value=0.0, description='Epoch 75', max=847.0, style=ProgressStyle(description_wid…"
      ]
     },
     "metadata": {},
     "output_type": "display_data"
    },
    {
     "data": {
      "application/vnd.jupyter.widget-view+json": {
       "model_id": "",
       "version_major": 2,
       "version_minor": 0
      },
      "text/plain": [
       "HBox(children=(FloatProgress(value=0.0, description='Epoch 76', max=847.0, style=ProgressStyle(description_wid…"
      ]
     },
     "metadata": {},
     "output_type": "display_data"
    },
    {
     "data": {
      "application/vnd.jupyter.widget-view+json": {
       "model_id": "",
       "version_major": 2,
       "version_minor": 0
      },
      "text/plain": [
       "HBox(children=(FloatProgress(value=0.0, description='Epoch 77', max=847.0, style=ProgressStyle(description_wid…"
      ]
     },
     "metadata": {},
     "output_type": "display_data"
    },
    {
     "data": {
      "application/vnd.jupyter.widget-view+json": {
       "model_id": "",
       "version_major": 2,
       "version_minor": 0
      },
      "text/plain": [
       "HBox(children=(FloatProgress(value=0.0, description='Epoch 78', max=847.0, style=ProgressStyle(description_wid…"
      ]
     },
     "metadata": {},
     "output_type": "display_data"
    },
    {
     "data": {
      "application/vnd.jupyter.widget-view+json": {
       "model_id": "",
       "version_major": 2,
       "version_minor": 0
      },
      "text/plain": [
       "HBox(children=(FloatProgress(value=0.0, description='Epoch 79', max=847.0, style=ProgressStyle(description_wid…"
      ]
     },
     "metadata": {},
     "output_type": "display_data"
    },
    {
     "data": {
      "application/vnd.jupyter.widget-view+json": {
       "model_id": "",
       "version_major": 2,
       "version_minor": 0
      },
      "text/plain": [
       "HBox(children=(FloatProgress(value=0.0, description='Epoch 80', max=847.0, style=ProgressStyle(description_wid…"
      ]
     },
     "metadata": {},
     "output_type": "display_data"
    },
    {
     "data": {
      "application/vnd.jupyter.widget-view+json": {
       "model_id": "",
       "version_major": 2,
       "version_minor": 0
      },
      "text/plain": [
       "HBox(children=(FloatProgress(value=0.0, description='Epoch 81', max=847.0, style=ProgressStyle(description_wid…"
      ]
     },
     "metadata": {},
     "output_type": "display_data"
    },
    {
     "data": {
      "application/vnd.jupyter.widget-view+json": {
       "model_id": "",
       "version_major": 2,
       "version_minor": 0
      },
      "text/plain": [
       "HBox(children=(FloatProgress(value=0.0, description='Epoch 82', max=847.0, style=ProgressStyle(description_wid…"
      ]
     },
     "metadata": {},
     "output_type": "display_data"
    },
    {
     "data": {
      "application/vnd.jupyter.widget-view+json": {
       "model_id": "",
       "version_major": 2,
       "version_minor": 0
      },
      "text/plain": [
       "HBox(children=(FloatProgress(value=0.0, description='Epoch 83', max=847.0, style=ProgressStyle(description_wid…"
      ]
     },
     "metadata": {},
     "output_type": "display_data"
    },
    {
     "data": {
      "application/vnd.jupyter.widget-view+json": {
       "model_id": "",
       "version_major": 2,
       "version_minor": 0
      },
      "text/plain": [
       "HBox(children=(FloatProgress(value=0.0, description='Epoch 84', max=847.0, style=ProgressStyle(description_wid…"
      ]
     },
     "metadata": {},
     "output_type": "display_data"
    },
    {
     "data": {
      "application/vnd.jupyter.widget-view+json": {
       "model_id": "",
       "version_major": 2,
       "version_minor": 0
      },
      "text/plain": [
       "HBox(children=(FloatProgress(value=0.0, description='Epoch 85', max=847.0, style=ProgressStyle(description_wid…"
      ]
     },
     "metadata": {},
     "output_type": "display_data"
    },
    {
     "data": {
      "application/vnd.jupyter.widget-view+json": {
       "model_id": "",
       "version_major": 2,
       "version_minor": 0
      },
      "text/plain": [
       "HBox(children=(FloatProgress(value=0.0, description='Epoch 86', max=847.0, style=ProgressStyle(description_wid…"
      ]
     },
     "metadata": {},
     "output_type": "display_data"
    },
    {
     "data": {
      "application/vnd.jupyter.widget-view+json": {
       "model_id": "",
       "version_major": 2,
       "version_minor": 0
      },
      "text/plain": [
       "HBox(children=(FloatProgress(value=0.0, description='Epoch 87', max=847.0, style=ProgressStyle(description_wid…"
      ]
     },
     "metadata": {},
     "output_type": "display_data"
    },
    {
     "data": {
      "application/vnd.jupyter.widget-view+json": {
       "model_id": "",
       "version_major": 2,
       "version_minor": 0
      },
      "text/plain": [
       "HBox(children=(FloatProgress(value=0.0, description='Epoch 88', max=847.0, style=ProgressStyle(description_wid…"
      ]
     },
     "metadata": {},
     "output_type": "display_data"
    },
    {
     "data": {
      "application/vnd.jupyter.widget-view+json": {
       "model_id": "",
       "version_major": 2,
       "version_minor": 0
      },
      "text/plain": [
       "HBox(children=(FloatProgress(value=0.0, description='Epoch 89', max=847.0, style=ProgressStyle(description_wid…"
      ]
     },
     "metadata": {},
     "output_type": "display_data"
    },
    {
     "data": {
      "application/vnd.jupyter.widget-view+json": {
       "model_id": "",
       "version_major": 2,
       "version_minor": 0
      },
      "text/plain": [
       "HBox(children=(FloatProgress(value=0.0, description='Epoch 90', max=847.0, style=ProgressStyle(description_wid…"
      ]
     },
     "metadata": {},
     "output_type": "display_data"
    },
    {
     "data": {
      "application/vnd.jupyter.widget-view+json": {
       "model_id": "",
       "version_major": 2,
       "version_minor": 0
      },
      "text/plain": [
       "HBox(children=(FloatProgress(value=0.0, description='Epoch 91', max=847.0, style=ProgressStyle(description_wid…"
      ]
     },
     "metadata": {},
     "output_type": "display_data"
    },
    {
     "data": {
      "application/vnd.jupyter.widget-view+json": {
       "model_id": "",
       "version_major": 2,
       "version_minor": 0
      },
      "text/plain": [
       "HBox(children=(FloatProgress(value=0.0, description='Epoch 92', max=847.0, style=ProgressStyle(description_wid…"
      ]
     },
     "metadata": {},
     "output_type": "display_data"
    },
    {
     "data": {
      "application/vnd.jupyter.widget-view+json": {
       "model_id": "",
       "version_major": 2,
       "version_minor": 0
      },
      "text/plain": [
       "HBox(children=(FloatProgress(value=0.0, description='Epoch 93', max=847.0, style=ProgressStyle(description_wid…"
      ]
     },
     "metadata": {},
     "output_type": "display_data"
    },
    {
     "data": {
      "application/vnd.jupyter.widget-view+json": {
       "model_id": "",
       "version_major": 2,
       "version_minor": 0
      },
      "text/plain": [
       "HBox(children=(FloatProgress(value=0.0, description='Epoch 94', max=847.0, style=ProgressStyle(description_wid…"
      ]
     },
     "metadata": {},
     "output_type": "display_data"
    },
    {
     "data": {
      "application/vnd.jupyter.widget-view+json": {
       "model_id": "",
       "version_major": 2,
       "version_minor": 0
      },
      "text/plain": [
       "HBox(children=(FloatProgress(value=0.0, description='Epoch 95', max=847.0, style=ProgressStyle(description_wid…"
      ]
     },
     "metadata": {},
     "output_type": "display_data"
    },
    {
     "data": {
      "application/vnd.jupyter.widget-view+json": {
       "model_id": "",
       "version_major": 2,
       "version_minor": 0
      },
      "text/plain": [
       "HBox(children=(FloatProgress(value=0.0, description='Epoch 96', max=847.0, style=ProgressStyle(description_wid…"
      ]
     },
     "metadata": {},
     "output_type": "display_data"
    },
    {
     "data": {
      "application/vnd.jupyter.widget-view+json": {
       "model_id": "",
       "version_major": 2,
       "version_minor": 0
      },
      "text/plain": [
       "HBox(children=(FloatProgress(value=0.0, description='Epoch 97', max=847.0, style=ProgressStyle(description_wid…"
      ]
     },
     "metadata": {},
     "output_type": "display_data"
    },
    {
     "data": {
      "application/vnd.jupyter.widget-view+json": {
       "model_id": "",
       "version_major": 2,
       "version_minor": 0
      },
      "text/plain": [
       "HBox(children=(FloatProgress(value=0.0, description='Epoch 98', max=847.0, style=ProgressStyle(description_wid…"
      ]
     },
     "metadata": {},
     "output_type": "display_data"
    },
    {
     "data": {
      "application/vnd.jupyter.widget-view+json": {
       "model_id": "",
       "version_major": 2,
       "version_minor": 0
      },
      "text/plain": [
       "HBox(children=(FloatProgress(value=0.0, description='Epoch 99', max=847.0, style=ProgressStyle(description_wid…"
      ]
     },
     "metadata": {},
     "output_type": "display_data"
    },
    {
     "name": "stdout",
     "output_type": "stream",
     "text": [
      "\n",
      "CPU times: user 4min 32s, sys: 21 s, total: 4min 53s\n",
      "Wall time: 4min 55s\n"
     ]
    }
   ],
   "source": [
    "%%time\n",
    "w1, w2 = train(examples)\n"
   ]
  },
  {
   "cell_type": "markdown",
   "metadata": {},
   "source": [
    "<a id='phase-3'></a><a id='section-3'></a>\n",
    "\n",
    "---\n",
    "<span class='bold'>Section</span> [Previous](#phase-2) &bull; [Next](#phase-4) &bull; [3.0 Wordsmithing](#section-3) &bull; [3.1 Random Inspection](#section-3-1) &bull; [3.2 Attemping Algebra](#section-3-2)\n",
    "\n",
    "# Some Examples \n",
    "\n",
    "<img src='./images/wordsmith.png' style='float: left; margin-right: 5em; margin-left: 2em; height: 10em;' />\n",
    "\n",
    "## <span class='phase-3'>3.0 Wordsmithing</span> \n",
    "\n",
    "To make use of the learned weights from training, we should define some functions to do things like convert words into vectors and check for similarity between vectors."
   ]
  },
  {
   "cell_type": "code",
   "execution_count": 18,
   "metadata": {},
   "outputs": [],
   "source": [
    "def word_vector(token, model=w1):\n",
    "    ''' Return the word vector corresponding to a token '''\n",
    "    if isinstance(token, np.ndarray) or isinstance(token, list):\n",
    "        return token\n",
    "    if isinstance(token, str):\n",
    "        token = VOCAB[token]\n",
    "    return model[token]\n",
    "\n",
    "def similarity(vector1, vector2):\n",
    "    ''' Return the cosine similarity score for two tokens input as vectors '''\n",
    "    vector1, vector2 = word_vector(vector1), word_vector(vector2)\n",
    "    a = np.dot(vector1, vector2)\n",
    "    b = np.dot(vector1, vector1)\n",
    "    c = np.dot(vector2, vector2)\n",
    "    return a / (np.sqrt(b) * np.sqrt(c))\n"
   ]
  },
  {
   "cell_type": "markdown",
   "metadata": {},
   "source": [
    "<a id='section-3-1'></a>\n",
    "\n",
    "---\n",
    "<span class='bold'>Section</span> [Previous](#phase-3) &bull; [Next](#phase-4) &bull; [3.0 Wordsmithing](#section-3) &bull; [3.1 Random Inspection](#section-3-1) &bull; [3.2 Attemping Algebra](#section-3-2)\n",
    "\n",
    "### <span class='phase-3'>3.1 Random Inspection</span> \n",
    "We inspect randomly selected words for their similarity score where $similarity \\in [-1,1]$"
   ]
  },
  {
   "cell_type": "code",
   "execution_count": 19,
   "metadata": {},
   "outputs": [
    {
     "name": "stdout",
     "output_type": "stream",
     "text": [
      "\"one\" and \"pointed\" have a similarity score of 0.609\n"
     ]
    }
   ],
   "source": [
    "v1 = np.random.choice(WORDS)\n",
    "v2 = np.random.choice(WORDS)\n",
    "\n",
    "print(f'\"{v1}\" and \"{v2}\" have a similarity score of {round(similarity(v1, v2), 3)}')\n"
   ]
  },
  {
   "cell_type": "markdown",
   "metadata": {},
   "source": [
    "<br>\n",
    "<br>\n",
    "<br>\n",
    "<br>\n",
    "<a id='section-3-2'></a>\n",
    "\n",
    "---\n",
    "<span class='bold'>Section</span> [Previous](#phase-3) &bull; [Next](#phase-4) &bull; [3.0 Wordsmithing](#section-3) &bull; [3.1 Random Inspection](#section-3-1) &bull; [3.2 Attemping Algebra](#section-3-2)\n",
    "\n",
    "### <span class='phase-3'>3.2 Attempting Algebra</span> \n",
    "\n",
    "With our quickly trained model, we can try some linear algebra to derive semantic meanings from our vectors."
   ]
  },
  {
   "cell_type": "code",
   "execution_count": 20,
   "metadata": {},
   "outputs": [
    {
     "name": "stdout",
     "output_type": "stream",
     "text": [
      "\"brother\" and \"sister\" similarity is 0.09\n",
      "\"sibling\" (derived) and \"sister\" similarity is 0.15\n"
     ]
    }
   ],
   "source": [
    "he, she, brother, sister = [word_vector(_) for _ in ['he', 'she', 'brother', 'sister']]\n",
    "\n",
    "sibling = similarity(brother, sister)\n",
    "\n",
    "new_sibling = brother + she\n",
    "new_sibling = similarity(new_sibling, sister)\n",
    "\n",
    "print(f'\"brother\" and \"sister\" similarity is {round(sibling, 2):.2f}')\n",
    "print(f'\"sibling\" (derived) and \"sister\" similarity is {round(new_sibling, 2):.2f}')\n"
   ]
  },
  {
   "cell_type": "markdown",
   "metadata": {},
   "source": [
    "<br>\n",
    "<br>\n",
    "<br>\n",
    "<br>\n",
    "\n",
    "<a id='phase-4'></a><a id='section-4'></a>\n",
    "\n",
    "\n",
    "---\n",
    "<span class='bold'>Section</span> [Previous](#phase-3) &bull; [Next](#phase-5) &bull; [4.0 Declaring the Models](#section-4) &bull; [4.1 Dimension Reduction](#section-4-1) &bull; [4.2 Vector Space](#section-4-2)\n",
    "\n",
    "<!--\n",
    "<img src='./images/data_viz.png' style='float: right; margin-left: 2em;' />\n",
    "-->\n",
    "\n",
    "## Data Visualization \n",
    "\n",
    "We can visualize our word vectors trained using plotting packages like `matplotlib`, `seaborn`, and others. I make use of the `altair` visualization package.\n",
    "\n",
    "\n",
    "### <span class='phase-4'>4.0</span> Declaring the Models \n",
    "\n",
    "We will use Principle Component Analysis (PCA) and t-Stochastic Neighbor Embeddings (t-SNE) to convert our high-dimensional data into 2- and 3-dimensional data for visualization."
   ]
  },
  {
   "cell_type": "code",
   "execution_count": 21,
   "metadata": {},
   "outputs": [],
   "source": [
    "from sklearn.decomposition import PCA\n",
    "from sklearn.preprocessing import StandardScaler\n",
    "from sklearn.manifold import TSNE\n",
    "\n",
    "pca2 = PCA(n_components=2)\n",
    "pca50 = PCA(n_components=min(50, w1.shape[0]))\n",
    "tsne = TSNE(n_components=3, perplexity=600, n_iter=2500, learning_rate=100)\n",
    "scale = StandardScaler()\n",
    "\n",
    "label_dimensions = lambda n : [f'd{_}' for _ in range(n)]\n",
    "label_index = lambda i : [f'{VOCABR[i]}' for i in range(i)]\n",
    "tagged = [(a.lower(), b.lower()[:2]) for a, b in tagged]\n",
    "tagged_words = pd.DataFrame(tagged, columns=['index', 'tag']).drop_duplicates('index')\n"
   ]
  },
  {
   "cell_type": "markdown",
   "metadata": {},
   "source": [
    "Keep the vectors for the words in our `data`."
   ]
  },
  {
   "cell_type": "code",
   "execution_count": 22,
   "metadata": {},
   "outputs": [],
   "source": [
    "viz_tokens = np.unique(np.array([t for _ in data for t in _]))\n"
   ]
  },
  {
   "cell_type": "markdown",
   "metadata": {},
   "source": [
    "<a id='section-4-1'></a>\n",
    "\n",
    "---\n",
    "<span class='bold'>Section</span> [Previous](#phase-4) &bull; [Next](#phase-5) &bull; [4.0 Declaring the Models](#section-4) &bull; [4.1 Dimension Reduction](#section-4-1) &bull; [4.2 Vector Space](#section-4-2)\n",
    "\n",
    "### <span class='phase-4'>4.1 Dimension Reduction</span>\n",
    "Normalize the vector weights so that $\\mu = 0$ and $\\sigma = 1$."
   ]
  },
  {
   "cell_type": "code",
   "execution_count": 23,
   "metadata": {},
   "outputs": [],
   "source": [
    "scaled_data = scale.fit_transform(w1)\n"
   ]
  },
  {
   "cell_type": "markdown",
   "metadata": {},
   "source": [
    "Reduce dimensionality via PCA transform. Create one set of data for visualization and another set of data to feed the t-SNE algorithm."
   ]
  },
  {
   "cell_type": "code",
   "execution_count": 24,
   "metadata": {},
   "outputs": [
    {
     "name": "stdout",
     "output_type": "stream",
     "text": [
      "DataFrame sizes: pca_data_2 = 776\tpca_data_50 = 776\n",
      "CPU times: user 263 ms, sys: 4.96 ms, total: 268 ms\n",
      "Wall time: 266 ms\n"
     ]
    }
   ],
   "source": [
    "%%time\n",
    "pca_data_2 = pca2.fit_transform(scaled_data)\n",
    "pca_data_50 = pca50.fit_transform(scaled_data)\n",
    "\n",
    "pca_data_2 = pd.DataFrame(pca_data_2, columns = label_dimensions(2), index=label_index(WORDS.size))\n",
    "pca_data_50 = pd.DataFrame(pca_data_50, columns = label_dimensions(50), index=label_index(WORDS.size))\n",
    "\n",
    "print(f'DataFrame sizes: pca_data_2 = {pca_data_2.shape[0]}\\tpca_data_50 = {pca_data_50.shape[0]}')\n"
   ]
  },
  {
   "cell_type": "markdown",
   "metadata": {},
   "source": [
    "Reduce dimensionality via TSNE transform.\n",
    "<p class='attention banner'> Results may vary from run to run</p>"
   ]
  },
  {
   "cell_type": "code",
   "execution_count": 25,
   "metadata": {},
   "outputs": [
    {
     "name": "stdout",
     "output_type": "stream",
     "text": [
      "DataFrame size: tsne_data = 776\n",
      "CPU times: user 1min 41s, sys: 1.68 s, total: 1min 43s\n",
      "Wall time: 27.4 s\n"
     ]
    }
   ],
   "source": [
    "%%time\n",
    "tsne_data = tsne.fit_transform(pca_data_50.values)\n",
    "tsne_data = pd.DataFrame(tsne_data, columns = label_dimensions(3), index=label_index(WORDS.size))\n",
    "\n",
    "print(f'DataFrame size: tsne_data = {tsne_data.shape[0]}')\n"
   ]
  },
  {
   "cell_type": "markdown",
   "metadata": {},
   "source": [
    "<p class='attention banner'>Add token labels to data</p>"
   ]
  },
  {
   "cell_type": "code",
   "execution_count": 26,
   "metadata": {},
   "outputs": [
    {
     "name": "stdout",
     "output_type": "stream",
     "text": [
      "DataFrame sizes: pdata2 = 776\tpdata50 = 776\ttdata = 776\n"
     ]
    }
   ],
   "source": [
    "pdata2, pdata50, tdata = [_.reset_index() for _ in [pca_data_2, pca_data_50, tsne_data]]\n",
    "\n",
    "pdata2 = pdata2.merge(tagged_words, on=['index'], how='left')\n",
    "pdata50 = pdata50.merge(tagged_words, on=['index'], how='left')\n",
    "\n",
    "tdata = tdata.merge(tagged_words, on=['index'], how='left')\n",
    "\n",
    "print(f'DataFrame sizes: pdata2 = {pdata2.shape[0]}\\tpdata50 = {pdata50.shape[0]}\\ttdata = {tdata.shape[0]}')"
   ]
  },
  {
   "cell_type": "markdown",
   "metadata": {},
   "source": [
    "<a id='section-4-2'></a>\n",
    "\n",
    "---\n",
    "<span class='bold'>Section</span> [Previous](#phase-4) &bull; [Next](#phase-5) &bull; [4.0 Declaring the Models](#section-4) &bull; [4.1 Dimension Reduction](#section-4-1) &bull; [4.2 Vector Space](#section-4-2)\n",
    "\n",
    "### <span class='phase-4'>4.2 Vector Space</span>\n",
    "\n",
    "After transforming the high-dimensional data down to 2 and 3 dimensional datasets, we can better visualize what the vectors we trained look like.\n",
    "\n",
    "##### 4.2.1 TSNE Plot\n",
    "\n",
    "<p class='attention banner'>Reading TSNE graphs require some forethought (see <a href=\"https://distill.pub/2016/misread-tsne/\">How to Use t-SNE Effectively by the Google Brain Team</a> (2008)).</p>"
   ]
  },
  {
   "cell_type": "code",
   "execution_count": 27,
   "metadata": {},
   "outputs": [
    {
     "data": {
      "application/javascript": [
       "const spec = {\"config\": {\"view\": {\"width\": 400, \"height\": 300}, \"mark\": {\"tooltip\": null}}, \"hconcat\": [{\"mark\": {\"type\": \"circle\", \"size\": 50}, \"encoding\": {\"color\": {\"condition\": {\"type\": \"nominal\", \"field\": \"tag\", \"legend\": null, \"selection\": \"selector002\"}, \"value\": \"gray\"}, \"tooltip\": {\"type\": \"nominal\", \"field\": \"index\"}, \"x\": {\"type\": \"quantitative\", \"field\": \"d1\", \"title\": \"Dimension 2\"}, \"y\": {\"type\": \"quantitative\", \"field\": \"d0\", \"title\": \"Dimension 1\"}}, \"height\": 400, \"selection\": {\"selector002\": {\"type\": \"interval\"}}, \"width\": 400}, {\"mark\": {\"type\": \"circle\", \"size\": 50}, \"encoding\": {\"color\": {\"condition\": {\"type\": \"nominal\", \"field\": \"tag\", \"legend\": null, \"selection\": \"selector002\"}, \"value\": \"gray\"}, \"tooltip\": {\"type\": \"nominal\", \"field\": \"index\"}, \"x\": {\"type\": \"quantitative\", \"field\": \"d2\", \"title\": \"Dimension 3\"}, \"y\": {\"type\": \"quantitative\", \"field\": \"d0\", \"title\": \"Dimension 1\"}}, \"height\": 400, \"selection\": {\"selector002\": {\"type\": \"interval\"}}, \"width\": 400}], \"data\": {\"name\": \"data-67c7a77e61a8b4631157cba214850baf\"}, \"$schema\": \"https://vega.github.io/schema/vega-lite/v3.4.0.json\", \"datasets\": {\"data-67c7a77e61a8b4631157cba214850baf\": [{\"index\": \"!\", \"d0\": -9.494518280029297, \"d1\": 0.11631651967763901, \"d2\": -0.18552662432193756, \"tag\": \".\"}, {\"index\": \"''\", \"d0\": -9.480295181274414, \"d1\": -0.09587901085615158, \"d2\": -0.18582746386528015, \"tag\": \"''\"}, {\"index\": \"(\", \"d0\": -9.53896713256836, \"d1\": 0.1875809282064438, \"d2\": -0.19173921644687653, \"tag\": \"(\"}, {\"index\": \")\", \"d0\": -9.382275581359863, \"d1\": 0.1607065051794052, \"d2\": 0.07446853071451187, \"tag\": \")\"}, {\"index\": \",\", \"d0\": -9.50676155090332, \"d1\": 0.11095256358385086, \"d2\": -0.22921425104141235, \"tag\": \",\"}, {\"index\": \"--\", \"d0\": -9.469985008239746, \"d1\": 0.0981190875172615, \"d2\": -0.24612191319465637, \"tag\": \"--\"}, {\"index\": \".\", \"d0\": -9.453276634216309, \"d1\": -0.22466498613357544, \"d2\": -0.04050995409488678, \"tag\": \".\"}, {\"index\": \";\", \"d0\": -9.429105758666992, \"d1\": 0.04336149990558624, \"d2\": -0.1293400675058365, \"tag\": \".\"}, {\"index\": \"?\", \"d0\": -9.337220191955566, \"d1\": -0.010261917486786842, \"d2\": -0.21318884193897247, \"tag\": \".\"}, {\"index\": \"``\", \"d0\": -9.439603805541992, \"d1\": -0.17369136214256287, \"d2\": -0.17131423950195312, \"tag\": \"``\"}, {\"index\": \"a\", \"d0\": -9.388684272766113, \"d1\": 0.08599022775888443, \"d2\": -0.3726261258125305, \"tag\": \"at\"}, {\"index\": \"about\", \"d0\": -9.499176979064941, \"d1\": 0.15392594039440155, \"d2\": -0.11241871118545532, \"tag\": \"in\"}, {\"index\": \"above\", \"d0\": -9.405527114868164, \"d1\": 0.21416373550891876, \"d2\": -0.1462283581495285, \"tag\": \"in\"}, {\"index\": \"actresses\", \"d0\": -11.526349067687988, \"d1\": 0.10368453711271286, \"d2\": -0.33418798446655273, \"tag\": \"nn\"}, {\"index\": \"after\", \"d0\": -9.342389106750488, \"d1\": 0.14693884551525116, \"d2\": -0.2509949505329132, \"tag\": \"in\"}, {\"index\": \"again\", \"d0\": -9.349681854248047, \"d1\": -0.14835718274116516, \"d2\": -0.300544798374176, \"tag\": \"rb\"}, {\"index\": \"against\", \"d0\": -9.292311668395996, \"d1\": -0.12575048208236694, \"d2\": -0.3369385302066803, \"tag\": \"in\"}, {\"index\": \"aged\", \"d0\": -10.403834342956543, \"d1\": 0.12474942952394485, \"d2\": 0.22326435148715973, \"tag\": \"vb\"}, {\"index\": \"ain't\", \"d0\": -9.434722900390625, \"d1\": -0.011966231279075146, \"d2\": -0.20684337615966797, \"tag\": \"be\"}, {\"index\": \"airs\", \"d0\": -9.37796401977539, \"d1\": 0.14197050034999847, \"d2\": -0.12293370813131332, \"tag\": \"nn\"}, {\"index\": \"alive\", \"d0\": -9.27910041809082, \"d1\": -0.0035067908465862274, \"d2\": -0.3443003296852112, \"tag\": \"jj\"}, {\"index\": \"all\", \"d0\": -9.625663757324219, \"d1\": -0.0424455851316452, \"d2\": 0.0647219568490982, \"tag\": \"ab\"}, {\"index\": \"alleyways\", \"d0\": -10.412044525146484, \"d1\": -0.07564282417297363, \"d2\": -0.2177271991968155, \"tag\": \"nn\"}, {\"index\": \"aloneness\", \"d0\": -10.618608474731445, \"d1\": 0.3294396996498108, \"d2\": -0.08893284201622009, \"tag\": \"nn\"}, {\"index\": \"also\", \"d0\": -10.547269821166992, \"d1\": -0.20410779118537903, \"d2\": -0.34498777985572815, \"tag\": \"rb\"}, {\"index\": \"altered\", \"d0\": -11.63052749633789, \"d1\": 0.04621962457895279, \"d2\": 0.020533379167318344, \"tag\": \"vb\"}, {\"index\": \"although\", \"d0\": -10.520604133605957, \"d1\": 0.3087127208709717, \"d2\": -0.21153637766838074, \"tag\": \"cs\"}, {\"index\": \"aluminum\", \"d0\": -11.345252990722656, \"d1\": 0.29472893476486206, \"d2\": -0.1136925220489502, \"tag\": \"nn\"}, {\"index\": \"always\", \"d0\": -12.252242088317871, \"d1\": -0.19841979444026947, \"d2\": -0.12961632013320923, \"tag\": \"rb\"}, {\"index\": \"amber\", \"d0\": -11.395694732666016, \"d1\": -0.35923662781715393, \"d2\": 0.0034598263446241617, \"tag\": \"jj\"}, {\"index\": \"americans\", \"d0\": -10.67810344696045, \"d1\": 0.2937532067298889, \"d2\": -0.15747733414173126, \"tag\": \"np\"}, {\"index\": \"an\", \"d0\": -9.568265914916992, \"d1\": -0.07752800732851028, \"d2\": -0.264842689037323, \"tag\": \"at\"}, {\"index\": \"and\", \"d0\": -9.525028228759766, \"d1\": -0.08855868130922318, \"d2\": -0.16467460989952087, \"tag\": \"cc\"}, {\"index\": \"angels\", \"d0\": -10.989460945129395, \"d1\": 0.00020160037092864513, \"d2\": -0.16639339923858643, \"tag\": \"nn\"}, {\"index\": \"answer\", \"d0\": -9.808293342590332, \"d1\": 0.31571996212005615, \"d2\": 0.2684924304485321, \"tag\": \"vb\"}, {\"index\": \"anyone\", \"d0\": -11.320734024047852, \"d1\": -0.23081792891025543, \"d2\": -0.00989670678973198, \"tag\": \"pn\"}, {\"index\": \"anything\", \"d0\": -12.57385540008545, \"d1\": 0.090859055519104, \"d2\": -0.035030387341976166, \"tag\": \"pn\"}, {\"index\": \"arch\", \"d0\": -11.044918060302734, \"d1\": 0.17838823795318604, \"d2\": 0.09938500076532364, \"tag\": \"nn\"}, {\"index\": \"are\", \"d0\": -9.403578758239746, \"d1\": 0.12014193832874298, \"d2\": -0.27448007464408875, \"tag\": \"be\"}, {\"index\": \"arms\", \"d0\": -11.323451042175293, \"d1\": 0.013614444993436337, \"d2\": -0.2200704663991928, \"tag\": \"nn\"}, {\"index\": \"around\", \"d0\": -10.531189918518066, \"d1\": 0.46957331895828247, \"d2\": -0.20051893591880798, \"tag\": \"in\"}, {\"index\": \"artfully\", \"d0\": -11.525788307189941, \"d1\": -0.1266840696334839, \"d2\": 0.043204229325056076, \"tag\": \"rb\"}, {\"index\": \"as\", \"d0\": -9.358338356018066, \"d1\": -0.05271756276488304, \"d2\": -0.22334258258342743, \"tag\": \"cs\"}, {\"index\": \"ash\", \"d0\": -12.105996131896973, \"d1\": 0.36422109603881836, \"d2\": -0.05851072072982788, \"tag\": \"nn\"}, {\"index\": \"asked\", \"d0\": -10.306825637817383, \"d1\": -0.2849714457988739, \"d2\": -0.3843201696872711, \"tag\": \"vb\"}, {\"index\": \"at\", \"d0\": -9.434710502624512, \"d1\": 0.13462424278259277, \"d2\": -0.2372313141822815, \"tag\": \"in\"}, {\"index\": \"aunt\", \"d0\": -11.001236915588379, \"d1\": -0.10819854587316513, \"d2\": -0.33772391080856323, \"tag\": \"nn\"}, {\"index\": \"away\", \"d0\": -12.539329528808594, \"d1\": 0.0873739942908287, \"d2\": -0.0820937529206276, \"tag\": \"rb\"}, {\"index\": \"back\", \"d0\": -12.57258415222168, \"d1\": -0.0272638201713562, \"d2\": 0.11451836675405502, \"tag\": \"rb\"}, {\"index\": \"backyards\", \"d0\": -11.265602111816406, \"d1\": 0.33224236965179443, \"d2\": -0.1350061446428299, \"tag\": \"nn\"}, {\"index\": \"bagpipe\", \"d0\": -11.532485008239746, \"d1\": 0.05654078722000122, \"d2\": -0.0729934573173523, \"tag\": \"nn\"}, {\"index\": \"bari\", \"d0\": -10.603857040405273, \"d1\": -0.0307804886251688, \"d2\": -0.09204746782779694, \"tag\": \"np\"}, {\"index\": \"bartoli's\", \"d0\": -9.485843658447266, \"d1\": -0.06022253632545471, \"d2\": -0.27259740233421326, \"tag\": \"np\"}, {\"index\": \"bats\", \"d0\": -11.532205581665039, \"d1\": 0.16692067682743073, \"d2\": 0.06147840619087219, \"tag\": \"nn\"}, {\"index\": \"bay\", \"d0\": -9.907055854797363, \"d1\": -0.23116376996040344, \"d2\": -0.4697592556476593, \"tag\": \"nn\"}, {\"index\": \"be\", \"d0\": -9.345595359802246, \"d1\": 0.039411287754774094, \"d2\": -0.050432682037353516, \"tag\": \"be\"}, {\"index\": \"because\", \"d0\": -9.639955520629883, \"d1\": -0.06575063616037369, \"d2\": -0.24066506326198578, \"tag\": \"cs\"}, {\"index\": \"become\", \"d0\": -11.211708068847656, \"d1\": -0.29255735874176025, \"d2\": -0.3568894863128662, \"tag\": \"vb\"}, {\"index\": \"been\", \"d0\": -9.499626159667969, \"d1\": 0.12393542379140854, \"d2\": -0.05191431939601898, \"tag\": \"be\"}, {\"index\": \"bees\", \"d0\": -10.712072372436523, \"d1\": -0.12569305300712585, \"d2\": -0.14573714137077332, \"tag\": \"nn\"}, {\"index\": \"before\", \"d0\": -9.41747760772705, \"d1\": -0.10300736874341965, \"d2\": -0.2247534990310669, \"tag\": \"in\"}, {\"index\": \"began\", \"d0\": -11.49462604522705, \"d1\": 0.2640579044818878, \"d2\": -0.07590600848197937, \"tag\": \"vb\"}, {\"index\": \"beginning\", \"d0\": -11.569864273071289, \"d1\": 0.23525230586528778, \"d2\": -0.3792819380760193, \"tag\": \"vb\"}, {\"index\": \"behind\", \"d0\": -12.246750831604004, \"d1\": 0.19094493985176086, \"d2\": -0.020870927721261978, \"tag\": \"in\"}, {\"index\": \"belied\", \"d0\": -11.452566146850586, \"d1\": 0.02445620484650135, \"d2\": -0.27816134691238403, \"tag\": \"vb\"}, {\"index\": \"bell\", \"d0\": -10.616678237915039, \"d1\": 0.3386172354221344, \"d2\": -0.5496817231178284, \"tag\": \"nn\"}, {\"index\": \"belly\", \"d0\": -12.522712707519531, \"d1\": 0.013465721160173416, \"d2\": -0.41962629556655884, \"tag\": \"nn\"}, {\"index\": \"belonged\", \"d0\": -11.260592460632324, \"d1\": 0.07149311155080795, \"d2\": -0.12507855892181396, \"tag\": \"vb\"}, {\"index\": \"below\", \"d0\": -9.449602127075195, \"d1\": -0.025822915136814117, \"d2\": -0.22285260260105133, \"tag\": \"in\"}, {\"index\": \"beneath\", \"d0\": -12.483465194702148, \"d1\": 0.09697660803794861, \"d2\": -0.3252725303173065, \"tag\": \"in\"}, {\"index\": \"beyond\", \"d0\": -11.26401138305664, \"d1\": 0.3095308244228363, \"d2\": -0.1806657314300537, \"tag\": \"in\"}, {\"index\": \"bigger\", \"d0\": -10.467744827270508, \"d1\": 0.10725025087594986, \"d2\": -0.2100563496351242, \"tag\": \"jj\"}, {\"index\": \"biggest\", \"d0\": -11.054884910583496, \"d1\": -0.041958220303058624, \"d2\": -0.23422519862651825, \"tag\": \"jj\"}, {\"index\": \"bill\", \"d0\": -12.23861026763916, \"d1\": 0.3215025067329407, \"d2\": -0.38397058844566345, \"tag\": \"nn\"}, {\"index\": \"black\", \"d0\": -12.565638542175293, \"d1\": 0.0628017857670784, \"d2\": -0.2567497789859772, \"tag\": \"jj\"}, {\"index\": \"blackness\", \"d0\": -11.540974617004395, \"d1\": -0.3761301636695862, \"d2\": 0.11945458501577377, \"tag\": \"nn\"}, {\"index\": \"blended\", \"d0\": -11.51736068725586, \"d1\": 0.03182243928313255, \"d2\": -0.3933286666870117, \"tag\": \"vb\"}, {\"index\": \"blind\", \"d0\": -11.231693267822266, \"d1\": -0.19739367067813873, \"d2\": 0.03324388340115547, \"tag\": \"jj\"}, {\"index\": \"blocks\", \"d0\": -11.167017936706543, \"d1\": 0.45647916197776794, \"d2\": -0.13140341639518738, \"tag\": \"nn\"}, {\"index\": \"blue\", \"d0\": -10.123292922973633, \"d1\": -0.39245128631591797, \"d2\": -0.054546937346458435, \"tag\": \"jj\"}, {\"index\": \"bodies\", \"d0\": -11.411543846130371, \"d1\": -0.13123124837875366, \"d2\": -0.09402980655431747, \"tag\": \"nn\"}, {\"index\": \"body\", \"d0\": -11.608315467834473, \"d1\": 0.04015795886516571, \"d2\": -0.36703088879585266, \"tag\": \"nn\"}, {\"index\": \"boiling\", \"d0\": -9.43154239654541, \"d1\": -0.046546004712581635, \"d2\": -0.18409475684165955, \"tag\": \"vb\"}, {\"index\": \"boredom\", \"d0\": -12.455731391906738, \"d1\": 0.19704227149486542, \"d2\": -0.014119228348135948, \"tag\": \"nn\"}, {\"index\": \"both\", \"d0\": -9.427831649780273, \"d1\": -0.007664780132472515, \"d2\": -0.10959171503782272, \"tag\": \"ab\"}, {\"index\": \"bowing\", \"d0\": -12.341850280761719, \"d1\": 0.1123984083533287, \"d2\": -0.29958924651145935, \"tag\": \"vb\"}, {\"index\": \"boy\", \"d0\": -12.443305015563965, \"d1\": -0.09988651424646378, \"d2\": -0.3094145953655243, \"tag\": \"nn\"}, {\"index\": \"boy's\", \"d0\": -9.484420776367188, \"d1\": 0.05987456813454628, \"d2\": -0.16302484273910522, \"tag\": \"nn\"}, {\"index\": \"breaking\", \"d0\": -11.696314811706543, \"d1\": 0.3961748480796814, \"d2\": 0.02617472968995571, \"tag\": \"vb\"}, {\"index\": \"brief\", \"d0\": -9.310678482055664, \"d1\": -0.0352429635822773, \"d2\": -0.12252353131771088, \"tag\": \"nn\"}, {\"index\": \"bring\", \"d0\": -10.340659141540527, \"d1\": -0.20011228322982788, \"d2\": 0.03328464925289154, \"tag\": \"vb\"}, {\"index\": \"broken\", \"d0\": -12.344820022583008, \"d1\": -0.15142856538295746, \"d2\": -0.20526832342147827, \"tag\": \"vb\"}, {\"index\": \"brother\", \"d0\": -10.722090721130371, \"d1\": 0.06274854391813278, \"d2\": -0.15776555240154266, \"tag\": \"nn\"}, {\"index\": \"brushing\", \"d0\": -11.561768531799316, \"d1\": -0.04794077202677727, \"d2\": -0.06307350099086761, \"tag\": \"vb\"}, {\"index\": \"but\", \"d0\": -9.399988174438477, \"d1\": -0.016436472535133362, \"d2\": -0.14929185807704926, \"tag\": \"cc\"}, {\"index\": \"buttocks\", \"d0\": -11.630118370056152, \"d1\": -0.29145026206970215, \"d2\": 0.038286205381155014, \"tag\": \"nn\"}, {\"index\": \"buzzing\", \"d0\": -11.63383960723877, \"d1\": -0.19019946455955505, \"d2\": -0.09868922084569931, \"tag\": \"vb\"}, {\"index\": \"by\", \"d0\": -9.419703483581543, \"d1\": -0.007311061955988407, \"d2\": -0.1975143849849701, \"tag\": \"in\"}, {\"index\": \"called\", \"d0\": -12.629449844360352, \"d1\": 0.020707514137029648, \"d2\": -0.06855209916830063, \"tag\": \"vb\"}, {\"index\": \"calling\", \"d0\": -10.922906875610352, \"d1\": -0.02209814265370369, \"d2\": -0.27574267983436584, \"tag\": \"vb\"}, {\"index\": \"calloused\", \"d0\": -10.336847305297852, \"d1\": 0.03184446319937706, \"d2\": 0.360586553812027, \"tag\": \"vb\"}, {\"index\": \"came\", \"d0\": -12.273571968078613, \"d1\": 0.14826864004135132, \"d2\": -0.07513763010501862, \"tag\": \"vb\"}, {\"index\": \"cane\", \"d0\": -10.677111625671387, \"d1\": 0.5221055746078491, \"d2\": -0.1709602177143097, \"tag\": \"nn\"}, {\"index\": \"cards\", \"d0\": -11.732706069946289, \"d1\": -0.12896066904067993, \"d2\": -0.3997151255607605, \"tag\": \"nn\"}, {\"index\": \"care\", \"d0\": -12.575961112976074, \"d1\": -0.022079503163695335, \"d2\": -0.21659593284130096, \"tag\": \"vb\"}, {\"index\": \"cared\", \"d0\": -12.442667961120605, \"d1\": -0.05324496701359749, \"d2\": -0.3646899163722992, \"tag\": \"vb\"}, {\"index\": \"caressed\", \"d0\": -10.613191604614258, \"d1\": -0.034539226442575455, \"d2\": -0.023604560643434525, \"tag\": \"vb\"}, {\"index\": \"carry\", \"d0\": -12.540596961975098, \"d1\": 0.01722557842731476, \"d2\": -0.3347471058368683, \"tag\": \"vb\"}, {\"index\": \"case\", \"d0\": -9.469717979431152, \"d1\": -0.013179908506572247, \"d2\": -0.1775682270526886, \"tag\": \"nn\"}, {\"index\": \"cemetery\", \"d0\": -10.785600662231445, \"d1\": 0.08478420227766037, \"d2\": -0.45775121450424194, \"tag\": \"nn\"}, {\"index\": \"center\", \"d0\": -11.11460018157959, \"d1\": -0.021439936012029648, \"d2\": -0.28187528252601624, \"tag\": \"nn\"}, {\"index\": \"cheesecloth\", \"d0\": -10.748444557189941, \"d1\": 0.22541752457618713, \"d2\": -0.1900797337293625, \"tag\": \"nn\"}, {\"index\": \"chest\", \"d0\": -10.821446418762207, \"d1\": 0.060478031635284424, \"d2\": -0.2930320203304291, \"tag\": \"nn\"}, {\"index\": \"chieti\", \"d0\": -11.357948303222656, \"d1\": -0.13150034844875336, \"d2\": 0.04301847517490387, \"tag\": \"np\"}, {\"index\": \"childlike\", \"d0\": -10.735681533813477, \"d1\": 0.14817872643470764, \"d2\": -0.2642552852630615, \"tag\": \"jj\"}, {\"index\": \"children\", \"d0\": -11.081295013427734, \"d1\": -0.2557132840156555, \"d2\": -0.3958240747451782, \"tag\": \"nn\"}, {\"index\": \"chin\", \"d0\": -11.460050582885742, \"d1\": -0.20379135012626648, \"d2\": 0.02927641198039055, \"tag\": \"nn\"}, {\"index\": \"chins\", \"d0\": -11.218893051147461, \"d1\": 0.26890552043914795, \"d2\": -0.4287579357624054, \"tag\": \"nn\"}, {\"index\": \"christ\", \"d0\": -9.9508638381958, \"d1\": 0.6384437084197998, \"d2\": -0.15326495468616486, \"tag\": \"uh\"}, {\"index\": \"church\", \"d0\": -12.622472763061523, \"d1\": -9.013153612613678e-05, \"d2\": -0.05028129369020462, \"tag\": \"nn\"}, {\"index\": \"city\", \"d0\": -12.190871238708496, \"d1\": -0.07295650988817215, \"d2\": -0.20553551614284515, \"tag\": \"nn\"}, {\"index\": \"city's\", \"d0\": -9.404528617858887, \"d1\": 0.007578970864415169, \"d2\": -0.08134099841117859, \"tag\": \"nn\"}, {\"index\": \"clapping\", \"d0\": -9.68464469909668, \"d1\": -0.3357502222061157, \"d2\": 0.3823220431804657, \"tag\": \"nn\"}, {\"index\": \"claret\", \"d0\": -11.217982292175293, \"d1\": -0.06883704662322998, \"d2\": 0.1296423226594925, \"tag\": \"jj\"}, {\"index\": \"climbed\", \"d0\": -12.517388343811035, \"d1\": -0.17555905878543854, \"d2\": -0.01550800260156393, \"tag\": \"vb\"}, {\"index\": \"climbing\", \"d0\": -11.175890922546387, \"d1\": -0.18402443826198578, \"d2\": -0.2089892029762268, \"tag\": \"vb\"}, {\"index\": \"close\", \"d0\": -10.489508628845215, \"d1\": 0.15219807624816895, \"d2\": -0.2823446989059448, \"tag\": \"rb\"}, {\"index\": \"closer\", \"d0\": -12.341571807861328, \"d1\": 0.003694008570164442, \"d2\": -0.2075379341840744, \"tag\": \"rb\"}, {\"index\": \"cloud\", \"d0\": -10.548117637634277, \"d1\": 0.3392331600189209, \"d2\": -0.2210717648267746, \"tag\": \"nn\"}, {\"index\": \"clouded\", \"d0\": -10.213667869567871, \"d1\": -0.02411472238600254, \"d2\": -0.41784951090812683, \"tag\": \"vb\"}, {\"index\": \"clutched\", \"d0\": -10.197084426879883, \"d1\": 0.2037886530160904, \"d2\": -0.6059452295303345, \"tag\": \"vb\"}, {\"index\": \"coffee\", \"d0\": -12.597989082336426, \"d1\": -0.01061266753822565, \"d2\": -0.1426185518503189, \"tag\": \"nn\"}, {\"index\": \"color\", \"d0\": -12.405021667480469, \"d1\": 0.2896971106529236, \"d2\": -0.13484644889831543, \"tag\": \"nn\"}, {\"index\": \"come\", \"d0\": -12.532195091247559, \"d1\": 0.10042206943035126, \"d2\": -0.3443740904331207, \"tag\": \"vb\"}, {\"index\": \"commanded\", \"d0\": -9.469341278076172, \"d1\": 0.006580022629350424, \"d2\": -0.13184179365634918, \"tag\": \"vb\"}, {\"index\": \"companion\", \"d0\": -10.213446617126465, \"d1\": 0.25807783007621765, \"d2\": -0.014784696511924267, \"tag\": \"nn\"}, {\"index\": \"concetta\", \"d0\": -11.174822807312012, \"d1\": 0.05691581964492798, \"d2\": -0.07953663915395737, \"tag\": \"np\"}, {\"index\": \"concetta's\", \"d0\": -9.33385944366455, \"d1\": 0.1242445781826973, \"d2\": -0.12663757801055908, \"tag\": \"np\"}, {\"index\": \"concrete\", \"d0\": -12.604890823364258, \"d1\": 0.02100379578769207, \"d2\": -0.30609360337257385, \"tag\": \"nn\"}, {\"index\": \"condemned\", \"d0\": -10.818587303161621, \"d1\": -0.029004216194152832, \"d2\": 0.17085738480091095, \"tag\": \"vb\"}, {\"index\": \"confession\", \"d0\": -10.633228302001953, \"d1\": -0.0008053927449509501, \"d2\": -0.18784017860889435, \"tag\": \"nn\"}, {\"index\": \"consumed\", \"d0\": -11.307106971740723, \"d1\": -0.2615814805030823, \"d2\": -0.3124217391014099, \"tag\": \"vb\"}, {\"index\": \"contemptuous\", \"d0\": -10.755050659179688, \"d1\": -0.09266629070043564, \"d2\": 0.11136467009782791, \"tag\": \"jj\"}, {\"index\": \"contours\", \"d0\": -10.62995433807373, \"d1\": -0.11933101713657379, \"d2\": -0.24522843956947327, \"tag\": \"nn\"}, {\"index\": \"coolness\", \"d0\": -10.685041427612305, \"d1\": 0.1503564715385437, \"d2\": -0.16047696769237518, \"tag\": \"nn\"}, {\"index\": \"core\", \"d0\": -11.496607780456543, \"d1\": 0.15082578361034393, \"d2\": -0.12821602821350098, \"tag\": \"nn\"}, {\"index\": \"corner\", \"d0\": -10.439364433288574, \"d1\": 0.20492523908615112, \"d2\": -0.37413373589515686, \"tag\": \"nn\"}, {\"index\": \"could\", \"d0\": -12.584153175354004, \"d1\": -0.05925002694129944, \"d2\": -0.3442936837673187, \"tag\": \"md\"}, {\"index\": \"couldn't\", \"d0\": -9.440253257751465, \"d1\": 0.07560133934020996, \"d2\": -0.04423454403877258, \"tag\": \"md\"}, {\"index\": \"country\", \"d0\": -12.30741024017334, \"d1\": -0.019698994234204292, \"d2\": -0.2450905293226242, \"tag\": \"nn\"}, {\"index\": \"course\", \"d0\": -11.662321090698242, \"d1\": 0.2391972839832306, \"d2\": -0.2123582363128662, \"tag\": \"nn\"}, {\"index\": \"courtyards\", \"d0\": -11.342815399169922, \"d1\": -0.24953815340995789, \"d2\": -0.5114038586616516, \"tag\": \"nn\"}, {\"index\": \"covering\", \"d0\": -11.365091323852539, \"d1\": 0.18547797203063965, \"d2\": -0.32913967967033386, \"tag\": \"vb\"}, {\"index\": \"creaking\", \"d0\": -11.642306327819824, \"d1\": -0.004327819682657719, \"d2\": -0.31283047795295715, \"tag\": \"vb\"}, {\"index\": \"creek\", \"d0\": -10.180730819702148, \"d1\": 0.35732072591781616, \"d2\": -0.20713946223258972, \"tag\": \"nn\"}, {\"index\": \"dante\", \"d0\": -11.540321350097656, \"d1\": 0.08729170262813568, \"d2\": -0.3729817569255829, \"tag\": \"np\"}, {\"index\": \"day\", \"d0\": -11.219878196716309, \"d1\": 0.18989740312099457, \"d2\": -0.14363664388656616, \"tag\": \"nn\"}, {\"index\": \"daydreaming\", \"d0\": -10.737190246582031, \"d1\": -0.3253942131996155, \"d2\": 0.06043248996138573, \"tag\": \"nn\"}, {\"index\": \"dead\", \"d0\": -11.472447395324707, \"d1\": -0.020088281482458115, \"d2\": -0.18812495470046997, \"tag\": \"jj\"}, {\"index\": \"delighting\", \"d0\": -10.50294017791748, \"d1\": 0.13064691424369812, \"d2\": -0.5062113404273987, \"tag\": \"vb\"}, {\"index\": \"determined\", \"d0\": -9.465097427368164, \"d1\": 0.04416152462363243, \"d2\": -0.16862180829048157, \"tag\": \"vb\"}, {\"index\": \"devil\", \"d0\": -12.208592414855957, \"d1\": -0.2026243358850479, \"d2\": -0.24442815780639648, \"tag\": \"nn\"}, {\"index\": \"did\", \"d0\": -9.437041282653809, \"d1\": 0.1940351128578186, \"d2\": -0.3775557577610016, \"tag\": \"do\"}, {\"index\": \"didn't\", \"d0\": -9.424606323242188, \"d1\": 0.052837539464235306, \"d2\": -0.09590505808591843, \"tag\": \"do\"}, {\"index\": \"direction\", \"d0\": -10.666280746459961, \"d1\": 0.06594402343034744, \"d2\": -0.004463238175958395, \"tag\": \"nn\"}, {\"index\": \"directly\", \"d0\": -10.661895751953125, \"d1\": -0.17666074633598328, \"d2\": -0.01933336816728115, \"tag\": \"rb\"}, {\"index\": \"disfigured\", \"d0\": -11.68774127960205, \"d1\": 0.27341514825820923, \"d2\": 0.1021413505077362, \"tag\": \"vb\"}, {\"index\": \"disliked\", \"d0\": -9.454391479492188, \"d1\": 0.012611474841833115, \"d2\": -0.16367071866989136, \"tag\": \"vb\"}, {\"index\": \"distance\", \"d0\": -12.440506935119629, \"d1\": -0.16606633365154266, \"d2\": -0.3748326897621155, \"tag\": \"nn\"}, {\"index\": \"dived\", \"d0\": -11.7529878616333, \"d1\": -0.053316082805395126, \"d2\": -0.003825078485533595, \"tag\": \"vb\"}, {\"index\": \"divided\", \"d0\": -11.615557670593262, \"d1\": -0.14831873774528503, \"d2\": -0.3450123965740204, \"tag\": \"vb\"}, {\"index\": \"do\", \"d0\": -9.398595809936523, \"d1\": 0.03421158343553543, \"d2\": -0.23657813668251038, \"tag\": \"do\"}, {\"index\": \"doesn't\", \"d0\": -9.468411445617676, \"d1\": 0.10328219085931778, \"d2\": -0.0452820286154747, \"tag\": \"do\"}, {\"index\": \"dog\", \"d0\": -11.252860069274902, \"d1\": 0.025509316474199295, \"d2\": 0.10667265951633453, \"tag\": \"nn\"}, {\"index\": \"dog's\", \"d0\": -9.3926420211792, \"d1\": -0.02822650782763958, \"d2\": -0.1797342449426651, \"tag\": \"nn\"}, {\"index\": \"dogs\", \"d0\": -10.782937049865723, \"d1\": 0.011248931288719177, \"d2\": -0.23694635927677155, \"tag\": \"nn\"}, {\"index\": \"dollar\", \"d0\": -12.277185440063477, \"d1\": 0.20834864675998688, \"d2\": -0.3856922686100006, \"tag\": \"nn\"}, {\"index\": \"door\", \"d0\": -11.617993354797363, \"d1\": -0.020739642903208733, \"d2\": -0.2539423406124115, \"tag\": \"nn\"}, {\"index\": \"doors\", \"d0\": -10.62099838256836, \"d1\": -0.13977037370204926, \"d2\": -0.47869884967803955, \"tag\": \"nn\"}, {\"index\": \"down\", \"d0\": -9.473226547241211, \"d1\": 0.07206867635250092, \"d2\": -0.08848433941602707, \"tag\": \"in\"}, {\"index\": \"downcast\", \"d0\": -11.69529914855957, \"d1\": 0.0071315644308924675, \"d2\": -0.09317276626825333, \"tag\": \"jj\"}, {\"index\": \"dream\", \"d0\": -10.546002388000488, \"d1\": 0.10467637330293655, \"d2\": -0.19223621487617493, \"tag\": \"vb\"}, {\"index\": \"dreaming\", \"d0\": -11.442648887634277, \"d1\": 0.22006531059741974, \"d2\": -0.14022302627563477, \"tag\": \"vb\"}, {\"index\": \"dreams\", \"d0\": -11.104632377624512, \"d1\": 0.1462184339761734, \"d2\": -0.12182680517435074, \"tag\": \"nn\"}, {\"index\": \"dregs\", \"d0\": -11.158224105834961, \"d1\": -0.11776281148195267, \"d2\": -0.12983614206314087, \"tag\": \"nn\"}, {\"index\": \"drexel\", \"d0\": -12.501448631286621, \"d1\": -0.11645597219467163, \"d2\": 0.08052229136228561, \"tag\": \"np\"}, {\"index\": \"drying\", \"d0\": -11.444331169128418, \"d1\": -0.08731342107057571, \"d2\": 0.06097422167658806, \"tag\": \"vb\"}, {\"index\": \"due\", \"d0\": -10.485260963439941, \"d1\": -0.11245587468147278, \"d2\": -0.24574382603168488, \"tag\": \"nn\"}, {\"index\": \"each\", \"d0\": -9.477514266967773, \"d1\": 0.14116889238357544, \"d2\": -0.06461649388074875, \"tag\": \"dt\"}, {\"index\": \"early\", \"d0\": -11.250968933105469, \"d1\": 0.0458223894238472, \"d2\": -0.2042292356491089, \"tag\": \"jj\"}, {\"index\": \"earthy\", \"d0\": -10.999119758605957, \"d1\": 0.06066792085766792, \"d2\": 0.1583227962255478, \"tag\": \"jj\"}, {\"index\": \"ecstatic\", \"d0\": -10.95207691192627, \"d1\": -0.17628151178359985, \"d2\": -0.2344534695148468, \"tag\": \"jj\"}, {\"index\": \"edged\", \"d0\": -11.2301664352417, \"d1\": 0.2778429687023163, \"d2\": -0.15514132380485535, \"tag\": \"vb\"}, {\"index\": \"eh\", \"d0\": -9.4716157913208, \"d1\": 0.03423644229769707, \"d2\": -0.14311335980892181, \"tag\": \"uh\"}, {\"index\": \"eight-thirty\", \"d0\": -9.434189796447754, \"d1\": -0.09642380475997925, \"d2\": -0.13951650261878967, \"tag\": \"cd\"}, {\"index\": \"either\", \"d0\": -10.788248062133789, \"d1\": 0.08389286696910858, \"d2\": -0.32491248846054077, \"tag\": \"rb\"}, {\"index\": \"elders\", \"d0\": -10.632439613342285, \"d1\": -0.05022177845239639, \"d2\": 0.04015655815601349, \"tag\": \"nn\"}, {\"index\": \"elevated\", \"d0\": -11.426351547241211, \"d1\": 0.12434384226799011, \"d2\": -0.40302929282188416, \"tag\": \"vb\"}, {\"index\": \"else\", \"d0\": -10.97087287902832, \"d1\": 0.18132027983665466, \"d2\": -0.34222519397735596, \"tag\": \"rb\"}, {\"index\": \"encrusted\", \"d0\": -11.56389045715332, \"d1\": 0.24344630539417267, \"d2\": -0.4860117435455322, \"tag\": \"vb\"}, {\"index\": \"ended\", \"d0\": -11.270795822143555, \"d1\": 0.3267122805118561, \"d2\": 0.034944627434015274, \"tag\": \"vb\"}, {\"index\": \"enough\", \"d0\": -12.545241355895996, \"d1\": -0.07549377530813217, \"d2\": -0.17744173109531403, \"tag\": \"ap\"}, {\"index\": \"evasive\", \"d0\": -10.532743453979492, \"d1\": 0.23670880496501923, \"d2\": -0.3260941207408905, \"tag\": \"jj\"}, {\"index\": \"even\", \"d0\": -12.3082914352417, \"d1\": -0.026111289858818054, \"d2\": -0.28070324659347534, \"tag\": \"rb\"}, {\"index\": \"evening\", \"d0\": -11.391051292419434, \"d1\": 0.3025347888469696, \"d2\": -0.20332196354866028, \"tag\": \"nn\"}, {\"index\": \"evenings\", \"d0\": -11.367034912109375, \"d1\": -0.1536807268857956, \"d2\": -0.14047479629516602, \"tag\": \"nn\"}, {\"index\": \"everywhere\", \"d0\": -10.241056442260742, \"d1\": 0.31570491194725037, \"d2\": -0.3035598397254944, \"tag\": \"rb\"}, {\"index\": \"examining\", \"d0\": -11.56671142578125, \"d1\": -0.002008213195949793, \"d2\": -0.2525886297225952, \"tag\": \"vb\"}, {\"index\": \"except\", \"d0\": -12.253582954406738, \"d1\": -0.11752161383628845, \"d2\": 0.07747916877269745, \"tag\": \"in\"}, {\"index\": \"excitedly\", \"d0\": -11.424074172973633, \"d1\": 0.0629139319062233, \"d2\": -0.5973668098449707, \"tag\": \"rb\"}, {\"index\": \"exhausted\", \"d0\": -11.163349151611328, \"d1\": 0.1513369232416153, \"d2\": -0.3277285099029541, \"tag\": \"vb\"}, {\"index\": \"expectantly\", \"d0\": -10.461112976074219, \"d1\": 0.05336830019950867, \"d2\": -0.3946247696876526, \"tag\": \"rb\"}, {\"index\": \"expected\", \"d0\": -12.116509437561035, \"d1\": -0.02593332901597023, \"d2\": -0.45193687081336975, \"tag\": \"vb\"}, {\"index\": \"expression\", \"d0\": -10.986528396606445, \"d1\": 0.03760766610503197, \"d2\": 0.038310881704092026, \"tag\": \"nn\"}, {\"index\": \"eye\", \"d0\": -11.31278133392334, \"d1\": 0.10615798085927963, \"d2\": 0.015642927959561348, \"tag\": \"nn\"}, {\"index\": \"eyes\", \"d0\": -12.550887107849121, \"d1\": -0.10544078797101974, \"d2\": -0.045831695199012756, \"tag\": \"nn\"}, {\"index\": \"facade\", \"d0\": -10.568060874938965, \"d1\": 0.013604597188532352, \"d2\": -0.2452399730682373, \"tag\": \"nn\"}, {\"index\": \"face\", \"d0\": -12.445110321044922, \"d1\": 0.012547054328024387, \"d2\": -0.18481266498565674, \"tag\": \"nn\"}, {\"index\": \"fancy\", \"d0\": -9.586735725402832, \"d1\": -0.046059783548116684, \"d2\": -0.2117660641670227, \"tag\": \"jj\"}, {\"index\": \"farewell\", \"d0\": -10.732095718383789, \"d1\": 0.03618202358484268, \"d2\": -0.17743131518363953, \"tag\": \"nn\"}, {\"index\": \"fear\", \"d0\": -10.630622863769531, \"d1\": 0.09061205387115479, \"d2\": -0.1972641497850418, \"tag\": \"nn\"}, {\"index\": \"feasting\", \"d0\": -11.366294860839844, \"d1\": 0.02156691998243332, \"d2\": 0.18282735347747803, \"tag\": \"vb\"}, {\"index\": \"features\", \"d0\": -11.480527877807617, \"d1\": 0.21235494315624237, \"d2\": -0.30339357256889343, \"tag\": \"nn\"}, {\"index\": \"fed\", \"d0\": -10.558119773864746, \"d1\": 0.3806783854961395, \"d2\": -0.3252844214439392, \"tag\": \"vb\"}, {\"index\": \"female\", \"d0\": -10.442193031311035, \"d1\": 0.009435477666556835, \"d2\": -0.1734626740217209, \"tag\": \"nn\"}, {\"index\": \"fence\", \"d0\": -11.332417488098145, \"d1\": -0.11130341142416, \"d2\": -0.06434262543916702, \"tag\": \"nn\"}, {\"index\": \"fences\", \"d0\": -11.428953170776367, \"d1\": 0.32272639870643616, \"d2\": -0.18944481015205383, \"tag\": \"nn\"}, {\"index\": \"fifteen\", \"d0\": -9.812047004699707, \"d1\": -0.12474457919597626, \"d2\": -0.7886346578598022, \"tag\": \"cd\"}, {\"index\": \"fig\", \"d0\": -12.098882675170898, \"d1\": -0.0243917815387249, \"d2\": -0.4145474135875702, \"tag\": \"nn\"}, {\"index\": \"figure\", \"d0\": -10.813163757324219, \"d1\": -0.15168282389640808, \"d2\": -0.26238036155700684, \"tag\": \"nn\"}, {\"index\": \"filippo\", \"d0\": -9.823177337646484, \"d1\": 0.39997684955596924, \"d2\": -0.550502359867096, \"tag\": \"np\"}, {\"index\": \"finger\", \"d0\": -11.716861724853516, \"d1\": -0.3511272370815277, \"d2\": -0.23143431544303894, \"tag\": \"nn\"}, {\"index\": \"fingers\", \"d0\": -12.483673095703125, \"d1\": 0.0546582005918026, \"d2\": -0.11465385556221008, \"tag\": \"nn\"}, {\"index\": \"first\", \"d0\": -12.453728675842285, \"d1\": 0.07955584675073624, \"d2\": -0.3912973403930664, \"tag\": \"od\"}, {\"index\": \"fist\", \"d0\": -11.175274848937988, \"d1\": -0.006471673492342234, \"d2\": -0.35828590393066406, \"tag\": \"nn\"}, {\"index\": \"fleas\", \"d0\": -11.456207275390625, \"d1\": 0.1127883642911911, \"d2\": 0.1258794069290161, \"tag\": \"nn\"}, {\"index\": \"flesh\", \"d0\": -11.521138191223145, \"d1\": 0.3232736885547638, \"d2\": 0.0820455476641655, \"tag\": \"nn\"}, {\"index\": \"fleshy\", \"d0\": -11.169876098632812, \"d1\": -0.3895508050918579, \"d2\": -0.0816403329372406, \"tag\": \"jj\"}, {\"index\": \"flown\", \"d0\": -11.619174003601074, \"d1\": -0.2234240472316742, \"d2\": -0.07432545721530914, \"tag\": \"vb\"}, {\"index\": \"fluttering\", \"d0\": -11.00094223022461, \"d1\": -0.1561797708272934, \"d2\": -0.35882216691970825, \"tag\": \"vb\"}, {\"index\": \"fly-dotted\", \"d0\": -9.484445571899414, \"d1\": -0.11411257088184357, \"d2\": -0.257804811000824, \"tag\": \"jj\"}, {\"index\": \"fold\", \"d0\": -11.64760971069336, \"d1\": 0.2346118539571762, \"d2\": -0.4789964556694031, \"tag\": \"vb\"}, {\"index\": \"foot\", \"d0\": -12.203655242919922, \"d1\": 0.14002974331378937, \"d2\": -0.05875254049897194, \"tag\": \"nn\"}, {\"index\": \"for\", \"d0\": -9.496444702148438, \"d1\": 0.0625561848282814, \"d2\": -0.17597666382789612, \"tag\": \"in\"}, {\"index\": \"forked\", \"d0\": -9.693488121032715, \"d1\": -0.061345040798187256, \"d2\": 0.33907294273376465, \"tag\": \"vb\"}, {\"index\": \"form\", \"d0\": -12.335963249206543, \"d1\": -0.05444171279668808, \"d2\": -0.26021233201026917, \"tag\": \"vb\"}, {\"index\": \"fortresses\", \"d0\": -12.498865127563477, \"d1\": 0.12078458070755005, \"d2\": -0.16986462473869324, \"tag\": \"nn\"}, {\"index\": \"fragile\", \"d0\": -11.389928817749023, \"d1\": 0.22551508247852325, \"d2\": -0.4934016466140747, \"tag\": \"jj\"}, {\"index\": \"framed\", \"d0\": -10.213275909423828, \"d1\": 0.11887582391500473, \"d2\": -0.1954098492860794, \"tag\": \"vb\"}, {\"index\": \"from\", \"d0\": -9.682868003845215, \"d1\": 0.048405829817056656, \"d2\": -0.14688429236412048, \"tag\": \"in\"}, {\"index\": \"front\", \"d0\": -11.455626487731934, \"d1\": -0.2237541526556015, \"d2\": 0.058654479682445526, \"tag\": \"nn\"}, {\"index\": \"fully\", \"d0\": -10.180438995361328, \"d1\": 0.3892500400543213, \"d2\": -0.08837414532899857, \"tag\": \"rb\"}, {\"index\": \"fur-piece\", \"d0\": -9.461731910705566, \"d1\": -0.23775945603847504, \"d2\": -0.06117735430598259, \"tag\": \"nn\"}, {\"index\": \"gave\", \"d0\": -9.610532760620117, \"d1\": -0.1061525046825409, \"d2\": -0.15097731351852417, \"tag\": \"vb\"}, {\"index\": \"get\", \"d0\": -12.315266609191895, \"d1\": 0.12361422926187515, \"d2\": -0.2765563130378723, \"tag\": \"vb\"}, {\"index\": \"gilded\", \"d0\": -11.641019821166992, \"d1\": 0.2100611925125122, \"d2\": -0.0005331587744876742, \"tag\": \"vb\"}, {\"index\": \"ginkgo\", \"d0\": -11.481952667236328, \"d1\": 0.0026794830337166786, \"d2\": -0.37452754378318787, \"tag\": \"nn\"}, {\"index\": \"girl\", \"d0\": -11.491822242736816, \"d1\": 0.16128607094287872, \"d2\": -0.4854913353919983, \"tag\": \"nn\"}, {\"index\": \"git\", \"d0\": -10.592677116394043, \"d1\": 0.14517828822135925, \"d2\": -0.1426796019077301, \"tag\": \"vb\"}, {\"index\": \"give\", \"d0\": -10.307929992675781, \"d1\": -0.209571972489357, \"d2\": -0.40849876403808594, \"tag\": \"vb\"}, {\"index\": \"given\", \"d0\": -11.0971097946167, \"d1\": 0.07665673643350601, \"d2\": -0.32957592606544495, \"tag\": \"vb\"}, {\"index\": \"glance\", \"d0\": -10.390880584716797, \"d1\": -0.002590782241895795, \"d2\": -0.7235521078109741, \"tag\": \"nn\"}, {\"index\": \"glass\", \"d0\": -10.971741676330566, \"d1\": 0.08163145929574966, \"d2\": -0.22686170041561127, \"tag\": \"nn\"}, {\"index\": \"gloved\", \"d0\": -11.281001091003418, \"d1\": -0.22912362217903137, \"d2\": -0.1806095391511917, \"tag\": \"vb\"}, {\"index\": \"gloves\", \"d0\": -11.336936950683594, \"d1\": 0.17951978743076324, \"d2\": 0.0705653578042984, \"tag\": \"nn\"}, {\"index\": \"glowed\", \"d0\": -11.07811164855957, \"d1\": -0.12824474275112152, \"d2\": 0.10665350407361984, \"tag\": \"vb\"}, {\"index\": \"glued\", \"d0\": -11.336445808410645, \"d1\": -0.21108217537403107, \"d2\": 0.11862654238939285, \"tag\": \"vb\"}, {\"index\": \"goat\", \"d0\": -12.419668197631836, \"d1\": -0.04722902923822403, \"d2\": -0.20531079173088074, \"tag\": \"nn\"}, {\"index\": \"goat's\", \"d0\": -9.572389602661133, \"d1\": -0.057789016515016556, \"d2\": -0.2270306944847107, \"tag\": \"nn\"}, {\"index\": \"good\", \"d0\": -10.76559829711914, \"d1\": 0.11627952009439468, \"d2\": -0.2847413420677185, \"tag\": \"rb\"}, {\"index\": \"gossip\", \"d0\": -10.63283920288086, \"d1\": -0.0259800273925066, \"d2\": 0.07860855758190155, \"tag\": \"nn\"}, {\"index\": \"gradually\", \"d0\": -11.18233871459961, \"d1\": 0.13104388117790222, \"d2\": -0.19112162292003632, \"tag\": \"rb\"}, {\"index\": \"grape\", \"d0\": -11.006488800048828, \"d1\": -0.13054995238780975, \"d2\": -0.46007177233695984, \"tag\": \"nn\"}, {\"index\": \"grasp\", \"d0\": -11.225841522216797, \"d1\": -0.17716734111309052, \"d2\": -0.6272168755531311, \"tag\": \"vb\"}, {\"index\": \"grating\", \"d0\": -11.781620979309082, \"d1\": 0.07012094557285309, \"d2\": -0.24443663656711578, \"tag\": \"nn\"}, {\"index\": \"ground\", \"d0\": -10.24496841430664, \"d1\": 0.1398560106754303, \"d2\": -0.28571024537086487, \"tag\": \"nn\"}, {\"index\": \"guessed\", \"d0\": -11.28690242767334, \"d1\": -0.13512906432151794, \"d2\": -0.3565416634082794, \"tag\": \"vb\"}, {\"index\": \"had\", \"d0\": -9.487889289855957, \"d1\": 0.056615881621837616, \"d2\": -0.17240025103092194, \"tag\": \"hv\"}, {\"index\": \"hair\", \"d0\": -12.397377014160156, \"d1\": 0.1712818741798401, \"d2\": -0.16078144311904907, \"tag\": \"nn\"}, {\"index\": \"hairs\", \"d0\": -11.316082000732422, \"d1\": 0.3572184443473816, \"d2\": -0.042066819965839386, \"tag\": \"nn\"}, {\"index\": \"half-hour\", \"d0\": -9.2960205078125, \"d1\": 0.30479082465171814, \"d2\": 0.06793556362390518, \"tag\": \"nn\"}, {\"index\": \"hand\", \"d0\": -12.568785667419434, \"d1\": -0.007470453158020973, \"d2\": -0.3339654207229614, \"tag\": \"nn\"}, {\"index\": \"happened\", \"d0\": -10.425037384033203, \"d1\": -0.18024195730686188, \"d2\": -0.08505383133888245, \"tag\": \"vb\"}, {\"index\": \"harshness\", \"d0\": -11.276468276977539, \"d1\": 0.0987899973988533, \"d2\": -0.40717193484306335, \"tag\": \"nn\"}, {\"index\": \"hatred\", \"d0\": -12.44503402709961, \"d1\": 0.052777454257011414, \"d2\": -0.2315061092376709, \"tag\": \"nn\"}, {\"index\": \"haunches\", \"d0\": -10.980633735656738, \"d1\": 0.011640571057796478, \"d2\": -0.25143301486968994, \"tag\": \"nn\"}, {\"index\": \"have\", \"d0\": -9.462135314941406, \"d1\": -0.02364928275346756, \"d2\": -0.19411420822143555, \"tag\": \"hv\"}, {\"index\": \"having\", \"d0\": -9.553203582763672, \"d1\": 0.05041549354791641, \"d2\": -0.23221419751644135, \"tag\": \"hv\"}, {\"index\": \"he\", \"d0\": -9.435383796691895, \"d1\": 0.012489614076912403, \"d2\": -0.23216241598129272, \"tag\": \"pp\"}, {\"index\": \"head\", \"d0\": -12.158108711242676, \"d1\": 0.04050999507308006, \"d2\": -0.4590049088001251, \"tag\": \"nn\"}, {\"index\": \"hear\", \"d0\": -11.441975593566895, \"d1\": 0.3147134780883789, \"d2\": -0.4900336265563965, \"tag\": \"vb\"}, {\"index\": \"heard\", \"d0\": -11.03166675567627, \"d1\": 0.04711101949214935, \"d2\": -0.22792358696460724, \"tag\": \"vb\"}, {\"index\": \"hearing\", \"d0\": -10.811745643615723, \"d1\": 0.4766651690006256, \"d2\": 0.11382356286048889, \"tag\": \"vb\"}, {\"index\": \"heat\", \"d0\": -10.826911926269531, \"d1\": 0.01096434611827135, \"d2\": -0.2086019068956375, \"tag\": \"nn\"}, {\"index\": \"heavy\", \"d0\": -12.519716262817383, \"d1\": 0.08235589414834976, \"d2\": -0.2517153322696686, \"tag\": \"jj\"}, {\"index\": \"hedge\", \"d0\": -12.262313842773438, \"d1\": -0.06349816173315048, \"d2\": -0.4028083086013794, \"tag\": \"nn\"}, {\"index\": \"henh\", \"d0\": -9.402066230773926, \"d1\": 0.09025311470031738, \"d2\": 0.07290603965520859, \"tag\": \"uh\"}, {\"index\": \"her\", \"d0\": -9.383696556091309, \"d1\": 0.07383769750595093, \"d2\": -0.35150545835494995, \"tag\": \"pp\"}, {\"index\": \"here\", \"d0\": -9.394588470458984, \"d1\": 0.08626442402601242, \"d2\": -0.1874227672815323, \"tag\": \"rb\"}, {\"index\": \"heritage\", \"d0\": -11.488992691040039, \"d1\": -0.05059580132365227, \"d2\": -0.3718271255493164, \"tag\": \"nn\"}, {\"index\": \"herself\", \"d0\": -9.366816520690918, \"d1\": -0.06353692710399628, \"d2\": -0.2702423930168152, \"tag\": \"pp\"}, {\"index\": \"hey\", \"d0\": -9.409893989562988, \"d1\": 0.22453273832798004, \"d2\": -0.19389106333255768, \"tag\": \"uh\"}, {\"index\": \"high\", \"d0\": -11.491327285766602, \"d1\": -0.15131327509880066, \"d2\": 0.0879715234041214, \"tag\": \"jj\"}, {\"index\": \"higher\", \"d0\": -10.193910598754883, \"d1\": 0.3935566544532776, \"d2\": 0.05160266533493996, \"tag\": \"rb\"}, {\"index\": \"hill\", \"d0\": -12.384540557861328, \"d1\": 0.2463606894016266, \"d2\": -0.06333091855049133, \"tag\": \"nn\"}, {\"index\": \"him\", \"d0\": -9.51052188873291, \"d1\": 0.265068382024765, \"d2\": -0.16619370877742767, \"tag\": \"pp\"}, {\"index\": \"himself\", \"d0\": -9.43254566192627, \"d1\": -0.03146783635020256, \"d2\": -0.24820947647094727, \"tag\": \"pp\"}, {\"index\": \"hinges\", \"d0\": -11.692278861999512, \"d1\": -0.008148225024342537, \"d2\": -0.37324193120002747, \"tag\": \"nn\"}, {\"index\": \"his\", \"d0\": -9.45805835723877, \"d1\": 0.05290669947862625, \"d2\": -0.15129998326301575, \"tag\": \"pp\"}, {\"index\": \"hold\", \"d0\": -11.499053001403809, \"d1\": -0.24353745579719543, \"d2\": -0.3272608816623688, \"tag\": \"vb\"}, {\"index\": \"holding\", \"d0\": -9.559060096740723, \"d1\": 0.03581193462014198, \"d2\": -0.20831559598445892, \"tag\": \"vb\"}, {\"index\": \"hopped\", \"d0\": -11.714670181274414, \"d1\": 0.08565608412027359, \"d2\": 0.13629600405693054, \"tag\": \"vb\"}, {\"index\": \"house\", \"d0\": -9.521644592285156, \"d1\": 0.14718954265117645, \"d2\": -0.17862901091575623, \"tag\": \"nn\"}, {\"index\": \"housed\", \"d0\": -10.199978828430176, \"d1\": 0.02597302570939064, \"d2\": -0.2542003393173218, \"tag\": \"vb\"}, {\"index\": \"houses\", \"d0\": -12.584417343139648, \"d1\": 0.16768808662891388, \"d2\": -0.12300027161836624, \"tag\": \"nn\"}, {\"index\": \"hundred\", \"d0\": -12.195833206176758, \"d1\": 0.14702634513378143, \"d2\": -0.21494410932064056, \"tag\": \"cd\"}, {\"index\": \"i\", \"d0\": -9.412270545959473, \"d1\": 0.1136307418346405, \"d2\": -0.11136824637651443, \"tag\": \"pp\"}, {\"index\": \"idiot\", \"d0\": -10.89123249053955, \"d1\": 0.04468951374292374, \"d2\": -0.22033464908599854, \"tag\": \"nn\"}, {\"index\": \"if\", \"d0\": -9.345439910888672, \"d1\": -0.12075451016426086, \"d2\": -0.4293009638786316, \"tag\": \"cs\"}, {\"index\": \"ignored\", \"d0\": -9.367701530456543, \"d1\": -0.024510981515049934, \"d2\": -0.2652488648891449, \"tag\": \"vb\"}, {\"index\": \"impetuous\", \"d0\": -11.619576454162598, \"d1\": -0.028925947844982147, \"d2\": -0.26452213525772095, \"tag\": \"jj\"}, {\"index\": \"in\", \"d0\": -9.501995086669922, \"d1\": -0.029600048437714577, \"d2\": -0.14518269896507263, \"tag\": \"in\"}, {\"index\": \"inside\", \"d0\": -10.4804048538208, \"d1\": -0.1729539930820465, \"d2\": -0.20130795240402222, \"tag\": \"in\"}, {\"index\": \"interrupted\", \"d0\": -12.33608341217041, \"d1\": -0.10631778836250305, \"d2\": -0.29017913341522217, \"tag\": \"vb\"}, {\"index\": \"intervals\", \"d0\": -10.50130844116211, \"d1\": 0.03787976875901222, \"d2\": -0.22794584929943085, \"tag\": \"nn\"}, {\"index\": \"intimacy\", \"d0\": -11.634148597717285, \"d1\": 0.3184511661529541, \"d2\": -0.027567051351070404, \"tag\": \"nn\"}, {\"index\": \"into\", \"d0\": -9.348551750183105, \"d1\": -0.05846032127737999, \"d2\": -0.32981744408607483, \"tag\": \"in\"}, {\"index\": \"iron\", \"d0\": -11.358548164367676, \"d1\": 0.2513144910335541, \"d2\": -0.329603910446167, \"tag\": \"nn\"}, {\"index\": \"it\", \"d0\": -9.360671043395996, \"d1\": 0.1452992856502533, \"d2\": -0.24467742443084717, \"tag\": \"pp\"}, {\"index\": \"it's\", \"d0\": -9.534584999084473, \"d1\": 0.031034167855978012, \"d2\": -0.25247132778167725, \"tag\": \"pp\"}, {\"index\": \"italy\", \"d0\": -11.77829360961914, \"d1\": -0.21321360766887665, \"d2\": -0.43014270067214966, \"tag\": \"np\"}, {\"index\": \"its\", \"d0\": -9.531357765197754, \"d1\": -0.07322713732719421, \"d2\": -0.1427176594734192, \"tag\": \"pp\"}, {\"index\": \"jowls\", \"d0\": -11.439706802368164, \"d1\": -0.06303032487630844, \"d2\": -0.5403239130973816, \"tag\": \"nn\"}, {\"index\": \"june\", \"d0\": -10.558752059936523, \"d1\": -0.04132579639554024, \"d2\": -0.09916342049837112, \"tag\": \"np\"}, {\"index\": \"just\", \"d0\": -9.392656326293945, \"d1\": -0.2442043274641037, \"d2\": -0.1724020391702652, \"tag\": \"rb\"}, {\"index\": \"kept\", \"d0\": -9.488167762756348, \"d1\": -0.007110246457159519, \"d2\": -0.09045080095529556, \"tag\": \"vb\"}, {\"index\": \"kiss\", \"d0\": -11.42164421081543, \"d1\": -0.008075765334069729, \"d2\": -0.32522207498550415, \"tag\": \"nn\"}, {\"index\": \"knew\", \"d0\": -12.613182067871094, \"d1\": -0.09026791900396347, \"d2\": -0.2811254858970642, \"tag\": \"vb\"}, {\"index\": \"know\", \"d0\": -12.205435752868652, \"d1\": -0.25241610407829285, \"d2\": -0.06756678968667984, \"tag\": \"vb\"}, {\"index\": \"knowing\", \"d0\": -10.705130577087402, \"d1\": -0.04951813071966171, \"d2\": -0.43209120631217957, \"tag\": \"vb\"}, {\"index\": \"known\", \"d0\": -12.220577239990234, \"d1\": 0.14445161819458008, \"d2\": -0.11227115243673325, \"tag\": \"vb\"}, {\"index\": \"laced\", \"d0\": -11.602396965026855, \"d1\": -0.048081740736961365, \"d2\": -0.15941418707370758, \"tag\": \"vb\"}, {\"index\": \"lapping\", \"d0\": -11.577605247497559, \"d1\": -0.18920549750328064, \"d2\": -0.027698105201125145, \"tag\": \"vb\"}, {\"index\": \"laura\", \"d0\": -10.271554946899414, \"d1\": 0.4261097013950348, \"d2\": 0.09185700118541718, \"tag\": \"np\"}, {\"index\": \"lawn\", \"d0\": -10.67121410369873, \"d1\": 0.10524318367242813, \"d2\": -0.1742618978023529, \"tag\": \"nn\"}, {\"index\": \"lawns\", \"d0\": -11.486503601074219, \"d1\": -0.24853253364562988, \"d2\": -0.14656098186969757, \"tag\": \"nn\"}, {\"index\": \"leaned\", \"d0\": -9.85905647277832, \"d1\": -0.4247066378593445, \"d2\": -0.4443542957305908, \"tag\": \"vb\"}, {\"index\": \"left\", \"d0\": -10.841172218322754, \"d1\": -0.09848851710557938, \"d2\": -0.20356932282447815, \"tag\": \"vb\"}, {\"index\": \"leg\", \"d0\": -12.384391784667969, \"d1\": -0.0295303612947464, \"d2\": -0.1647249013185501, \"tag\": \"nn\"}, {\"index\": \"less\", \"d0\": -11.17201042175293, \"d1\": 0.0058662197552621365, \"d2\": -0.3231886029243469, \"tag\": \"ap\"}, {\"index\": \"let\", \"d0\": -11.198084831237793, \"d1\": 0.08414718508720398, \"d2\": -0.19320592284202576, \"tag\": \"vb\"}, {\"index\": \"licked\", \"d0\": -11.576424598693848, \"d1\": -0.033513590693473816, \"d2\": 0.12461798638105392, \"tag\": \"vb\"}, {\"index\": \"life\", \"d0\": -9.834452629089355, \"d1\": 0.39198756217956543, \"d2\": -0.6448677778244019, \"tag\": \"nn\"}, {\"index\": \"light\", \"d0\": -12.45709228515625, \"d1\": 0.023869799450039864, \"d2\": 0.05282410606741905, \"tag\": \"vb\"}, {\"index\": \"lights\", \"d0\": -10.805746078491211, \"d1\": -0.46846649050712585, \"d2\": 0.1413791924715042, \"tag\": \"nn\"}, {\"index\": \"like\", \"d0\": -12.533098220825195, \"d1\": 0.11533934623003006, \"d2\": -0.12488741427659988, \"tag\": \"cs\"}, {\"index\": \"liked\", \"d0\": -9.448254585266113, \"d1\": 0.04504067078232765, \"d2\": -0.2869841456413269, \"tag\": \"vb\"}, {\"index\": \"lined\", \"d0\": -10.231874465942383, \"d1\": 0.7009406685829163, \"d2\": -0.12483517080545425, \"tag\": \"vb\"}, {\"index\": \"lines\", \"d0\": -10.940225601196289, \"d1\": 0.06204577162861824, \"d2\": -0.16597521305084229, \"tag\": \"nn\"}, {\"index\": \"lithe\", \"d0\": -9.968960762023926, \"d1\": -0.29092904925346375, \"d2\": -0.5664297938346863, \"tag\": \"jj\"}, {\"index\": \"lived\", \"d0\": -11.375364303588867, \"d1\": 0.33539319038391113, \"d2\": -0.08434982597827911, \"tag\": \"vb\"}, {\"index\": \"local\", \"d0\": -10.375917434692383, \"d1\": 0.08371397852897644, \"d2\": -0.3417886197566986, \"tag\": \"jj\"}, {\"index\": \"long\", \"d0\": -12.401996612548828, \"d1\": -0.10451600700616837, \"d2\": -0.07013920694589615, \"tag\": \"jj\"}, {\"index\": \"looked\", \"d0\": -11.2496976852417, \"d1\": -0.3671490550041199, \"d2\": -0.08742434531450272, \"tag\": \"vb\"}, {\"index\": \"looking\", \"d0\": -11.891712188720703, \"d1\": 0.13702110946178436, \"d2\": 0.14748209714889526, \"tag\": \"vb\"}, {\"index\": \"loosely\", \"d0\": -11.802610397338867, \"d1\": 0.004142409656196833, \"d2\": -0.27642467617988586, \"tag\": \"rb\"}, {\"index\": \"lost\", \"d0\": -10.46464729309082, \"d1\": 0.10759580135345459, \"d2\": -0.2313070148229599, \"tag\": \"vb\"}, {\"index\": \"love\", \"d0\": -9.889729499816895, \"d1\": 0.22004108130931854, \"d2\": 0.3376787602901459, \"tag\": \"nn\"}, {\"index\": \"low\", \"d0\": -10.490316390991211, \"d1\": 0.49716365337371826, \"d2\": -0.3355177938938141, \"tag\": \"jj\"}, {\"index\": \"lyric\", \"d0\": -11.84014892578125, \"d1\": 0.035175953060388565, \"d2\": -0.20139898359775543, \"tag\": \"jj\"}, {\"index\": \"made\", \"d0\": -12.125054359436035, \"d1\": -0.08543548732995987, \"d2\": -0.23437929153442383, \"tag\": \"vb\"}, {\"index\": \"making\", \"d0\": -9.889719009399414, \"d1\": -0.19775520265102386, \"d2\": -0.2200651466846466, \"tag\": \"vb\"}, {\"index\": \"man\", \"d0\": -9.415019989013672, \"d1\": 0.01619911566376686, \"d2\": -0.20396313071250916, \"tag\": \"nn\"}, {\"index\": \"man's\", \"d0\": -9.42415714263916, \"d1\": 0.09642023593187332, \"d2\": -0.210102379322052, \"tag\": \"nn\"}, {\"index\": \"manure-scented\", \"d0\": -9.297454833984375, \"d1\": 0.08045417070388794, \"d2\": -0.1424894779920578, \"tag\": \"jj\"}, {\"index\": \"marbleized\", \"d0\": -11.710305213928223, \"d1\": 0.14451123774051666, \"d2\": -0.5038491487503052, \"tag\": \"vb\"}, {\"index\": \"mass\", \"d0\": -11.836442947387695, \"d1\": 0.29510021209716797, \"d2\": -0.1881617158651352, \"tag\": \"nn\"}, {\"index\": \"matter\", \"d0\": -12.080777168273926, \"d1\": 0.15816080570220947, \"d2\": -0.10878241062164307, \"tag\": \"vb\"}, {\"index\": \"mauve-colored\", \"d0\": -9.413460731506348, \"d1\": 0.048859529197216034, \"d2\": -0.19952142238616943, \"tag\": \"jj\"}, {\"index\": \"meantime\", \"d0\": -9.637794494628906, \"d1\": -0.16964177787303925, \"d2\": -0.710792601108551, \"tag\": \"nn\"}, {\"index\": \"memory\", \"d0\": -11.641887664794922, \"d1\": -0.24901826679706573, \"d2\": -0.24010710418224335, \"tag\": \"nn\"}, {\"index\": \"men\", \"d0\": -11.270232200622559, \"d1\": -0.20091578364372253, \"d2\": -0.1027187928557396, \"tag\": \"nn\"}, {\"index\": \"might\", \"d0\": -9.865105628967285, \"d1\": 0.29452747106552124, \"d2\": 0.22004163265228271, \"tag\": \"md\"}, {\"index\": \"milk\", \"d0\": -11.5123291015625, \"d1\": -0.18030664324760437, \"d2\": 0.0917670726776123, \"tag\": \"nn\"}, {\"index\": \"miniature\", \"d0\": -10.317756652832031, \"d1\": -0.1035800576210022, \"d2\": 0.15937736630439758, \"tag\": \"jj\"}, {\"index\": \"missed\", \"d0\": -11.359135627746582, \"d1\": -0.37875786423683167, \"d2\": -0.11355411261320114, \"tag\": \"vb\"}, {\"index\": \"monotonous\", \"d0\": -11.477683067321777, \"d1\": 0.3944481909275055, \"d2\": 0.10757613182067871, \"tag\": \"jj\"}, {\"index\": \"month\", \"d0\": -12.50405502319336, \"d1\": 0.05229502171278, \"d2\": -0.18146245181560516, \"tag\": \"nn\"}, {\"index\": \"months\", \"d0\": -9.425257682800293, \"d1\": 0.0953877791762352, \"d2\": -0.23679262399673462, \"tag\": \"nn\"}, {\"index\": \"mood\", \"d0\": -10.986924171447754, \"d1\": 0.1850104182958603, \"d2\": -0.37248584628105164, \"tag\": \"nn\"}, {\"index\": \"morning\", \"d0\": -10.854384422302246, \"d1\": 0.04693927988409996, \"d2\": -0.16888953745365143, \"tag\": \"nn\"}, {\"index\": \"mother\", \"d0\": -10.94811725616455, \"d1\": -0.22732099890708923, \"d2\": -0.39246922731399536, \"tag\": \"nn\"}, {\"index\": \"mouth\", \"d0\": -12.519085884094238, \"d1\": -0.007406070362776518, \"d2\": 0.004717202857136726, \"tag\": \"nn\"}, {\"index\": \"mouths\", \"d0\": -10.00434684753418, \"d1\": 0.5934955477714539, \"d2\": 0.05704681947827339, \"tag\": \"nn\"}, {\"index\": \"moving\", \"d0\": -10.618509292602539, \"d1\": -0.07630892843008041, \"d2\": -0.359087198972702, \"tag\": \"vb\"}, {\"index\": \"mysterious\", \"d0\": -11.540955543518066, \"d1\": 0.16206921637058258, \"d2\": -0.10562541335821152, \"tag\": \"jj\"}, {\"index\": \"name\", \"d0\": -9.859682083129883, \"d1\": 0.3325156271457672, \"d2\": -0.1837051510810852, \"tag\": \"nn\"}, {\"index\": \"named\", \"d0\": -9.79726791381836, \"d1\": 0.1089077889919281, \"d2\": -0.5789230465888977, \"tag\": \"vb\"}, {\"index\": \"near\", \"d0\": -10.098819732666016, \"d1\": 0.18556009232997894, \"d2\": -0.7523337006568909, \"tag\": \"in\"}, {\"index\": \"neatest\", \"d0\": -11.4790678024292, \"d1\": 0.27523595094680786, \"d2\": 0.06881431490182877, \"tag\": \"jj\"}, {\"index\": \"neighborhood\", \"d0\": -10.718451499938965, \"d1\": -0.26410794258117676, \"d2\": -0.11048465967178345, \"tag\": \"nn\"}, {\"index\": \"neither\", \"d0\": -9.77155876159668, \"d1\": -0.4511636793613434, \"d2\": -0.26526275277137756, \"tag\": \"cc\"}, {\"index\": \"never\", \"d0\": -12.565718650817871, \"d1\": 0.0898323655128479, \"d2\": -0.05584820732474327, \"tag\": \"rb\"}, {\"index\": \"new\", \"d0\": -11.100123405456543, \"d1\": 0.08692832291126251, \"d2\": -0.05938403680920601, \"tag\": \"jj\"}, {\"index\": \"next\", \"d0\": -11.694084167480469, \"d1\": -0.05599277466535568, \"d2\": -0.2779272496700287, \"tag\": \"ap\"}, {\"index\": \"night\", \"d0\": -11.420112609863281, \"d1\": 0.06389966607093811, \"d2\": 0.03337918594479561, \"tag\": \"nn\"}, {\"index\": \"niobe\", \"d0\": -11.48222827911377, \"d1\": 0.07409871369600296, \"d2\": -0.16689686477184296, \"tag\": \"np\"}, {\"index\": \"no\", \"d0\": -9.439058303833008, \"d1\": -0.005130873527377844, \"d2\": -0.23893600702285767, \"tag\": \"rb\"}, {\"index\": \"nobody\", \"d0\": -12.173188209533691, \"d1\": -0.07238437235355377, \"d2\": -0.41950127482414246, \"tag\": \"pn\"}, {\"index\": \"noon\", \"d0\": -11.631217956542969, \"d1\": 0.3673125207424164, \"d2\": -0.3018018901348114, \"tag\": \"nn\"}, {\"index\": \"nor\", \"d0\": -9.349830627441406, \"d1\": 0.041204746812582016, \"d2\": -0.21241705119609833, \"tag\": \"cc\"}, {\"index\": \"not\", \"d0\": -9.399691581726074, \"d1\": 0.09086424112319946, \"d2\": -0.14803750813007355, \"tag\": \"*\"}, {\"index\": \"nothing\", \"d0\": -12.294577598571777, \"d1\": -0.003808788023889065, \"d2\": -0.21545645594596863, \"tag\": \"pn\"}, {\"index\": \"noticed\", \"d0\": -10.900663375854492, \"d1\": -0.2179144322872162, \"d2\": -0.030926359817385674, \"tag\": \"vb\"}, {\"index\": \"now\", \"d0\": -9.422760009765625, \"d1\": -0.0331076979637146, \"d2\": -0.08504094183444977, \"tag\": \"rb\"}, {\"index\": \"obeyed\", \"d0\": -9.561141967773438, \"d1\": 0.044944118708372116, \"d2\": -0.02787746675312519, \"tag\": \"vb\"}, {\"index\": \"ocher\", \"d0\": -11.162001609802246, \"d1\": 0.27931761741638184, \"d2\": -0.22097882628440857, \"tag\": \"nn\"}, {\"index\": \"of\", \"d0\": -9.581877708435059, \"d1\": 0.046367838978767395, \"d2\": -0.14495420455932617, \"tag\": \"in\"}, {\"index\": \"old\", \"d0\": -9.519680976867676, \"d1\": -0.11033884435892105, \"d2\": -0.18808254599571228, \"tag\": \"jj\"}, {\"index\": \"older\", \"d0\": -9.39816951751709, \"d1\": -0.007729405537247658, \"d2\": -0.21064259111881256, \"tag\": \"jj\"}, {\"index\": \"on\", \"d0\": -9.443354606628418, \"d1\": 0.017024163156747818, \"d2\": -0.00653524324297905, \"tag\": \"in\"}, {\"index\": \"once\", \"d0\": -9.445454597473145, \"d1\": -0.06745525449514389, \"d2\": -0.27741163969039917, \"tag\": \"cs\"}, {\"index\": \"one\", \"d0\": -9.456286430358887, \"d1\": -0.06992388516664505, \"d2\": -0.14068293571472168, \"tag\": \"pn\"}, {\"index\": \"ones\", \"d0\": -12.516563415527344, \"d1\": 0.00283042062073946, \"d2\": -0.13967643678188324, \"tag\": \"nn\"}, {\"index\": \"only\", \"d0\": -9.4725923538208, \"d1\": 0.01725105009973049, \"d2\": -0.12414313107728958, \"tag\": \"ap\"}, {\"index\": \"onto\", \"d0\": -10.639636993408203, \"d1\": 0.0669201985001564, \"d2\": 0.046731747686862946, \"tag\": \"in\"}, {\"index\": \"opened\", \"d0\": -12.388886451721191, \"d1\": -0.15624816715717316, \"d2\": -0.03979325667023659, \"tag\": \"vb\"}, {\"index\": \"operated\", \"d0\": -10.634156227111816, \"d1\": 0.03662428632378578, \"d2\": -0.07908938080072403, \"tag\": \"vb\"}, {\"index\": \"opposition\", \"d0\": -10.974845886230469, \"d1\": 0.025983650237321854, \"d2\": 0.05548303574323654, \"tag\": \"nn\"}, {\"index\": \"or\", \"d0\": -9.495492935180664, \"d1\": -0.0025837949942797422, \"d2\": -0.34180355072021484, \"tag\": \"cc\"}, {\"index\": \"orange\", \"d0\": -11.482739448547363, \"d1\": -0.006068681366741657, \"d2\": 0.0645248219370842, \"tag\": \"jj\"}, {\"index\": \"order\", \"d0\": -10.073925971984863, \"d1\": -0.39540621638298035, \"d2\": 0.1641157567501068, \"tag\": \"vb\"}, {\"index\": \"other\", \"d0\": -9.376914024353027, \"d1\": 0.023018766194581985, \"d2\": -0.23758602142333984, \"tag\": \"ap\"}, {\"index\": \"ours\", \"d0\": -9.414651870727539, \"d1\": -0.06786081194877625, \"d2\": -0.2305753082036972, \"tag\": \"pp\"}, {\"index\": \"out\", \"d0\": -9.518884658813477, \"d1\": 0.034371402114629745, \"d2\": -0.16479098796844482, \"tag\": \"rp\"}, {\"index\": \"outskirts\", \"d0\": -11.040334701538086, \"d1\": -0.06883558630943298, \"d2\": -0.2684967517852783, \"tag\": \"nn\"}, {\"index\": \"over\", \"d0\": -9.425139427185059, \"d1\": 0.10821671038866043, \"d2\": -0.4112263321876526, \"tag\": \"rp\"}, {\"index\": \"owned\", \"d0\": -11.507265090942383, \"d1\": 0.17100022733211517, \"d2\": -0.1153077706694603, \"tag\": \"vb\"}, {\"index\": \"pact\", \"d0\": -10.636211395263672, \"d1\": -0.04083944484591484, \"d2\": -0.23456433415412903, \"tag\": \"nn\"}, {\"index\": \"paid\", \"d0\": -10.980097770690918, \"d1\": 0.19172678887844086, \"d2\": -0.28425776958465576, \"tag\": \"vb\"}, {\"index\": \"pales\", \"d0\": -10.209162712097168, \"d1\": -0.020968876779079437, \"d2\": -0.48833322525024414, \"tag\": \"nn\"}, {\"index\": \"parents\", \"d0\": -11.304591178894043, \"d1\": -0.06936074048280716, \"d2\": -0.44422057271003723, \"tag\": \"nn\"}, {\"index\": \"park\", \"d0\": -12.085901260375977, \"d1\": 0.13284648954868317, \"d2\": -0.07088171690702438, \"tag\": \"nn\"}, {\"index\": \"part\", \"d0\": -9.932517051696777, \"d1\": -0.09971462935209274, \"d2\": -0.5860069990158081, \"tag\": \"nn\"}, {\"index\": \"pass\", \"d0\": -11.68593692779541, \"d1\": 0.07038664817810059, \"d2\": -0.21735858917236328, \"tag\": \"nn\"}, {\"index\": \"passing\", \"d0\": -10.665847778320312, \"d1\": 0.06776974350214005, \"d2\": -0.3292787969112396, \"tag\": \"vb\"}, {\"index\": \"passion\", \"d0\": -11.631220817565918, \"d1\": 0.019841762259602547, \"d2\": 0.205447718501091, \"tag\": \"nn\"}, {\"index\": \"past\", \"d0\": -10.160209655761719, \"d1\": 0.0300404354929924, \"d2\": -0.08709399402141571, \"tag\": \"nn\"}, {\"index\": \"paste\", \"d0\": -11.24213695526123, \"d1\": 0.10234193503856659, \"d2\": -0.19210858643054962, \"tag\": \"nn\"}, {\"index\": \"paved\", \"d0\": -9.842235565185547, \"d1\": -0.036422248929739, \"d2\": 0.3061031103134155, \"tag\": \"vb\"}, {\"index\": \"pay\", \"d0\": -12.305081367492676, \"d1\": -0.18385285139083862, \"d2\": -0.15529780089855194, \"tag\": \"vb\"}, {\"index\": \"people\", \"d0\": -10.145506858825684, \"d1\": -0.2751319408416748, \"d2\": -0.2915803790092468, \"tag\": \"nn\"}, {\"index\": \"perched\", \"d0\": -11.267579078674316, \"d1\": 0.34859293699264526, \"d2\": -0.08689657598733902, \"tag\": \"vb\"}, {\"index\": \"perhaps\", \"d0\": -12.048175811767578, \"d1\": -0.1746867448091507, \"d2\": -0.17583388090133667, \"tag\": \"rb\"}, {\"index\": \"philadelphia\", \"d0\": -10.8618803024292, \"d1\": -0.0552188940346241, \"d2\": -0.26935067772865295, \"tag\": \"np\"}, {\"index\": \"pink\", \"d0\": -11.652207374572754, \"d1\": 0.1146445944905281, \"d2\": -0.3608619272708893, \"tag\": \"jj\"}, {\"index\": \"pipe\", \"d0\": -12.563507080078125, \"d1\": 0.026829425245523453, \"d2\": -0.13702596724033356, \"tag\": \"nn\"}, {\"index\": \"place\", \"d0\": -12.328221321105957, \"d1\": 0.0612262487411499, \"d2\": -0.3265458941459656, \"tag\": \"nn\"}, {\"index\": \"player\", \"d0\": -11.90088939666748, \"d1\": 0.01668744534254074, \"d2\": -0.19870628416538239, \"tag\": \"nn\"}, {\"index\": \"playing\", \"d0\": -11.62203311920166, \"d1\": -0.024425625801086426, \"d2\": -0.4444916844367981, \"tag\": \"vb\"}, {\"index\": \"pleasure\", \"d0\": -11.435661315917969, \"d1\": -0.3063979148864746, \"d2\": -0.3134206235408783, \"tag\": \"nn\"}, {\"index\": \"pocket\", \"d0\": -11.418149948120117, \"d1\": -0.4173760414123535, \"d2\": -0.2818560302257538, \"tag\": \"nn\"}, {\"index\": \"pointed\", \"d0\": -11.549633979797363, \"d1\": -0.17126105725765228, \"d2\": 0.04716147482395172, \"tag\": \"vb\"}, {\"index\": \"polished\", \"d0\": -11.430161476135254, \"d1\": 0.08798094093799591, \"d2\": -0.2973223924636841, \"tag\": \"vb\"}, {\"index\": \"pompeii\", \"d0\": -12.421709060668945, \"d1\": 0.023503078147768974, \"d2\": -0.21343041956424713, \"tag\": \"np\"}, {\"index\": \"pompeii's\", \"d0\": -9.421058654785156, \"d1\": -0.03550664708018303, \"d2\": -0.21256107091903687, \"tag\": \"np\"}, {\"index\": \"porch\", \"d0\": -12.568354606628418, \"d1\": -0.051094550639390945, \"d2\": -0.12376359850168228, \"tag\": \"nn\"}, {\"index\": \"porches\", \"d0\": -10.47763442993164, \"d1\": -0.10898091644048691, \"d2\": -0.07422341406345367, \"tag\": \"nn\"}, {\"index\": \"portentous\", \"d0\": -10.473501205444336, \"d1\": 0.18027536571025848, \"d2\": -0.23535285890102386, \"tag\": \"jj\"}, {\"index\": \"possessed\", \"d0\": -11.644322395324707, \"d1\": -0.03666800633072853, \"d2\": -0.2181215137243271, \"tag\": \"vb\"}, {\"index\": \"pound\", \"d0\": -11.591694831848145, \"d1\": -0.23204880952835083, \"d2\": -0.10721834748983383, \"tag\": \"vb\"}, {\"index\": \"present\", \"d0\": -10.194294929504395, \"d1\": 0.0002185403136536479, \"d2\": -0.23335637152194977, \"tag\": \"jj\"}, {\"index\": \"pressing\", \"d0\": -11.72437858581543, \"d1\": 0.039592962712049484, \"d2\": -0.1926986128091812, \"tag\": \"vb\"}, {\"index\": \"pretended\", \"d0\": -11.61597728729248, \"d1\": -0.13626548647880554, \"d2\": -0.26690220832824707, \"tag\": \"vb\"}, {\"index\": \"pretty\", \"d0\": -10.167953491210938, \"d1\": -0.01090475358068943, \"d2\": -0.2519429326057434, \"tag\": \"jj\"}, {\"index\": \"price\", \"d0\": -10.156561851501465, \"d1\": -0.3828487992286682, \"d2\": -0.47458726167678833, \"tag\": \"nn\"}, {\"index\": \"privacy\", \"d0\": -10.424321174621582, \"d1\": -0.2905668020248413, \"d2\": -0.47024601697921753, \"tag\": \"nn\"}, {\"index\": \"property\", \"d0\": -11.454745292663574, \"d1\": 0.1778683066368103, \"d2\": -0.26201990246772766, \"tag\": \"nn\"}, {\"index\": \"provided\", \"d0\": -10.562549591064453, \"d1\": -0.13155265152454376, \"d2\": -0.4104759693145752, \"tag\": \"vb\"}, {\"index\": \"puckered\", \"d0\": -11.53157901763916, \"d1\": 0.33528241515159607, \"d2\": -0.5051681399345398, \"tag\": \"vb\"}, {\"index\": \"pulling\", \"d0\": -10.923182487487793, \"d1\": 0.019958529621362686, \"d2\": -0.35522276163101196, \"tag\": \"vb\"}, {\"index\": \"purpose\", \"d0\": -11.001073837280273, \"d1\": 0.008227287791669369, \"d2\": 0.05563642084598541, \"tag\": \"nn\"}, {\"index\": \"pushed\", \"d0\": -10.842841148376465, \"d1\": -0.06907911598682404, \"d2\": -0.21956849098205566, \"tag\": \"vb\"}, {\"index\": \"puttana\", \"d0\": -9.40429401397705, \"d1\": -0.04727597162127495, \"d2\": -0.29647591710090637, \"tag\": \"fw\"}, {\"index\": \"quality\", \"d0\": -10.511829376220703, \"d1\": 0.30262380838394165, \"d2\": -0.1357998549938202, \"tag\": \"nn\"}, {\"index\": \"quarters\", \"d0\": -12.3494291305542, \"d1\": -0.07661127299070358, \"d2\": -0.24222980439662933, \"tag\": \"nn\"}, {\"index\": \"questioned\", \"d0\": -9.392834663391113, \"d1\": 0.09812819212675095, \"d2\": -0.23881179094314575, \"tag\": \"vb\"}, {\"index\": \"quickly\", \"d0\": -11.464093208312988, \"d1\": -0.2341003566980362, \"d2\": -0.3264070153236389, \"tag\": \"rb\"}, {\"index\": \"rail\", \"d0\": -11.587861061096191, \"d1\": -0.16695328056812286, \"d2\": -0.19758650660514832, \"tag\": \"nn\"}, {\"index\": \"railing\", \"d0\": -11.371179580688477, \"d1\": 0.004526555072516203, \"d2\": -0.24762895703315735, \"tag\": \"nn\"}, {\"index\": \"raise\", \"d0\": -11.954853057861328, \"d1\": -0.2604113519191742, \"d2\": -0.3006514012813568, \"tag\": \"vb\"}, {\"index\": \"rang\", \"d0\": -11.475228309631348, \"d1\": 0.20411208271980286, \"d2\": -0.2740883231163025, \"tag\": \"vb\"}, {\"index\": \"reach\", \"d0\": -10.903814315795898, \"d1\": -0.1505352407693863, \"d2\": -0.5957151055335999, \"tag\": \"vb\"}, {\"index\": \"reached\", \"d0\": -10.128376007080078, \"d1\": 0.15463238954544067, \"d2\": -0.05134039372205734, \"tag\": \"vb\"}, {\"index\": \"reassured\", \"d0\": -10.624297142028809, \"d1\": -0.2104942947626114, \"d2\": -0.21974840760231018, \"tag\": \"vb\"}, {\"index\": \"reeked\", \"d0\": -10.46733570098877, \"d1\": -0.11116136610507965, \"d2\": 0.07296479493379593, \"tag\": \"vb\"}, {\"index\": \"released\", \"d0\": -11.58566951751709, \"d1\": -0.27202069759368896, \"d2\": -0.3368156850337982, \"tag\": \"vb\"}, {\"index\": \"remember\", \"d0\": -12.508020401000977, \"d1\": 0.017611894756555557, \"d2\": -0.29182660579681396, \"tag\": \"vb\"}, {\"index\": \"remove\", \"d0\": -11.218820571899414, \"d1\": 0.17916661500930786, \"d2\": 0.06155103072524071, \"tag\": \"vb\"}, {\"index\": \"repetitive\", \"d0\": -11.52493667602539, \"d1\": 0.34741705656051636, \"d2\": -0.02499730885028839, \"tag\": \"jj\"}, {\"index\": \"restless\", \"d0\": -10.548089981079102, \"d1\": 0.33013397455215454, \"d2\": -0.34992653131484985, \"tag\": \"jj\"}, {\"index\": \"rich\", \"d0\": -12.268678665161133, \"d1\": 0.19651490449905396, \"d2\": -0.09787523746490479, \"tag\": \"jj\"}, {\"index\": \"ride\", \"d0\": -9.980701446533203, \"d1\": -0.2631365656852722, \"d2\": 0.13337136805057526, \"tag\": \"vb\"}, {\"index\": \"ripe\", \"d0\": -11.774587631225586, \"d1\": 0.11357444524765015, \"d2\": -0.19868974387645721, \"tag\": \"jj\"}, {\"index\": \"rising\", \"d0\": -12.5237398147583, \"d1\": 0.18002820014953613, \"d2\": -0.12969468533992767, \"tag\": \"vb\"}, {\"index\": \"road\", \"d0\": -10.529509544372559, \"d1\": 0.2430814504623413, \"d2\": -0.12924377620220184, \"tag\": \"nn\"}, {\"index\": \"roared\", \"d0\": -11.570429801940918, \"d1\": 0.15430200099945068, \"d2\": -0.47243794798851013, \"tag\": \"vb\"}, {\"index\": \"rode\", \"d0\": -11.696014404296875, \"d1\": 0.2510828673839569, \"d2\": 0.22321367263793945, \"tag\": \"vb\"}, {\"index\": \"rolled\", \"d0\": -9.52125358581543, \"d1\": 0.02069094032049179, \"d2\": -0.11642132699489594, \"tag\": \"vb\"}, {\"index\": \"romeo\", \"d0\": -11.515597343444824, \"d1\": 0.07127855718135834, \"d2\": -0.1526249349117279, \"tag\": \"np\"}, {\"index\": \"romeo's\", \"d0\": -9.36975383758545, \"d1\": -0.004433783236891031, \"d2\": -0.16728051006793976, \"tag\": \"np\"}, {\"index\": \"roof\", \"d0\": -11.608017921447754, \"d1\": -0.09619780629873276, \"d2\": 0.201178178191185, \"tag\": \"nn\"}, {\"index\": \"rosaries\", \"d0\": -11.588496208190918, \"d1\": 0.09422585368156433, \"d2\": -0.340610146522522, \"tag\": \"nn\"}, {\"index\": \"rose\", \"d0\": -12.532220840454102, \"d1\": 0.009590997360646725, \"d2\": -0.2578013837337494, \"tag\": \"np\"}, {\"index\": \"rossi\", \"d0\": -10.528801918029785, \"d1\": 0.18184925615787506, \"d2\": -0.3635997772216797, \"tag\": \"np\"}, {\"index\": \"rot\", \"d0\": -11.136916160583496, \"d1\": 0.03970867022871971, \"d2\": -0.18652872741222382, \"tag\": \"nn\"}, {\"index\": \"rotundity\", \"d0\": -11.695164680480957, \"d1\": 0.2122553288936615, \"d2\": 0.01074736937880516, \"tag\": \"nn\"}, {\"index\": \"running\", \"d0\": -12.477680206298828, \"d1\": 0.09124641865491867, \"d2\": -0.29099464416503906, \"tag\": \"vb\"}, {\"index\": \"rusted\", \"d0\": -11.513663291931152, \"d1\": 0.040320951491594315, \"d2\": -0.3073204457759857, \"tag\": \"vb\"}, {\"index\": \"said\", \"d0\": -11.370951652526855, \"d1\": 0.19551052153110504, \"d2\": -0.37734201550483704, \"tag\": \"vb\"}, {\"index\": \"sake\", \"d0\": -10.613295555114746, \"d1\": 0.06054149568080902, \"d2\": -0.23972155153751373, \"tag\": \"uh\"}, {\"index\": \"sallow\", \"d0\": -11.618408203125, \"d1\": 0.17753802239894867, \"d2\": -0.3913141191005707, \"tag\": \"jj\"}, {\"index\": \"salt\", \"d0\": -11.245792388916016, \"d1\": 0.10208238661289215, \"d2\": 0.2001568078994751, \"tag\": \"nn\"}, {\"index\": \"same\", \"d0\": -9.409730911254883, \"d1\": 0.0484175831079483, \"d2\": -0.12413471192121506, \"tag\": \"ap\"}, {\"index\": \"sameness\", \"d0\": -12.610193252563477, \"d1\": 0.0016498385230079293, \"d2\": -0.20020869374275208, \"tag\": \"nn\"}, {\"index\": \"sandals\", \"d0\": -12.529500007629395, \"d1\": -0.048471443355083466, \"d2\": -0.23946654796600342, \"tag\": \"nn\"}, {\"index\": \"sat\", \"d0\": -12.34341049194336, \"d1\": -0.05689001828432083, \"d2\": -0.06088100001215935, \"tag\": \"vb\"}, {\"index\": \"satin-covered\", \"d0\": -9.450798034667969, \"d1\": 0.032447949051856995, \"d2\": -0.2851751148700714, \"tag\": \"jj\"}, {\"index\": \"saturday\", \"d0\": -11.39897346496582, \"d1\": 0.18161284923553467, \"d2\": -0.19699127972126007, \"tag\": \"nr\"}, {\"index\": \"savored\", \"d0\": -11.543212890625, \"d1\": 0.057306405156850815, \"d2\": 0.17861920595169067, \"tag\": \"vb\"}, {\"index\": \"saw\", \"d0\": -9.77646541595459, \"d1\": 0.2205454260110855, \"d2\": -0.7854772210121155, \"tag\": \"vb\"}, {\"index\": \"say\", \"d0\": -10.473162651062012, \"d1\": 0.0586184561252594, \"d2\": 0.10158701986074448, \"tag\": \"vb\"}, {\"index\": \"scent\", \"d0\": -11.366931915283203, \"d1\": -0.002718038856983185, \"d2\": -0.24053090810775757, \"tag\": \"nn\"}, {\"index\": \"schuylkill\", \"d0\": -10.561728477478027, \"d1\": -0.005682948511093855, \"d2\": -0.47348499298095703, \"tag\": \"np\"}, {\"index\": \"screeched\", \"d0\": -11.458002090454102, \"d1\": 0.1323891580104828, \"d2\": -0.4707449674606323, \"tag\": \"vb\"}, {\"index\": \"screeching\", \"d0\": -11.499167442321777, \"d1\": -0.18136285245418549, \"d2\": -0.21793676912784576, \"tag\": \"vb\"}, {\"index\": \"screen\", \"d0\": -12.431462287902832, \"d1\": 0.017679912969470024, \"d2\": -0.17187191545963287, \"tag\": \"nn\"}, {\"index\": \"seams\", \"d0\": -11.500494003295898, \"d1\": -0.2160813957452774, \"d2\": -0.3680795431137085, \"tag\": \"nn\"}, {\"index\": \"second-story\", \"d0\": -9.487326622009277, \"d1\": -0.02513108216226101, \"d2\": -0.06327583640813828, \"tag\": \"nn\"}, {\"index\": \"see\", \"d0\": -12.42464542388916, \"d1\": -0.16905555129051208, \"d2\": -0.42519238591194153, \"tag\": \"vb\"}, {\"index\": \"seemed\", \"d0\": -9.914514541625977, \"d1\": -0.15158724784851074, \"d2\": -0.45259028673171997, \"tag\": \"vb\"}, {\"index\": \"seen\", \"d0\": -10.673680305480957, \"d1\": 0.14222541451454163, \"d2\": -0.23403438925743103, \"tag\": \"vb\"}, {\"index\": \"sensing\", \"d0\": -11.583450317382812, \"d1\": 0.03859340772032738, \"d2\": -0.11936721950769424, \"tag\": \"vb\"}, {\"index\": \"service\", \"d0\": -10.79764175415039, \"d1\": 0.007385696284472942, \"d2\": -0.151423841714859, \"tag\": \"nn\"}, {\"index\": \"shaded\", \"d0\": -11.639921188354492, \"d1\": -0.013612954877316952, \"d2\": -0.3747870922088623, \"tag\": \"vb\"}, {\"index\": \"shadow\", \"d0\": -12.514068603515625, \"d1\": 0.021813245490193367, \"d2\": -0.17820996046066284, \"tag\": \"nn\"}, {\"index\": \"shaved\", \"d0\": -11.50579833984375, \"d1\": 0.26539120078086853, \"d2\": -0.2002907693386078, \"tag\": \"vb\"}, {\"index\": \"she\", \"d0\": -9.521570205688477, \"d1\": 0.06810349225997925, \"d2\": 0.04355040192604065, \"tag\": \"pp\"}, {\"index\": \"she's\", \"d0\": -9.47165298461914, \"d1\": 0.06255320459604263, \"d2\": -0.2920374274253845, \"tag\": \"pp\"}, {\"index\": \"shining\", \"d0\": -11.36931324005127, \"d1\": 0.2219523936510086, \"d2\": -0.10537198930978775, \"tag\": \"vb\"}, {\"index\": \"shooing\", \"d0\": -10.553091049194336, \"d1\": 0.048678722232580185, \"d2\": -0.033940330147743225, \"tag\": \"vb\"}, {\"index\": \"shop\", \"d0\": -12.242288589477539, \"d1\": -0.1767062097787857, \"d2\": 0.027364457026124, \"tag\": \"nn\"}, {\"index\": \"shoulders\", \"d0\": -12.517912864685059, \"d1\": 0.07207506150007248, \"d2\": -0.23582565784454346, \"tag\": \"nn\"}, {\"index\": \"shouldn't\", \"d0\": -9.389730453491211, \"d1\": 0.12086434662342072, \"d2\": -0.38359177112579346, \"tag\": \"md\"}, {\"index\": \"showed\", \"d0\": -10.445320129394531, \"d1\": 0.0334777794778347, \"d2\": -0.09352284669876099, \"tag\": \"vb\"}, {\"index\": \"showroom\", \"d0\": -10.069019317626953, \"d1\": -0.5102208256721497, \"d2\": -0.027258673682808876, \"tag\": \"nn\"}, {\"index\": \"shrill\", \"d0\": -11.254307746887207, \"d1\": -0.03917974233627319, \"d2\": -0.31017106771469116, \"tag\": \"jj\"}, {\"index\": \"side\", \"d0\": -11.157491683959961, \"d1\": 0.2684919536113739, \"d2\": -0.08534760773181915, \"tag\": \"nn\"}, {\"index\": \"sidewalk\", \"d0\": -11.49273681640625, \"d1\": 0.24451209604740143, \"d2\": -0.3015565872192383, \"tag\": \"nn\"}, {\"index\": \"sight\", \"d0\": -11.073173522949219, \"d1\": -0.13100555539131165, \"d2\": 0.1458195447921753, \"tag\": \"nn\"}, {\"index\": \"sign\", \"d0\": -11.153584480285645, \"d1\": 0.08359209448099136, \"d2\": -0.2801175117492676, \"tag\": \"nn\"}, {\"index\": \"signore\", \"d0\": -9.486876487731934, \"d1\": -0.1858041137456894, \"d2\": -0.27389490604400635, \"tag\": \"np\"}, {\"index\": \"silent\", \"d0\": -11.484731674194336, \"d1\": 0.16543331742286682, \"d2\": -0.3481284976005554, \"tag\": \"jj\"}, {\"index\": \"silently\", \"d0\": -9.949663162231445, \"d1\": 0.5993455052375793, \"d2\": -0.5121370553970337, \"tag\": \"rb\"}, {\"index\": \"since\", \"d0\": -10.794958114624023, \"d1\": -0.15404100716114044, \"d2\": -0.011466802097856998, \"tag\": \"rb\"}, {\"index\": \"sinewy\", \"d0\": -10.391636848449707, \"d1\": 0.11042270064353943, \"d2\": -0.14552389085292816, \"tag\": \"jj\"}, {\"index\": \"sinister\", \"d0\": -11.734787940979004, \"d1\": -0.026759859174489975, \"d2\": 0.27635765075683594, \"tag\": \"jj\"}, {\"index\": \"sink\", \"d0\": -11.358827590942383, \"d1\": -0.04908037930727005, \"d2\": -0.2968231737613678, \"tag\": \"vb\"}, {\"index\": \"sister\", \"d0\": -12.468414306640625, \"d1\": -0.1290828138589859, \"d2\": -0.03765615075826645, \"tag\": \"nn\"}, {\"index\": \"sit\", \"d0\": -9.944441795349121, \"d1\": -0.330138236284256, \"d2\": 0.2368997037410736, \"tag\": \"vb\"}, {\"index\": \"six\", \"d0\": -12.413721084594727, \"d1\": 0.10514814406633377, \"d2\": -0.17026978731155396, \"tag\": \"cd\"}, {\"index\": \"skilled\", \"d0\": -11.493612289428711, \"d1\": -0.014645644463598728, \"d2\": -0.023091748356819153, \"tag\": \"jj\"}, {\"index\": \"skin\", \"d0\": -11.528902053833008, \"d1\": 0.06561695039272308, \"d2\": -0.3183300197124481, \"tag\": \"nn\"}, {\"index\": \"slant\", \"d0\": -11.553936004638672, \"d1\": 0.2837136685848236, \"d2\": -0.09085444360971451, \"tag\": \"nn\"}, {\"index\": \"slapped\", \"d0\": -9.434737205505371, \"d1\": 0.03604185953736305, \"d2\": -0.1312427520751953, \"tag\": \"vb\"}, {\"index\": \"slashed\", \"d0\": -9.869051933288574, \"d1\": 0.3040347993373871, \"d2\": -0.5300940275192261, \"tag\": \"vb\"}, {\"index\": \"sleep\", \"d0\": -10.552818298339844, \"d1\": 0.3062022924423218, \"d2\": 0.10059890896081924, \"tag\": \"nn\"}, {\"index\": \"slid\", \"d0\": -9.798178672790527, \"d1\": 0.3408077657222748, \"d2\": -0.31342971324920654, \"tag\": \"vb\"}, {\"index\": \"sloping\", \"d0\": -10.217458724975586, \"d1\": -0.1601424664258957, \"d2\": 0.08348935097455978, \"tag\": \"vb\"}, {\"index\": \"small\", \"d0\": -10.80459976196289, \"d1\": 0.032433588057756424, \"d2\": -0.3743237555027008, \"tag\": \"jj\"}, {\"index\": \"smell\", \"d0\": -12.266884803771973, \"d1\": 0.10797575116157532, \"d2\": -0.1751221865415573, \"tag\": \"nn\"}, {\"index\": \"smelled\", \"d0\": -10.673622131347656, \"d1\": -0.009430933743715286, \"d2\": -0.03833696246147156, \"tag\": \"vb\"}, {\"index\": \"smiled\", \"d0\": -11.1123628616333, \"d1\": 0.03395302593708038, \"d2\": 0.20917387306690216, \"tag\": \"vb\"}, {\"index\": \"smoke\", \"d0\": -12.25121021270752, \"d1\": -0.036236412823200226, \"d2\": -0.08383578807115555, \"tag\": \"vb\"}, {\"index\": \"smoked\", \"d0\": -10.813507080078125, \"d1\": 0.006678431760519743, \"d2\": -0.05358223617076874, \"tag\": \"vb\"}, {\"index\": \"smooth\", \"d0\": -11.392807960510254, \"d1\": -0.04091104120016098, \"d2\": 0.186070054769516, \"tag\": \"vb\"}, {\"index\": \"smoothness\", \"d0\": -12.52947998046875, \"d1\": 0.02143023908138275, \"d2\": -0.18431356549263, \"tag\": \"nn\"}, {\"index\": \"so\", \"d0\": -9.393463134765625, \"d1\": -0.02187781035900116, \"d2\": -0.1931631863117218, \"tag\": \"ql\"}, {\"index\": \"softness\", \"d0\": -11.829143524169922, \"d1\": 0.22067980468273163, \"d2\": -0.2535918056964874, \"tag\": \"nn\"}, {\"index\": \"something\", \"d0\": -11.076366424560547, \"d1\": 0.055506546050310135, \"d2\": -0.1854669749736786, \"tag\": \"pn\"}, {\"index\": \"somewhat\", \"d0\": -11.180105209350586, \"d1\": -0.16579455137252808, \"d2\": -0.09368129819631577, \"tag\": \"ql\"}, {\"index\": \"son\", \"d0\": -9.739309310913086, \"d1\": 0.5109301805496216, \"d2\": -0.04197903722524643, \"tag\": \"nn\"}, {\"index\": \"soothing\", \"d0\": -9.829171180725098, \"d1\": -0.2892489433288574, \"d2\": -0.4935306906700134, \"tag\": \"vb\"}, {\"index\": \"soul\", \"d0\": -11.921738624572754, \"d1\": -0.22693516314029694, \"d2\": -0.12593141198158264, \"tag\": \"nn\"}, {\"index\": \"sound\", \"d0\": -11.554347038269043, \"d1\": 0.2740097939968109, \"d2\": 0.003070856910198927, \"tag\": \"vb\"}, {\"index\": \"sounds\", \"d0\": -12.52997875213623, \"d1\": -0.018453378230333328, \"d2\": -0.16217367351055145, \"tag\": \"nn\"}, {\"index\": \"sour\", \"d0\": -11.385299682617188, \"d1\": 0.407501220703125, \"d2\": -0.1623052954673767, \"tag\": \"jj\"}, {\"index\": \"soutane\", \"d0\": -10.719740867614746, \"d1\": 0.010081145912408829, \"d2\": -0.13284046947956085, \"tag\": \"nn\"}, {\"index\": \"space\", \"d0\": -11.498612403869629, \"d1\": 0.29079315066337585, \"d2\": -0.45264002680778503, \"tag\": \"nn\"}, {\"index\": \"speeches\", \"d0\": -11.165107727050781, \"d1\": 0.04196029528975487, \"d2\": -0.21644091606140137, \"tag\": \"nn\"}, {\"index\": \"spent\", \"d0\": -11.559423446655273, \"d1\": -0.15314523875713348, \"d2\": -0.044275227934122086, \"tag\": \"vb\"}, {\"index\": \"sphere\", \"d0\": -11.401848793029785, \"d1\": 0.1675083041191101, \"d2\": -0.43633776903152466, \"tag\": \"nn\"}, {\"index\": \"sprouted\", \"d0\": -11.547211647033691, \"d1\": 0.2783661186695099, \"d2\": 0.051834020763635635, \"tag\": \"vb\"}, {\"index\": \"spun\", \"d0\": -11.158876419067383, \"d1\": 0.09133873134851456, \"d2\": -0.21751739084720612, \"tag\": \"vb\"}, {\"index\": \"square\", \"d0\": -12.632706642150879, \"d1\": 0.13654491305351257, \"d2\": -0.17548784613609314, \"tag\": \"jj\"}, {\"index\": \"squatted\", \"d0\": -9.736522674560547, \"d1\": 0.5866811275482178, \"d2\": -0.44534140825271606, \"tag\": \"vb\"}, {\"index\": \"squirted\", \"d0\": -10.920819282531738, \"d1\": -0.25158336758613586, \"d2\": 0.1608506143093109, \"tag\": \"vb\"}, {\"index\": \"stable-garage\", \"d0\": -9.240534782409668, \"d1\": -0.048974428325891495, \"d2\": -0.3254949152469635, \"tag\": \"nn\"}, {\"index\": \"stage\", \"d0\": -10.873173713684082, \"d1\": 0.0894891694188118, \"d2\": -0.2329404503107071, \"tag\": \"nn\"}, {\"index\": \"stained\", \"d0\": -11.007669448852539, \"d1\": 0.18983177840709686, \"d2\": -0.2290550172328949, \"tag\": \"vb\"}, {\"index\": \"stared\", \"d0\": -11.083520889282227, \"d1\": 0.15486624836921692, \"d2\": -0.35654741525650024, \"tag\": \"vb\"}, {\"index\": \"station\", \"d0\": -11.576061248779297, \"d1\": 0.02349795587360859, \"d2\": -0.3137710988521576, \"tag\": \"nn\"}, {\"index\": \"step\", \"d0\": -12.258195877075195, \"d1\": 0.17918141186237335, \"d2\": -0.40017879009246826, \"tag\": \"nn\"}, {\"index\": \"steps\", \"d0\": -12.492444038391113, \"d1\": -0.13884568214416504, \"d2\": 0.06839793920516968, \"tag\": \"nn\"}, {\"index\": \"still\", \"d0\": -11.180788040161133, \"d1\": -0.3506407141685486, \"d2\": -0.4421617090702057, \"tag\": \"rb\"}, {\"index\": \"stockings\", \"d0\": -11.50953483581543, \"d1\": -0.2237260788679123, \"d2\": -0.4388389587402344, \"tag\": \"nn\"}, {\"index\": \"stop\", \"d0\": -11.782712936401367, \"d1\": -0.23333954811096191, \"d2\": 0.04673756659030914, \"tag\": \"vb\"}, {\"index\": \"storm\", \"d0\": -10.996993064880371, \"d1\": 0.11471925675868988, \"d2\": -0.15926750004291534, \"tag\": \"nn\"}, {\"index\": \"straddled\", \"d0\": -10.637153625488281, \"d1\": 0.02205018326640129, \"d2\": -0.24980126321315765, \"tag\": \"vb\"}, {\"index\": \"straining\", \"d0\": -11.573432922363281, \"d1\": 0.2613571584224701, \"d2\": -0.549466609954834, \"tag\": \"vb\"}, {\"index\": \"straw\", \"d0\": -10.797085762023926, \"d1\": 0.4738714396953583, \"d2\": -0.5145294666290283, \"tag\": \"nn\"}, {\"index\": \"street\", \"d0\": -12.544187545776367, \"d1\": -0.1133989691734314, \"d2\": -0.04501791298389435, \"tag\": \"nn\"}, {\"index\": \"streetcar\", \"d0\": -10.663812637329102, \"d1\": -0.3459727466106415, \"d2\": -0.26719576120376587, \"tag\": \"nn\"}, {\"index\": \"streetcars\", \"d0\": -11.65770435333252, \"d1\": 0.005203003063797951, \"d2\": 0.003788809524849057, \"tag\": \"nn\"}, {\"index\": \"streets\", \"d0\": -12.551586151123047, \"d1\": 0.2284913808107376, \"d2\": -0.12033244222402573, \"tag\": \"nn\"}, {\"index\": \"stretched\", \"d0\": -11.616239547729492, \"d1\": 0.3042515814304352, \"d2\": -0.2440538853406906, \"tag\": \"vb\"}, {\"index\": \"strutted\", \"d0\": -10.206953048706055, \"d1\": -0.4135468304157257, \"d2\": -0.004514296539127827, \"tag\": \"vb\"}, {\"index\": \"stucco\", \"d0\": -12.469143867492676, \"d1\": 0.09631501883268356, \"d2\": -0.2675839066505432, \"tag\": \"nn\"}, {\"index\": \"stuff\", \"d0\": -11.134346961975098, \"d1\": 0.22701166570186615, \"d2\": 0.07051830738782883, \"tag\": \"vb\"}, {\"index\": \"suddenly\", \"d0\": -9.815298080444336, \"d1\": -0.4680796265602112, \"d2\": 0.03752612695097923, \"tag\": \"rb\"}, {\"index\": \"suitcase\", \"d0\": -10.501386642456055, \"d1\": 0.35359519720077515, \"d2\": -0.16638639569282532, \"tag\": \"nn\"}, {\"index\": \"sullen\", \"d0\": -11.145307540893555, \"d1\": 0.03096335008740425, \"d2\": -0.14391347765922546, \"tag\": \"jj\"}, {\"index\": \"sun\", \"d0\": -12.509056091308594, \"d1\": 0.1530599743127823, \"d2\": -0.11612061411142349, \"tag\": \"nn\"}, {\"index\": \"sunday\", \"d0\": -10.613227844238281, \"d1\": 0.1915714591741562, \"d2\": -0.2740834951400757, \"tag\": \"nr\"}, {\"index\": \"sundays\", \"d0\": -11.614635467529297, \"d1\": -0.023850807920098305, \"d2\": -0.2708231210708618, \"tag\": \"nr\"}, {\"index\": \"sundials\", \"d0\": -11.12044906616211, \"d1\": -0.03732169046998024, \"d2\": 0.03998392075300217, \"tag\": \"nn\"}, {\"index\": \"suppleness\", \"d0\": -11.339167594909668, \"d1\": -0.2838711142539978, \"d2\": -0.09216220676898956, \"tag\": \"nn\"}, {\"index\": \"supporting\", \"d0\": -11.628043174743652, \"d1\": 0.01948346197605133, \"d2\": -0.1775154173374176, \"tag\": \"vb\"}, {\"index\": \"sure\", \"d0\": -12.4188871383667, \"d1\": 0.22399240732192993, \"d2\": 0.03445126861333847, \"tag\": \"jj\"}, {\"index\": \"surging\", \"d0\": -10.191667556762695, \"d1\": 0.11575518548488617, \"d2\": 0.2021264284849167, \"tag\": \"vb\"}, {\"index\": \"surveyed\", \"d0\": -11.215096473693848, \"d1\": -0.05435959994792938, \"d2\": -0.15839436650276184, \"tag\": \"vb\"}, {\"index\": \"swayed\", \"d0\": -12.209845542907715, \"d1\": 0.08758324384689331, \"d2\": -0.3396947979927063, \"tag\": \"vb\"}, {\"index\": \"sweet\", \"d0\": -11.320314407348633, \"d1\": 0.30295827984809875, \"d2\": -0.11912074685096741, \"tag\": \"jj\"}, {\"index\": \"sweeter\", \"d0\": -11.181660652160645, \"d1\": 0.19512172043323517, \"d2\": -0.017747173085808754, \"tag\": \"jj\"}, {\"index\": \"swept\", \"d0\": -11.35347843170166, \"d1\": 0.049437765032052994, \"d2\": 0.04122050851583481, \"tag\": \"vb\"}, {\"index\": \"swings\", \"d0\": -11.157051086425781, \"d1\": 0.10646535456180573, \"d2\": -0.46040958166122437, \"tag\": \"nn\"}, {\"index\": \"swirled\", \"d0\": -11.387595176696777, \"d1\": 0.06547164171934128, \"d2\": -0.2449256330728531, \"tag\": \"vb\"}, {\"index\": \"swollen\", \"d0\": -11.591930389404297, \"d1\": 0.030172714963555336, \"d2\": -0.5395446419715881, \"tag\": \"vb\"}, {\"index\": \"swung\", \"d0\": -11.54333209991455, \"d1\": -0.1577899307012558, \"d2\": -0.37880682945251465, \"tag\": \"vb\"}, {\"index\": \"table\", \"d0\": -11.556722640991211, \"d1\": 0.11056406795978546, \"d2\": -0.4371910095214844, \"tag\": \"nn\"}, {\"index\": \"take\", \"d0\": -11.477456092834473, \"d1\": -0.14712414145469666, \"d2\": -0.1809954196214676, \"tag\": \"vb\"}, {\"index\": \"taking\", \"d0\": -12.102548599243164, \"d1\": 0.2955265939235687, \"d2\": -0.3772221505641937, \"tag\": \"vb\"}, {\"index\": \"tanned\", \"d0\": -9.903364181518555, \"d1\": -0.5231849551200867, \"d2\": -0.3824003040790558, \"tag\": \"vb\"}, {\"index\": \"tapering\", \"d0\": -11.228482246398926, \"d1\": 0.0719938725233078, \"d2\": -0.06542447954416275, \"tag\": \"vb\"}, {\"index\": \"taste\", \"d0\": -12.51263427734375, \"d1\": 0.04902253299951553, \"d2\": 0.012742933817207813, \"tag\": \"nn\"}, {\"index\": \"taut\", \"d0\": -11.165531158447266, \"d1\": 0.28786131739616394, \"d2\": -0.5848727226257324, \"tag\": \"jj\"}, {\"index\": \"teats\", \"d0\": -12.400494575500488, \"d1\": 0.08929696679115295, \"d2\": -0.42361485958099365, \"tag\": \"nn\"}, {\"index\": \"tell\", \"d0\": -9.487066268920898, \"d1\": 0.0427398756146431, \"d2\": -0.1781981885433197, \"tag\": \"vb\"}, {\"index\": \"ten\", \"d0\": -9.372397422790527, \"d1\": 0.036238644272089005, \"d2\": -0.14348134398460388, \"tag\": \"cd\"}, {\"index\": \"than\", \"d0\": -9.453896522521973, \"d1\": 0.059163037687540054, \"d2\": -0.018736930564045906, \"tag\": \"cs\"}, {\"index\": \"that\", \"d0\": -9.436538696289062, \"d1\": 0.051494110375642776, \"d2\": -0.15093021094799042, \"tag\": \"wp\"}, {\"index\": \"that's\", \"d0\": -9.38078498840332, \"d1\": -0.053074099123477936, \"d2\": -0.1930374652147293, \"tag\": \"dt\"}, {\"index\": \"the\", \"d0\": -9.417405128479004, \"d1\": -0.0651082843542099, \"d2\": -0.12538479268550873, \"tag\": \"at\"}, {\"index\": \"their\", \"d0\": -9.535371780395508, \"d1\": 0.03551419451832771, \"d2\": -0.24354757368564606, \"tag\": \"pp\"}, {\"index\": \"them\", \"d0\": -9.515064239501953, \"d1\": 0.12156853824853897, \"d2\": -0.1764683872461319, \"tag\": \"pp\"}, {\"index\": \"then\", \"d0\": -9.331748008728027, \"d1\": 0.06345146894454956, \"d2\": -0.4593142569065094, \"tag\": \"rb\"}, {\"index\": \"there\", \"d0\": -9.569475173950195, \"d1\": 0.08989910036325455, \"d2\": -0.17627958953380585, \"tag\": \"rb\"}, {\"index\": \"there's\", \"d0\": -9.425210952758789, \"d1\": -0.13271161913871765, \"d2\": -0.5684231519699097, \"tag\": \"ex\"}, {\"index\": \"these\", \"d0\": -9.531888008117676, \"d1\": 0.08491546660661697, \"d2\": -0.13848929107189178, \"tag\": \"dt\"}, {\"index\": \"they\", \"d0\": -9.492146492004395, \"d1\": 0.0028167145792394876, \"d2\": -0.09941578656435013, \"tag\": \"pp\"}, {\"index\": \"thick\", \"d0\": -9.931987762451172, \"d1\": 0.3013865351676941, \"d2\": -0.14265014231204987, \"tag\": \"jj\"}, {\"index\": \"thighs\", \"d0\": -9.501279830932617, \"d1\": 0.00977485254406929, \"d2\": -0.24216662347316742, \"tag\": \"nn\"}, {\"index\": \"thin\", \"d0\": -12.56375789642334, \"d1\": -0.0030424268916249275, \"d2\": -0.24118424952030182, \"tag\": \"jj\"}, {\"index\": \"thing\", \"d0\": -9.97301197052002, \"d1\": -0.37733104825019836, \"d2\": 0.24052467942237854, \"tag\": \"nn\"}, {\"index\": \"thinner\", \"d0\": -12.625163078308105, \"d1\": -0.0506351962685585, \"d2\": -0.24280159175395966, \"tag\": \"jj\"}, {\"index\": \"this\", \"d0\": -9.367316246032715, \"d1\": 0.14019733667373657, \"d2\": -0.012413281947374344, \"tag\": \"dt\"}, {\"index\": \"those\", \"d0\": -9.409509658813477, \"d1\": -0.03710993379354477, \"d2\": -0.09457430988550186, \"tag\": \"dt\"}, {\"index\": \"though\", \"d0\": -12.202388763427734, \"d1\": -0.10075359791517258, \"d2\": -0.2999330163002014, \"tag\": \"cs\"}, {\"index\": \"thought\", \"d0\": -12.653542518615723, \"d1\": 0.00135318236425519, \"d2\": -0.21629919111728668, \"tag\": \"vb\"}, {\"index\": \"threw\", \"d0\": -10.5370454788208, \"d1\": 0.1483519822359085, \"d2\": -0.3534228801727295, \"tag\": \"vb\"}, {\"index\": \"through\", \"d0\": -9.402148246765137, \"d1\": 0.28371191024780273, \"d2\": -0.21345104277133942, \"tag\": \"in\"}, {\"index\": \"thrown\", \"d0\": -10.728607177734375, \"d1\": -0.10797948390245438, \"d2\": -0.1870288997888565, \"tag\": \"vb\"}, {\"index\": \"ticks\", \"d0\": -10.70328140258789, \"d1\": -0.20196953415870667, \"d2\": -0.43113237619400024, \"tag\": \"nn\"}, {\"index\": \"time\", \"d0\": -12.551039695739746, \"d1\": -0.10287647694349289, \"d2\": -0.11493144929409027, \"tag\": \"nn\"}, {\"index\": \"time-cast\", \"d0\": -9.463240623474121, \"d1\": 0.2128763049840927, \"d2\": -0.2991393804550171, \"tag\": \"jj\"}, {\"index\": \"tiny\", \"d0\": -12.547643661499023, \"d1\": 0.12363962084054947, \"d2\": -0.26112672686576843, \"tag\": \"jj\"}, {\"index\": \"tips\", \"d0\": -11.112051963806152, \"d1\": 8.645409252494574e-06, \"d2\": 0.11460207402706146, \"tag\": \"nn\"}, {\"index\": \"to\", \"d0\": -9.44130802154541, \"d1\": -0.05176587030291557, \"d2\": -0.21757608652114868, \"tag\": \"in\"}, {\"index\": \"toes\", \"d0\": -12.516505241394043, \"d1\": 0.1957823634147644, \"d2\": -0.017765432596206665, \"tag\": \"nn\"}, {\"index\": \"tomato\", \"d0\": -11.050985336303711, \"d1\": 0.19715939462184906, \"d2\": -0.16447916626930237, \"tag\": \"nn\"}, {\"index\": \"tone\", \"d0\": -11.482650756835938, \"d1\": 0.23234257102012634, \"d2\": -0.0750412568449974, \"tag\": \"nn\"}, {\"index\": \"tongue\", \"d0\": -12.534395217895508, \"d1\": -0.025994230061769485, \"d2\": -0.040873944759368896, \"tag\": \"nn\"}, {\"index\": \"too\", \"d0\": -9.49509048461914, \"d1\": -0.06634891033172607, \"d2\": -0.19445480406284332, \"tag\": \"rb\"}, {\"index\": \"took\", \"d0\": -10.73111343383789, \"d1\": 0.3154766261577606, \"d2\": 0.09057874232530594, \"tag\": \"vb\"}, {\"index\": \"top\", \"d0\": -11.103938102722168, \"d1\": 0.372405469417572, \"d2\": -0.1431168168783188, \"tag\": \"nn\"}, {\"index\": \"torino\", \"d0\": -10.854948997497559, \"d1\": 0.05698884651064873, \"d2\": -0.16462792456150055, \"tag\": \"np\"}, {\"index\": \"torn\", \"d0\": -11.259466171264648, \"d1\": 0.12846387922763824, \"d2\": -0.2550067603588104, \"tag\": \"vb\"}, {\"index\": \"touch\", \"d0\": -12.356926918029785, \"d1\": -0.036963678896427155, \"d2\": -0.35208380222320557, \"tag\": \"nn\"}, {\"index\": \"toward\", \"d0\": -12.450316429138184, \"d1\": -0.01801370270550251, \"d2\": -0.08906427025794983, \"tag\": \"in\"}, {\"index\": \"tower\", \"d0\": -11.243905067443848, \"d1\": 0.281630277633667, \"d2\": -0.3283882439136505, \"tag\": \"nn\"}, {\"index\": \"town\", \"d0\": -11.344101905822754, \"d1\": -0.09266975522041321, \"d2\": -0.43438422679901123, \"tag\": \"nn\"}, {\"index\": \"trains\", \"d0\": -11.54670524597168, \"d1\": 0.17608210444450378, \"d2\": -0.37101277709007263, \"tag\": \"nn\"}, {\"index\": \"trays\", \"d0\": -11.557432174682617, \"d1\": 0.26966428756713867, \"d2\": -0.06638984382152557, \"tag\": \"nn\"}, {\"index\": \"trees\", \"d0\": -12.45531177520752, \"d1\": -0.019339222460985184, \"d2\": -0.25730791687965393, \"tag\": \"nn\"}, {\"index\": \"tribute\", \"d0\": -10.830774307250977, \"d1\": 0.0793294906616211, \"d2\": -0.36115163564682007, \"tag\": \"nn\"}, {\"index\": \"tunneled\", \"d0\": -11.473483085632324, \"d1\": 0.014294184744358063, \"d2\": -0.2051163911819458, \"tag\": \"vb\"}, {\"index\": \"tweezed\", \"d0\": -10.940718650817871, \"d1\": 0.23979268968105316, \"d2\": -0.056541647762060165, \"tag\": \"vb\"}, {\"index\": \"two-story\", \"d0\": -9.489198684692383, \"d1\": -0.19283120334148407, \"d2\": -0.05198855698108673, \"tag\": \"jj\"}, {\"index\": \"unconcerned\", \"d0\": -10.321144104003906, \"d1\": -0.05085894092917442, \"d2\": -0.03715428337454796, \"tag\": \"jj\"}, {\"index\": \"undulated\", \"d0\": -10.565634727478027, \"d1\": 0.20706816017627716, \"d2\": 0.05138372629880905, \"tag\": \"vb\"}, {\"index\": \"unfalteringly\", \"d0\": -10.560791015625, \"d1\": 0.12790870666503906, \"d2\": -0.6322343945503235, \"tag\": \"rb\"}, {\"index\": \"unimportant\", \"d0\": -9.580953598022461, \"d1\": -0.03599505126476288, \"d2\": -0.18557384610176086, \"tag\": \"jj\"}, {\"index\": \"unity\", \"d0\": -11.541491508483887, \"d1\": 0.0120883509516716, \"d2\": -0.0018645812524482608, \"tag\": \"nn\"}, {\"index\": \"unusual\", \"d0\": -12.319985389709473, \"d1\": -0.016736915335059166, \"d2\": -0.13763821125030518, \"tag\": \"jj\"}, {\"index\": \"up\", \"d0\": -9.415865898132324, \"d1\": 0.2045997679233551, \"d2\": -0.2167176455259323, \"tag\": \"rp\"}, {\"index\": \"upon\", \"d0\": -12.593201637268066, \"d1\": 0.0748724490404129, \"d2\": -0.2870289385318756, \"tag\": \"in\"}, {\"index\": \"upward\", \"d0\": -11.09262466430664, \"d1\": -0.17872276902198792, \"d2\": 0.004083338193595409, \"tag\": \"rb\"}, {\"index\": \"variegated\", \"d0\": -11.738974571228027, \"d1\": -0.11666014045476913, \"d2\": 0.14200608432292938, \"tag\": \"vb\"}, {\"index\": \"very\", \"d0\": -9.54564380645752, \"d1\": -0.00040733706555329263, \"d2\": -0.4347429573535919, \"tag\": \"ap\"}, {\"index\": \"vest\", \"d0\": -11.364858627319336, \"d1\": -0.2534419894218445, \"d2\": -0.32691794633865356, \"tag\": \"nn\"}, {\"index\": \"vines\", \"d0\": -10.320218086242676, \"d1\": 0.03135428577661514, \"d2\": -0.22677171230316162, \"tag\": \"nn\"}, {\"index\": \"voice\", \"d0\": -11.820070266723633, \"d1\": -0.0213327556848526, \"d2\": -0.2330864816904068, \"tag\": \"nn\"}, {\"index\": \"waiting\", \"d0\": -9.481389045715332, \"d1\": -0.03450192138552666, \"d2\": 0.017120474949479103, \"tag\": \"vb\"}, {\"index\": \"wall\", \"d0\": -11.0520601272583, \"d1\": 0.04985996335744858, \"d2\": -0.2533475458621979, \"tag\": \"nn\"}, {\"index\": \"walls\", \"d0\": -11.609015464782715, \"d1\": 0.182826429605484, \"d2\": -0.16309480369091034, \"tag\": \"nn\"}, {\"index\": \"wanted\", \"d0\": -10.117134094238281, \"d1\": -0.05237988010048866, \"d2\": -0.09405635297298431, \"tag\": \"vb\"}, {\"index\": \"warm\", \"d0\": -12.500250816345215, \"d1\": -0.1697196364402771, \"d2\": -0.06250094622373581, \"tag\": \"jj\"}, {\"index\": \"warmth\", \"d0\": -10.863508224487305, \"d1\": 0.15177524089813232, \"d2\": -0.49010416865348816, \"tag\": \"nn\"}, {\"index\": \"was\", \"d0\": -9.411434173583984, \"d1\": 0.10370463132858276, \"d2\": -0.1457301676273346, \"tag\": \"be\"}, {\"index\": \"watching\", \"d0\": -11.4922456741333, \"d1\": -0.352995365858078, \"d2\": -0.4385356903076172, \"tag\": \"vb\"}, {\"index\": \"wave\", \"d0\": -11.324690818786621, \"d1\": 0.04736814647912979, \"d2\": -0.21024084091186523, \"tag\": \"vb\"}, {\"index\": \"way\", \"d0\": -12.592942237854004, \"d1\": -0.0766972154378891, \"d2\": -0.02554507367312908, \"tag\": \"nn\"}, {\"index\": \"we\", \"d0\": -9.394600868225098, \"d1\": -0.09178592264652252, \"d2\": -0.4080992639064789, \"tag\": \"pp\"}, {\"index\": \"well\", \"d0\": -9.778081893920898, \"d1\": 0.28258952498435974, \"d2\": 0.19694176316261292, \"tag\": \"uh\"}, {\"index\": \"went\", \"d0\": -12.104095458984375, \"d1\": 0.21799468994140625, \"d2\": -0.1412556916475296, \"tag\": \"vb\"}, {\"index\": \"were\", \"d0\": -9.357379913330078, \"d1\": -0.030825097113847733, \"d2\": -0.2499331682920456, \"tag\": \"be\"}, {\"index\": \"wet\", \"d0\": -11.49075984954834, \"d1\": 0.035070281475782394, \"d2\": -0.12955699861049652, \"tag\": \"jj\"}, {\"index\": \"wetness\", \"d0\": -11.378342628479004, \"d1\": -0.21178379654884338, \"d2\": -0.13484080135822296, \"tag\": \"nn\"}, {\"index\": \"what\", \"d0\": -9.393519401550293, \"d1\": 0.35906392335891724, \"d2\": -0.032724615186452866, \"tag\": \"wd\"}, {\"index\": \"when\", \"d0\": -9.414737701416016, \"d1\": 0.023462871089577675, \"d2\": -0.08016414940357208, \"tag\": \"wr\"}, {\"index\": \"where\", \"d0\": -9.34783935546875, \"d1\": 0.04583345726132393, \"d2\": -0.1874849498271942, \"tag\": \"wr\"}, {\"index\": \"which\", \"d0\": -9.605134010314941, \"d1\": 0.024985577911138535, \"d2\": -0.1921519637107849, \"tag\": \"wd\"}, {\"index\": \"while\", \"d0\": -9.275718688964844, \"d1\": -0.0056874980218708515, \"d2\": -0.021376753225922585, \"tag\": \"nn\"}, {\"index\": \"whirling\", \"d0\": -10.655713081359863, \"d1\": 0.04764367267489433, \"d2\": -0.21302074193954468, \"tag\": \"vb\"}, {\"index\": \"whiskered\", \"d0\": -11.319697380065918, \"d1\": -0.02774251624941826, \"d2\": -0.43391740322113037, \"tag\": \"jj\"}, {\"index\": \"white\", \"d0\": -12.511787414550781, \"d1\": -0.07106393575668335, \"d2\": -0.07665842026472092, \"tag\": \"jj\"}, {\"index\": \"white-columned\", \"d0\": -9.489213943481445, \"d1\": 0.09443878382444382, \"d2\": -0.2567801773548126, \"tag\": \"jj\"}, {\"index\": \"who\", \"d0\": -9.41002082824707, \"d1\": -0.01875731535255909, \"d2\": -0.10900086164474487, \"tag\": \"wp\"}, {\"index\": \"whom\", \"d0\": -9.480120658874512, \"d1\": -0.11060643941164017, \"d2\": -0.18130090832710266, \"tag\": \"wp\"}, {\"index\": \"whose\", \"d0\": -12.532576560974121, \"d1\": 0.1977461278438568, \"d2\": -0.0393819697201252, \"tag\": \"wp\"}, {\"index\": \"why\", \"d0\": -9.465568542480469, \"d1\": -0.029092198237776756, \"d2\": -0.19197425246238708, \"tag\": \"wr\"}, {\"index\": \"wicker\", \"d0\": -10.193720817565918, \"d1\": -0.0924818217754364, \"d2\": -0.5872442722320557, \"tag\": \"nn\"}, {\"index\": \"wide\", \"d0\": -12.424459457397461, \"d1\": -0.1538526713848114, \"d2\": 0.006715160794556141, \"tag\": \"rb\"}, {\"index\": \"wife\", \"d0\": -12.012293815612793, \"d1\": 0.13009586930274963, \"d2\": -0.47420641779899597, \"tag\": \"nn\"}, {\"index\": \"wiggled\", \"d0\": -11.215846061706543, \"d1\": -0.2550799250602722, \"d2\": 0.12223445624113083, \"tag\": \"vb\"}, {\"index\": \"window\", \"d0\": -9.86438274383545, \"d1\": 0.26314058899879456, \"d2\": 0.27858486771583557, \"tag\": \"nn\"}, {\"index\": \"wine\", \"d0\": -11.56592845916748, \"d1\": 0.059656672179698944, \"d2\": 0.20924851298332214, \"tag\": \"nn\"}, {\"index\": \"with\", \"d0\": -9.564720153808594, \"d1\": 0.10526327788829803, \"d2\": -0.19810812175273895, \"tag\": \"in\"}, {\"index\": \"withered\", \"d0\": -10.256421089172363, \"d1\": 0.28479063510894775, \"d2\": -0.4174038767814636, \"tag\": \"vb\"}, {\"index\": \"within\", \"d0\": -12.538163185119629, \"d1\": 0.10291997343301773, \"d2\": -0.39897799491882324, \"tag\": \"in\"}, {\"index\": \"without\", \"d0\": -11.64438533782959, \"d1\": 0.15990665555000305, \"d2\": -0.042784590274095535, \"tag\": \"in\"}, {\"index\": \"woman\", \"d0\": -12.467448234558105, \"d1\": -0.14782844483852386, \"d2\": -0.09049272537231445, \"tag\": \"nn\"}, {\"index\": \"women\", \"d0\": -12.036601066589355, \"d1\": 0.0811726376414299, \"d2\": -0.4384792745113373, \"tag\": \"nn\"}, {\"index\": \"wood\", \"d0\": -11.696066856384277, \"d1\": 0.29145312309265137, \"d2\": -0.29412421584129333, \"tag\": \"nn\"}, {\"index\": \"wooden\", \"d0\": -12.358166694641113, \"d1\": -0.04770349711179733, \"d2\": -0.07857879251241684, \"tag\": \"jj\"}, {\"index\": \"work\", \"d0\": -9.343703269958496, \"d1\": 0.23532751202583313, \"d2\": -0.43266063928604126, \"tag\": \"vb\"}, {\"index\": \"would\", \"d0\": -9.668173789978027, \"d1\": 0.23233667016029358, \"d2\": -0.17379231750965118, \"tag\": \"md\"}, {\"index\": \"wouldn't\", \"d0\": -9.402698516845703, \"d1\": -0.18135949969291687, \"d2\": -0.13661019504070282, \"tag\": \"md\"}, {\"index\": \"wrapped\", \"d0\": -12.257326126098633, \"d1\": 0.21550966799259186, \"d2\": -0.17059855163097382, \"tag\": \"vb\"}, {\"index\": \"wrinkled\", \"d0\": -12.354573249816895, \"d1\": -0.006383168511092663, \"d2\": -0.3338373899459839, \"tag\": \"vb\"}, {\"index\": \"yellow\", \"d0\": -12.526786804199219, \"d1\": 0.0034464369527995586, \"d2\": -0.008506919257342815, \"tag\": \"jj\"}, {\"index\": \"yet\", \"d0\": -12.491667747497559, \"d1\": -0.1459609866142273, \"d2\": -0.19664424657821655, \"tag\": \"rb\"}, {\"index\": \"you\", \"d0\": -9.3533353805542, \"d1\": -0.03163498267531395, \"d2\": -0.289579838514328, \"tag\": \"pp\"}, {\"index\": \"you're\", \"d0\": -9.312010765075684, \"d1\": 0.004588914569467306, \"d2\": -0.2682207226753235, \"tag\": \"pp\"}, {\"index\": \"your\", \"d0\": -9.431525230407715, \"d1\": 0.031575821340084076, \"d2\": -0.16110394895076752, \"tag\": \"pp\"}, {\"index\": \"youth\", \"d0\": -12.261589050292969, \"d1\": -0.05144170671701431, \"d2\": -0.24197416007518768, \"tag\": \"nn\"}]}};\n",
       "const opt = {};\n",
       "const type = \"vega-lite\";\n",
       "const id = \"2f34cbc9-d9e3-46bc-b6cc-e1ec6f649cd0\";\n",
       "\n",
       "const output_area = this;\n",
       "\n",
       "require([\"nbextensions/jupyter-vega/index\"], function(vega) {\n",
       "  const target = document.createElement(\"div\");\n",
       "  target.id = id;\n",
       "  target.className = \"vega-embed\";\n",
       "\n",
       "  const style = document.createElement(\"style\");\n",
       "  style.textContent = [\n",
       "    \".vega-embed .error p {\",\n",
       "    \"  color: firebrick;\",\n",
       "    \"  font-size: 14px;\",\n",
       "    \"}\",\n",
       "  ].join(\"\\\\n\");\n",
       "\n",
       "  // element is a jQuery wrapped DOM element inside the output area\n",
       "  // see http://ipython.readthedocs.io/en/stable/api/generated/\\\n",
       "  // IPython.display.html#IPython.display.Javascript.__init__\n",
       "  element[0].appendChild(target);\n",
       "  element[0].appendChild(style);\n",
       "\n",
       "  vega.render(\"#\" + id, spec, type, opt, output_area);\n",
       "}, function (err) {\n",
       "  if (err.requireType !== \"scripterror\") {\n",
       "    throw(err);\n",
       "  }\n",
       "});\n"
      ],
      "text/plain": [
       "<vega.vegalite.VegaLite at 0x113114f60>"
      ]
     },
     "metadata": {
      "jupyter-vega": "#2f34cbc9-d9e3-46bc-b6cc-e1ec6f649cd0"
     },
     "output_type": "display_data"
    },
    {
     "data": {
      "text/plain": []
     },
     "execution_count": 27,
     "metadata": {},
     "output_type": "execute_result"
    },
    {
     "data": {
      "image/png": "[encoded data removed]"
     },
     "metadata": {
      "jupyter-vega": "#2f34cbc9-d9e3-46bc-b6cc-e1ec6f649cd0"
     },
     "output_type": "display_data"
    }
   ],
   "source": [
    "chart = alt.Chart(tdata, height=400, width=400)\n",
    "\n",
    "brush = alt.selection_interval()\n",
    "color = alt.condition(brush, alt.Color('tag:N', legend=None), alt.value('gray'))\n",
    "\n",
    "chart = chart.mark_circle(size=50)\n",
    "chart = chart.encode(y=alt.Y('d0:Q', title='Dimension 1'), tooltip='index', color=color).add_selection(brush)\n",
    "\n",
    "chart.encode(x=alt.X('d1:Q', title='Dimension 2')) | chart.encode(x=alt.X('d2:Q', title='Dimension 3'))\n"
   ]
  },
  {
   "cell_type": "markdown",
   "metadata": {},
   "source": [
    "##### 4.2.2 PCA Plot"
   ]
  },
  {
   "cell_type": "code",
   "execution_count": 28,
   "metadata": {},
   "outputs": [
    {
     "data": {
      "application/javascript": [
       "const spec = {\"config\": {\"view\": {\"width\": 400, \"height\": 300}, \"mark\": {\"tooltip\": null}}, \"layer\": [{\"mark\": {\"type\": \"circle\", \"size\": 100}, \"encoding\": {\"color\": {\"type\": \"nominal\", \"field\": \"tag\", \"legend\": null}, \"x\": {\"type\": \"quantitative\", \"field\": \"d0\"}, \"y\": {\"type\": \"quantitative\", \"field\": \"d1\"}}, \"height\": 500, \"width\": 500}, {\"mark\": {\"type\": \"text\", \"align\": \"center\", \"baseline\": \"middle\", \"dy\": 20, \"fontSize\": 20}, \"encoding\": {\"color\": {\"type\": \"nominal\", \"field\": \"tag\", \"legend\": null}, \"text\": {\"type\": \"nominal\", \"field\": \"index\"}, \"x\": {\"type\": \"quantitative\", \"field\": \"d0\"}, \"y\": {\"type\": \"quantitative\", \"field\": \"d1\"}}, \"height\": 500, \"width\": 500}], \"data\": {\"name\": \"data-201fcd08cc44931f6242b2419a787321\"}, \"$schema\": \"https://vega.github.io/schema/vega-lite/v3.4.0.json\", \"datasets\": {\"data-201fcd08cc44931f6242b2419a787321\": [{\"index\": \"brother\", \"d0\": -1.828502978718889, \"d1\": 0.641092118055748, \"tag\": \"nn\"}, {\"index\": \"he\", \"d0\": -14.162273877045516, \"d1\": 1.685876598774602, \"tag\": \"pp\"}, {\"index\": \"her\", \"d0\": -13.675998657779619, \"d1\": -2.090995616772925, \"tag\": \"pp\"}, {\"index\": \"him\", \"d0\": -12.631718344987389, \"d1\": -1.5197313575873288, \"tag\": \"pp\"}, {\"index\": \"she\", \"d0\": -12.679210662150883, \"d1\": 2.35903536400998, \"tag\": \"pp\"}, {\"index\": \"sister\", \"d0\": 13.846167069273843, \"d1\": 3.6853815561376875, \"tag\": \"nn\"}]}};\n",
       "const opt = {};\n",
       "const type = \"vega-lite\";\n",
       "const id = \"c2f33d52-619d-441e-826b-f80a1a58fda3\";\n",
       "\n",
       "const output_area = this;\n",
       "\n",
       "require([\"nbextensions/jupyter-vega/index\"], function(vega) {\n",
       "  const target = document.createElement(\"div\");\n",
       "  target.id = id;\n",
       "  target.className = \"vega-embed\";\n",
       "\n",
       "  const style = document.createElement(\"style\");\n",
       "  style.textContent = [\n",
       "    \".vega-embed .error p {\",\n",
       "    \"  color: firebrick;\",\n",
       "    \"  font-size: 14px;\",\n",
       "    \"}\",\n",
       "  ].join(\"\\\\n\");\n",
       "\n",
       "  // element is a jQuery wrapped DOM element inside the output area\n",
       "  // see http://ipython.readthedocs.io/en/stable/api/generated/\\\n",
       "  // IPython.display.html#IPython.display.Javascript.__init__\n",
       "  element[0].appendChild(target);\n",
       "  element[0].appendChild(style);\n",
       "\n",
       "  vega.render(\"#\" + id, spec, type, opt, output_area);\n",
       "}, function (err) {\n",
       "  if (err.requireType !== \"scripterror\") {\n",
       "    throw(err);\n",
       "  }\n",
       "});\n"
      ],
      "text/plain": [
       "<vega.vegalite.VegaLite at 0x1125df1d0>"
      ]
     },
     "metadata": {
      "jupyter-vega": "#c2f33d52-619d-441e-826b-f80a1a58fda3"
     },
     "output_type": "display_data"
    },
    {
     "data": {
      "text/plain": []
     },
     "execution_count": 28,
     "metadata": {},
     "output_type": "execute_result"
    },
    {
     "data": {
      "image/png": "[encoded data removed]"
     },
     "metadata": {
      "jupyter-vega": "#c2f33d52-619d-441e-826b-f80a1a58fda3"
     },
     "output_type": "display_data"
    }
   ],
   "source": [
    "# Prepare data for visualization\n",
    "plot_vocab = ['sister', 'brother', 'she', 'he', 'her', 'him']\n",
    "plot_pca = pdata2[pdata2['index'].isin(plot_vocab)]\n",
    "\n",
    "# Visualize gender relationships in vector space\n",
    "marked1 = alt.Chart(plot_pca, height=500, width=500).mark_circle(size=100)\n",
    "marked1 = marked1.encode(x='d0:Q', y='d1:Q', color=alt.Color('tag', legend=None))\n",
    "marked1 + marked1.mark_text(align='center', baseline='middle', dy=20, fontSize=20).encode(text='index')\n"
   ]
  },
  {
   "cell_type": "markdown",
   "metadata": {},
   "source": [
    "\n",
    "<a id='phase-5'></a><a id='section-5'></a>\n",
    "\n",
    "---\n",
    "<span class='bold'>Section</span> [Previous](#phase-4) &bull; [Next](#phase-5) &bull; [5.0 Key Takeaways](#section-5) &bull; [Back to Top](#phase-1)\n",
    "\n",
    "# Closing <a id='phase-5'></a>\n",
    "\n",
    "<img src='./images/takeaway.jpg' style='float: right; height: 15em; margin-left: 2em; border-radius: 1em; border: solid 2px #ddd;'/>\n",
    "\n",
    "### <span class='phase-5'>5.0 Key Takeaways</span>\n",
    "\n",
    "Here are some main points to remember after this presentation:\n",
    "\n",
    "  * Words can be converted into mathematical objects\n",
    "  * Word vectors can encode and capture deep relationships in the original text\n",
    "  * Word2Vec is only one way of creating word embeddings\n",
    "  * Existing implementations are available, e.g., SpaCy, gensim, ELMo, fasttext\n",
    " \n",
    "<br>\n",
    "<br>\n",
    "<br>\n",
    "<br>\n",
    "\n",
    "---\n",
    "\n",
    "<p class='attention banner'>Thank you for your time! For any questions or comments, feel free to contact Glenn at <a>glenn.abastillas@gmail.com</a></p>"
   ]
  },
  {
   "cell_type": "markdown",
   "metadata": {},
   "source": [
    "<a id='end'></a>"
   ]
  }
 ],
 "metadata": {
  "kernelspec": {
   "display_name": "Python 3",
   "language": "python",
   "name": "python3"
  },
  "language_info": {
   "codemirror_mode": {
    "name": "ipython",
    "version": 3
   },
   "file_extension": ".py",
   "mimetype": "text/x-python",
   "name": "python",
   "nbconvert_exporter": "python",
   "pygments_lexer": "ipython3",
   "version": "3.6.9"
  }
 },
 "nbformat": 4,
 "nbformat_minor": 2
}
